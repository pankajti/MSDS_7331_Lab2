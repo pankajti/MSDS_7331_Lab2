{
 "cells": [
  {
   "cell_type": "code",
   "execution_count": 2,
   "metadata": {},
   "outputs": [],
   "source": [
    "# Import libraries required for creating models and validating them\n",
    "import pandas as pd\n",
    "import numpy as np\n",
    "import matplotlib.pyplot as plt\n",
    "import seaborn as sns\n",
    "from sklearn.neighbors import KNeighborsClassifier\n",
    "from sklearn.metrics import accuracy_score\n",
    "#from IPython.html import widgets \n",
    "import warnings\n",
    "warnings.filterwarnings('ignore')"
   ]
  },
  {
   "cell_type": "code",
   "execution_count": 4,
   "metadata": {},
   "outputs": [],
   "source": [
    "#Read the data\n",
    "ccdefault=pd.read_csv('../data//UCI_Credit_Card.csv')"
   ]
  },
  {
   "cell_type": "code",
   "execution_count": 5,
   "metadata": {},
   "outputs": [],
   "source": [
    "#rename the columns to clearer names\n",
    "ccdefault.rename(columns={'default.payment.next.month':'DEFAULT'},inplace=True)\n",
    "ccdefault.rename(columns={'PAY_0':'PAY_1'},inplace=True)"
   ]
  },
  {
   "cell_type": "code",
   "execution_count": 6,
   "metadata": {},
   "outputs": [
    {
     "name": "stdout",
     "output_type": "stream",
     "text": [
      "<class 'pandas.core.frame.DataFrame'>\n",
      "RangeIndex: 30000 entries, 0 to 29999\n",
      "Data columns (total 25 columns):\n",
      "ID           30000 non-null int64\n",
      "LIMIT_BAL    30000 non-null float64\n",
      "SEX          30000 non-null int64\n",
      "EDUCATION    30000 non-null int64\n",
      "MARRIAGE     30000 non-null int64\n",
      "AGE          30000 non-null int64\n",
      "PAY_1        30000 non-null int64\n",
      "PAY_2        30000 non-null int64\n",
      "PAY_3        30000 non-null int64\n",
      "PAY_4        30000 non-null int64\n",
      "PAY_5        30000 non-null int64\n",
      "PAY_6        30000 non-null int64\n",
      "BILL_AMT1    30000 non-null float64\n",
      "BILL_AMT2    30000 non-null float64\n",
      "BILL_AMT3    30000 non-null float64\n",
      "BILL_AMT4    30000 non-null float64\n",
      "BILL_AMT5    30000 non-null float64\n",
      "BILL_AMT6    30000 non-null float64\n",
      "PAY_AMT1     30000 non-null float64\n",
      "PAY_AMT2     30000 non-null float64\n",
      "PAY_AMT3     30000 non-null float64\n",
      "PAY_AMT4     30000 non-null float64\n",
      "PAY_AMT5     30000 non-null float64\n",
      "PAY_AMT6     30000 non-null float64\n",
      "DEFAULT      30000 non-null int64\n",
      "dtypes: float64(13), int64(12)\n",
      "memory usage: 5.7 MB\n"
     ]
    }
   ],
   "source": [
    "#Verifying the datatypes in the dataset\n",
    "ccdefault.info()"
   ]
  },
  {
   "cell_type": "code",
   "execution_count": 7,
   "metadata": {},
   "outputs": [
    {
     "name": "stdout",
     "output_type": "stream",
     "text": [
      "StratifiedShuffleSplit(n_splits=5, random_state=10, test_size=0.2,\n",
      "            train_size=0.8)\n",
      "TRAIN: [26296   633  2863 ... 15141 19066  7166] TEST: [ 5469 17052 23411 ... 24675 28588 16031]\n",
      "TRAIN: [17006  5992 28816 ... 10798 22887 23796] TEST: [  683 10937   999 ...   875  4336  2721]\n",
      "TRAIN: [ 5957 25994 14047 ...    53   805 24297] TEST: [14399 23807  6988 ...  9804 17546 23927]\n",
      "TRAIN: [11516  8559 14297 ... 14603 13364    89] TEST: [13759 19809 18958 ... 27816 11181 16164]\n",
      "TRAIN: [ 2233 17193  9866 ... 12371  9657 11083] TEST: [28935 15053 22533 ... 22298  4357 23349]\n"
     ]
    }
   ],
   "source": [
    "cc = ccdefault.copy() # taking a copy in memory\n",
    "from sklearn.model_selection import StratifiedShuffleSplit\n",
    "if 'DEFAULT' in cc:\n",
    "    y = cc['DEFAULT'].values\n",
    "    del cc['DEFAULT']\n",
    "    del cc['BILL_AMT1']\n",
    "    del cc['BILL_AMT2']\n",
    "    del cc['BILL_AMT3']\n",
    "    del cc['BILL_AMT4']\n",
    "    del cc['BILL_AMT5']\n",
    "    del cc['BILL_AMT6']\n",
    "    X = cc.values\n",
    "num_cv_iterations = 5\n",
    "num_instances = len(y)\n",
    "cv_object = StratifiedShuffleSplit(n_splits = num_cv_iterations,\n",
    "test_size = 0.20, train_size = 0.80, random_state=10)\n",
    "cv_object.get_n_splits(X, y)\n",
    "print(cv_object)\n",
    "for train_index, test_index in cv_object.split(X, y):\n",
    "    print(\"TRAIN:\", train_index, \"TEST:\", test_index)\n",
    "    X_train, X_test = X[train_index], X[test_index]\n",
    "    y_train, y_test = y[train_index], y[test_index]"
   ]
  },
  {
   "cell_type": "code",
   "execution_count": 8,
   "metadata": {},
   "outputs": [
    {
     "name": "stdout",
     "output_type": "stream",
     "text": [
      "Accuracy of classifier with 1 neighbors is: 0.6830\n",
      "Accuracy of classifier with 5 neighbors is: 0.7467\n",
      "Accuracy of classifier with 10 neighbors is: 0.7750\n",
      "Accuracy of classifier with 15 neighbors is: 0.7730\n",
      "Accuracy of classifier with 25 neighbors is: 0.7767\n",
      "Accuracy of classifier with 50 neighbors is: 0.7798\n",
      "Accuracy of classifier with 100 neighbors is: 0.7790\n",
      "Accuracy of classifier with 200 neighbors is: 0.7788\n",
      "Max accuracy is for k =  50 neighbors and the accuracy score is  0.7798333333333334 \n"
     ]
    }
   ],
   "source": [
    "#Perform KNN with Euclidean distance as the metric \n",
    "parameters =[1,5,10,15,25,50,100,200]\n",
    "accuracies = []\n",
    "max_acc = 0\n",
    "idx= -1\n",
    "for K in parameters:\n",
    "    clf = KNeighborsClassifier(n_neighbors=K, weights='uniform', metric='euclidean')\n",
    "    clf.fit(X_train, y_train)\n",
    "    acc = clf.score(X_test, y_test)\n",
    "    (max_acc , idx) = (acc, K )if acc> max_acc else (max_acc, idx)\n",
    "    accuracies.append(acc)\n",
    "    print('Accuracy of classifier with %d neighbors is: %.4f'%(K,acc))\n",
    "    \n",
    "\n",
    "print(\"Max accuracy is for k =  {} neighbors and the accuracy score is  {} \".format(idx , max_acc))        "
   ]
  },
  {
   "cell_type": "code",
   "execution_count": 9,
   "metadata": {},
   "outputs": [
    {
     "name": "stdout",
     "output_type": "stream",
     "text": [
      "Accuracy of classifier with 1 neighbors is: 0.6858\n",
      "Accuracy of classifier with 5 neighbors is: 0.7540\n",
      "Accuracy of classifier with 10 neighbors is: 0.7782\n",
      "Accuracy of classifier with 15 neighbors is: 0.7765\n",
      "Accuracy of classifier with 25 neighbors is: 0.7780\n",
      "Accuracy of classifier with 50 neighbors is: 0.7793\n",
      "Accuracy of classifier with 100 neighbors is: 0.7792\n",
      "Accuracy of classifier with 200 neighbors is: 0.7788\n",
      "Max accuracy is for k =  50 neighbors and the accuracy score is  0.7793333333333333 \n"
     ]
    }
   ],
   "source": [
    "#Perform KNN with cosine distance as the metric \n",
    "parameters =[1,5,10,15,25,50,100,200]\n",
    "accuracies = []\n",
    "max_acc = 0\n",
    "idx= -1\n",
    "for K in parameters:\n",
    "    clf = KNeighborsClassifier(n_neighbors=K, weights='uniform', metric='cosine')\n",
    "    clf.fit(X_train, y_train)\n",
    "    acc = clf.score(X_test, y_test)\n",
    "    (max_acc , idx) = (acc, K )if acc> max_acc else (max_acc, idx)\n",
    "    accuracies.append(acc)\n",
    "    print('Accuracy of classifier with %d neighbors is: %.4f'%(K,acc))\n",
    "\n",
    "print(\"Max accuracy is for k =  {} neighbors and the accuracy score is  {} \".format(idx , max_acc))        "
   ]
  },
  {
   "cell_type": "code",
   "execution_count": 10,
   "metadata": {},
   "outputs": [
    {
     "name": "stdout",
     "output_type": "stream",
     "text": [
      "Accuracy of classifier with 1 neighbors is: 0.7260\n",
      "Accuracy of classifier with 5 neighbors is: 0.6635\n",
      "Accuracy of classifier with 10 neighbors is: 0.7533\n",
      "Accuracy of classifier with 15 neighbors is: 0.7640\n",
      "Accuracy of classifier with 25 neighbors is: 0.7493\n",
      "Accuracy of classifier with 50 neighbors is: 0.7648\n",
      "Accuracy of classifier with 100 neighbors is: 0.7673\n",
      "Accuracy of classifier with 200 neighbors is: 0.7658\n",
      "Max accuracy is for k =  100 neighbors and the accuracy score is  0.7673333333333333 \n"
     ]
    }
   ],
   "source": [
    "#Perform KNN with Manhattan distance as the metric \n",
    "parameters =[1,5,10,15,25,50,100,200]\n",
    "accuracies = []\n",
    "max_acc = 0\n",
    "idx= -1\n",
    "for K in parameters:\n",
    "    clf = KNeighborsClassifier(n_neighbors=K, weights='uniform', metric='jaccard')\n",
    "    clf.fit(X_train, y_train)\n",
    "    acc = clf.score(X_test, y_test)\n",
    "    (max_acc , idx) = (acc, K )if acc> max_acc else (max_acc, idx)\n",
    "    accuracies.append(acc)\n",
    "    print('Accuracy of classifier with %d neighbors is: %.4f'%(K,acc))\n",
    "\n",
    "    \n",
    "print(\"Max accuracy is for k =  {} neighbors and the accuracy score is  {} \".format(idx , max_acc))        "
   ]
  },
  {
   "cell_type": "code",
   "execution_count": null,
   "metadata": {},
   "outputs": [],
   "source": []
  }
 ],
 "metadata": {
  "kernelspec": {
   "display_name": "Python 3",
   "language": "python",
   "name": "python3"
  },
  "language_info": {
   "codemirror_mode": {
    "name": "ipython",
    "version": 3
   },
   "file_extension": ".py",
   "mimetype": "text/x-python",
   "name": "python",
   "nbconvert_exporter": "python",
   "pygments_lexer": "ipython3",
   "version": "3.7.4"
  }
 },
 "nbformat": 4,
 "nbformat_minor": 2
}
