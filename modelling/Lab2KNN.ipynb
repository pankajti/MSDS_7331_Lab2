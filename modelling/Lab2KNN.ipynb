{
 "cells": [
  {
   "cell_type": "code",
   "execution_count": 42,
   "metadata": {},
   "outputs": [],
   "source": [
    "# Import libraries required for creating models and validating them\n",
    "import pandas as pd\n",
    "import numpy as np\n",
    "import matplotlib.pyplot as plt\n",
    "import seaborn as sns\n",
    "from sklearn.neighbors import KNeighborsClassifier\n",
    "from sklearn.metrics import accuracy_score\n",
    "from IPython.html import widgets \n",
    "import warnings\n",
    "warnings.filterwarnings('ignore')"
   ]
  },
  {
   "cell_type": "code",
   "execution_count": 43,
   "metadata": {},
   "outputs": [],
   "source": [
    "#Read the data\n",
    "ccdefault=pd.read_csv('./UCI_Credit_Card.csv')"
   ]
  },
  {
   "cell_type": "code",
   "execution_count": 44,
   "metadata": {},
   "outputs": [],
   "source": [
    "#rename the columns to clearer names\n",
    "ccdefault.rename(columns={'default.payment.next.month':'DEFAULT'},inplace=True)\n",
    "ccdefault.rename(columns={'PAY_0':'PAY_1'},inplace=True)"
   ]
  },
  {
   "cell_type": "code",
   "execution_count": 45,
   "metadata": {},
   "outputs": [
    {
     "name": "stdout",
     "output_type": "stream",
     "text": [
      "<class 'pandas.core.frame.DataFrame'>\n",
      "RangeIndex: 30000 entries, 0 to 29999\n",
      "Data columns (total 25 columns):\n",
      "ID           30000 non-null int64\n",
      "LIMIT_BAL    30000 non-null float64\n",
      "SEX          30000 non-null int64\n",
      "EDUCATION    30000 non-null int64\n",
      "MARRIAGE     30000 non-null int64\n",
      "AGE          30000 non-null int64\n",
      "PAY_1        30000 non-null int64\n",
      "PAY_2        30000 non-null int64\n",
      "PAY_3        30000 non-null int64\n",
      "PAY_4        30000 non-null int64\n",
      "PAY_5        30000 non-null int64\n",
      "PAY_6        30000 non-null int64\n",
      "BILL_AMT1    30000 non-null float64\n",
      "BILL_AMT2    30000 non-null float64\n",
      "BILL_AMT3    30000 non-null float64\n",
      "BILL_AMT4    30000 non-null float64\n",
      "BILL_AMT5    30000 non-null float64\n",
      "BILL_AMT6    30000 non-null float64\n",
      "PAY_AMT1     30000 non-null float64\n",
      "PAY_AMT2     30000 non-null float64\n",
      "PAY_AMT3     30000 non-null float64\n",
      "PAY_AMT4     30000 non-null float64\n",
      "PAY_AMT5     30000 non-null float64\n",
      "PAY_AMT6     30000 non-null float64\n",
      "DEFAULT      30000 non-null int64\n",
      "dtypes: float64(13), int64(12)\n",
      "memory usage: 5.7 MB\n"
     ]
    }
   ],
   "source": [
    "#Verifying the datatypes in the dataset\n",
    "ccdefault.info()"
   ]
  },
  {
   "cell_type": "code",
   "execution_count": 46,
   "metadata": {},
   "outputs": [
    {
     "name": "stdout",
     "output_type": "stream",
     "text": [
      "StratifiedShuffleSplit(n_splits=5, random_state=11, test_size=0.2,\n",
      "            train_size=0.8)\n",
      "TRAIN: [28976 29616 20315 ...  6063 16283 15621] TEST: [ 6669  6830 16516 ... 16163  1990  7999]\n",
      "TRAIN: [11237  9898 17028 ...  1265   611  7250] TEST: [ 4174 19421 15502 ... 19995  6124 25090]\n",
      "TRAIN: [23721 14143  5492 ...  4346  5119 23351] TEST: [21778  4074 19546 ...   941 14061 13584]\n",
      "TRAIN: [19706  2009 13912 ...  3924 20112 21366] TEST: [ 7136 15572 21097 ... 24126  8440  7078]\n",
      "TRAIN: [ 5794  1831 15948 ... 18673 15962 17274] TEST: [17565 28798 29978 ... 10151 11434 21212]\n"
     ]
    }
   ],
   "source": [
    "#Cleaning of data after EDA\n",
    "cc = ccdefault.copy() # taking a copy in memory\n",
    "from sklearn.model_selection import StratifiedShuffleSplit\n",
    "if 'DEFAULT' in cc:\n",
    "    y = cc['DEFAULT'].values\n",
    "    del cc['DEFAULT']\n",
    "    del cc['BILL_AMT1']\n",
    "    del cc['BILL_AMT2']\n",
    "    del cc['BILL_AMT3']\n",
    "    del cc['BILL_AMT4']\n",
    "    del cc['BILL_AMT5']\n",
    "    del cc['BILL_AMT6']\n",
    "    X = cc.values\n",
    "num_cv_iterations = 5\n",
    "num_instances = len(y)\n",
    "cv_object = StratifiedShuffleSplit(n_splits = num_cv_iterations,\n",
    "test_size = 0.20, train_size = 0.80, random_state=11)\n",
    "cv_object.get_n_splits(X, y)\n",
    "print(cv_object)\n",
    "for train_index, test_index in cv_object.split(X, y):\n",
    "    print(\"TRAIN:\", train_index, \"TEST:\", test_index)\n",
    "    X_train, X_test = X[train_index], X[test_index]\n",
    "    y_train, y_test = y[train_index], y[test_index]"
   ]
  },
  {
   "cell_type": "code",
   "execution_count": null,
   "metadata": {},
   "outputs": [],
   "source": [
    "for train_index, test_index in cv_object.split(X, y):\n",
    "    print(\"TRAIN:\", train_index, \"TEST:\", test_index)\n",
    "    X_train, X_test = X[train_index], X[test_index]\n",
    "    y_train, y_test = y[train_index], y[test_index]"
   ]
  },
  {
   "cell_type": "code",
   "execution_count": 47,
   "metadata": {},
   "outputs": [
    {
     "name": "stdout",
     "output_type": "stream",
     "text": [
      "Iteration 0\n",
      "Accuracy of classifier with 5 neighbors is: 0.7527\n",
      "Accuracy of classifier with 10 neighbors is: 0.7740\n",
      "Accuracy of classifier with 25 neighbors is: 0.7763\n",
      "Accuracy of classifier with 50 neighbors is: 0.7798\n",
      "Accuracy of classifier with 100 neighbors is: 0.7787\n",
      "Accuracy of classifier with 200 neighbors is: 0.7788\n",
      "Accuracy of classifier with 500 neighbors is: 0.7788\n",
      "Iteration 1\n",
      "Accuracy of classifier with 5 neighbors is: 0.7527\n",
      "Accuracy of classifier with 10 neighbors is: 0.7740\n",
      "Accuracy of classifier with 25 neighbors is: 0.7763\n",
      "Accuracy of classifier with 50 neighbors is: 0.7798\n",
      "Accuracy of classifier with 100 neighbors is: 0.7787\n",
      "Accuracy of classifier with 200 neighbors is: 0.7788\n",
      "Accuracy of classifier with 500 neighbors is: 0.7788\n",
      "Iteration 2\n",
      "Accuracy of classifier with 5 neighbors is: 0.7527\n",
      "Accuracy of classifier with 10 neighbors is: 0.7740\n",
      "Accuracy of classifier with 25 neighbors is: 0.7763\n",
      "Accuracy of classifier with 50 neighbors is: 0.7798\n",
      "Accuracy of classifier with 100 neighbors is: 0.7787\n",
      "Accuracy of classifier with 200 neighbors is: 0.7788\n",
      "Accuracy of classifier with 500 neighbors is: 0.7788\n",
      "Iteration 3\n",
      "Accuracy of classifier with 5 neighbors is: 0.7527\n",
      "Accuracy of classifier with 10 neighbors is: 0.7740\n",
      "Accuracy of classifier with 25 neighbors is: 0.7763\n",
      "Accuracy of classifier with 50 neighbors is: 0.7798\n",
      "Accuracy of classifier with 100 neighbors is: 0.7787\n",
      "Accuracy of classifier with 200 neighbors is: 0.7788\n",
      "Accuracy of classifier with 500 neighbors is: 0.7788\n",
      "Iteration 4\n",
      "Accuracy of classifier with 5 neighbors is: 0.7527\n",
      "Accuracy of classifier with 10 neighbors is: 0.7740\n",
      "Accuracy of classifier with 25 neighbors is: 0.7763\n",
      "Accuracy of classifier with 50 neighbors is: 0.7798\n",
      "Accuracy of classifier with 100 neighbors is: 0.7787\n",
      "Accuracy of classifier with 200 neighbors is: 0.7788\n",
      "Accuracy of classifier with 500 neighbors is: 0.7788\n",
      "Max accuracy is for k =  50 neighbors and the accuracy score is  0.7798333333333334 \n"
     ]
    }
   ],
   "source": [
    "#Perform KNN with Euclidean distance as the metric \n",
    "parameters =[5,10,25,50,100,200,500]\n",
    "accuracies = []\n",
    "max_acc = 0\n",
    "idx= -1\n",
    "iter_num=0\n",
    "for train_index, test_index in cv_object.split(X, y):\n",
    "    print(\"Iteration\", iter_num)\n",
    "    iter_num+=1\n",
    "    for K in parameters:\n",
    "        clf = KNeighborsClassifier(n_neighbors=K, weights='uniform', metric='euclidean')\n",
    "        clf.fit(X_train, y_train)\n",
    "        acc = clf.score(X_test, y_test)\n",
    "        (max_acc , idx) = (acc, K )if acc> max_acc else (max_acc, idx)\n",
    "        accuracies.append(acc)\n",
    "        print('Accuracy of classifier with %d neighbors is: %.4f'%(K,acc))\n",
    "        \n",
    "       \n",
    "\n",
    "print(\"Max accuracy is for k =  {} neighbors and the accuracy score is  {} \".format(idx , max_acc))   "
   ]
  },
  {
   "cell_type": "code",
   "execution_count": 48,
   "metadata": {
    "scrolled": true
   },
   "outputs": [
    {
     "name": "stdout",
     "output_type": "stream",
     "text": [
      "Iteration 0\n",
      "Accuracy of classifier with 5 neighbors is: 0.7540\n",
      "Accuracy of classifier with 10 neighbors is: 0.7772\n",
      "Accuracy of classifier with 25 neighbors is: 0.7788\n",
      "Accuracy of classifier with 50 neighbors is: 0.7797\n",
      "Accuracy of classifier with 100 neighbors is: 0.7788\n",
      "Accuracy of classifier with 200 neighbors is: 0.7788\n",
      "Accuracy of classifier with 500 neighbors is: 0.7788\n",
      "Iteration 1\n",
      "Accuracy of classifier with 5 neighbors is: 0.7540\n",
      "Accuracy of classifier with 10 neighbors is: 0.7772\n",
      "Accuracy of classifier with 25 neighbors is: 0.7788\n",
      "Accuracy of classifier with 50 neighbors is: 0.7797\n",
      "Accuracy of classifier with 100 neighbors is: 0.7788\n",
      "Accuracy of classifier with 200 neighbors is: 0.7788\n",
      "Accuracy of classifier with 500 neighbors is: 0.7788\n",
      "Iteration 2\n",
      "Accuracy of classifier with 5 neighbors is: 0.7540\n",
      "Accuracy of classifier with 10 neighbors is: 0.7772\n",
      "Accuracy of classifier with 25 neighbors is: 0.7788\n",
      "Accuracy of classifier with 50 neighbors is: 0.7797\n",
      "Accuracy of classifier with 100 neighbors is: 0.7788\n",
      "Accuracy of classifier with 200 neighbors is: 0.7788\n",
      "Accuracy of classifier with 500 neighbors is: 0.7788\n",
      "Iteration 3\n",
      "Accuracy of classifier with 5 neighbors is: 0.7540\n",
      "Accuracy of classifier with 10 neighbors is: 0.7772\n",
      "Accuracy of classifier with 25 neighbors is: 0.7788\n",
      "Accuracy of classifier with 50 neighbors is: 0.7797\n",
      "Accuracy of classifier with 100 neighbors is: 0.7788\n",
      "Accuracy of classifier with 200 neighbors is: 0.7788\n",
      "Accuracy of classifier with 500 neighbors is: 0.7788\n",
      "Iteration 4\n",
      "Accuracy of classifier with 5 neighbors is: 0.7540\n",
      "Accuracy of classifier with 10 neighbors is: 0.7772\n",
      "Accuracy of classifier with 25 neighbors is: 0.7788\n",
      "Accuracy of classifier with 50 neighbors is: 0.7797\n",
      "Accuracy of classifier with 100 neighbors is: 0.7788\n",
      "Accuracy of classifier with 200 neighbors is: 0.7788\n",
      "Accuracy of classifier with 500 neighbors is: 0.7788\n",
      "Max accuracy is for k =  50 neighbors and the accuracy score is  0.7796666666666666 \n"
     ]
    }
   ],
   "source": [
    "#Perform KNN with cosine distance as the metric \n",
    "parameters =[5,10,25,50,100,200,500]\n",
    "accuracies = []\n",
    "max_acc = 0\n",
    "idx= -1\n",
    "iter_num=0\n",
    "for train_index, test_index in cv_object.split(X, y):\n",
    "    print(\"Iteration\", iter_num)\n",
    "    iter_num+=1\n",
    "    for K in parameters:\n",
    "        clf = KNeighborsClassifier(n_neighbors=K, weights='uniform', metric='cosine')\n",
    "        clf.fit(X_train, y_train)\n",
    "        acc = clf.score(X_test, y_test)\n",
    "        (max_acc , idx) = (acc, K )if acc> max_acc else (max_acc, idx)\n",
    "        accuracies.append(acc)\n",
    "        print('Accuracy of classifier with %d neighbors is: %.4f'%(K,acc))\n",
    "\n",
    "print(\"Max accuracy is for k =  {} neighbors and the accuracy score is  {} \".format(idx , max_acc))        "
   ]
  },
  {
   "cell_type": "code",
   "execution_count": null,
   "metadata": {},
   "outputs": [
    {
     "name": "stdout",
     "output_type": "stream",
     "text": [
      "Iteration 0\n",
      "Accuracy of classifier with 5 neighbors is: 0.7480\n",
      "Accuracy of classifier with 10 neighbors is: 0.7743\n",
      "Accuracy of classifier with 25 neighbors is: 0.7762\n",
      "Accuracy of classifier with 50 neighbors is: 0.7800\n"
     ]
    }
   ],
   "source": [
    "#Perform KNN with Manhattan distance as the metric \n",
    "parameters =[5,10,25,50,100,200,500]\n",
    "accuracies = []\n",
    "max_acc = 0\n",
    "idx= -1\n",
    "iter_num=0\n",
    "for train_index, test_index in cv_object.split(X, y):\n",
    "    print(\"Iteration\", iter_num)\n",
    "    iter_num+=1\n",
    "    for K in parameters:\n",
    "        clf = KNeighborsClassifier(n_neighbors=K, weights='uniform', metric='manhattan')\n",
    "        clf.fit(X_train, y_train)\n",
    "        acc = clf.score(X_test, y_test)\n",
    "        (max_acc , idx) = (acc, K )if acc> max_acc else (max_acc, idx)\n",
    "        accuracies.append(acc)\n",
    "        print('Accuracy of classifier with %d neighbors is: %.4f'%(K,acc))\n",
    "\n",
    "    \n",
    "print(\"Max accuracy is for k =  {} neighbors and the accuracy score is  {} \".format(idx , max_acc))        "
   ]
  },
  {
   "cell_type": "markdown",
   "metadata": {},
   "source": [
    "### References\n",
    "Discussion on relevance of distance metric\n",
    "https://www.ncbi.nlm.nih.gov/pmc/articles/PMC4978658/"
   ]
  },
  {
   "cell_type": "code",
   "execution_count": null,
   "metadata": {},
   "outputs": [],
   "source": []
  }
 ],
 "metadata": {
  "kernelspec": {
   "display_name": "Python 3",
   "language": "python",
   "name": "python3"
  },
  "language_info": {
   "codemirror_mode": {
    "name": "ipython",
    "version": 3
   },
   "file_extension": ".py",
   "mimetype": "text/x-python",
   "name": "python",
   "nbconvert_exporter": "python",
   "pygments_lexer": "ipython3",
   "version": "3.7.3"
  }
 },
 "nbformat": 4,
 "nbformat_minor": 2
}
