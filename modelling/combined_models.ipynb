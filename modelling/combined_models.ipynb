{
 "cells": [
  {
   "cell_type": "code",
   "execution_count": 147,
   "metadata": {},
   "outputs": [],
   "source": [
    "import pandas as pd\n",
    "import numpy as np\n",
    "import matplotlib.pyplot as plt\n",
    "import seaborn as sns\n",
    "from sklearn import svm\n",
    "from sklearn.metrics import accuracy_score \n",
    "from sklearn.metrics import confusion_matrix\n",
    "import warnings\n",
    "from sklearn import preprocessing\n",
    "from sklearn.model_selection import train_test_split\n",
    "from sklearn import metrics as mt\n",
    "import statsmodels.api as sm\n",
    "from time import time\n",
    "warnings.filterwarnings('ignore')\n",
    "from IPython.display import Image\n",
    "from sklearn.preprocessing import StandardScaler\n",
    "from sklearn.model_selection import StratifiedShuffleSplit\n",
    "from sklearn.ensemble import RandomForestClassifier\n",
    "from sklearn.tree import DecisionTreeClassifier\n",
    "from sklearn.neighbors import KNeighborsClassifier\n",
    "from yellowbrick.model_selection import FeatureImportances\n",
    "from yellowbrick.classifier import PrecisionRecallCurve\n",
    "from yellowbrick.classifier import ROCAUC\n",
    "from yellowbrick.classifier import ClassificationReport\n",
    "from yellowbrick.classifier import ConfusionMatrix\n",
    "from sklearn.metrics import recall_score\n",
    "from sklearn.tree import DecisionTreeRegressor\n",
    "from sklearn.ensemble import RandomForestRegressor\n"
   ]
  },
  {
   "cell_type": "code",
   "execution_count": 148,
   "metadata": {},
   "outputs": [],
   "source": [
    "ccdefault=pd.read_csv('../data//UCI_Credit_Card.csv')\n",
    "ccdefault.rename(columns={'default.payment.next.month':'DEFAULT'},inplace=True)\n",
    "ccdefault.rename(columns={'PAY_0':'PAY_1'},inplace=True)"
   ]
  },
  {
   "cell_type": "code",
   "execution_count": 149,
   "metadata": {
    "scrolled": false
   },
   "outputs": [
    {
     "name": "stdout",
     "output_type": "stream",
     "text": [
      "<class 'pandas.core.frame.DataFrame'>\n",
      "RangeIndex: 30000 entries, 0 to 29999\n",
      "Data columns (total 25 columns):\n",
      "ID           30000 non-null int64\n",
      "LIMIT_BAL    30000 non-null float64\n",
      "SEX          30000 non-null int64\n",
      "EDUCATION    30000 non-null int64\n",
      "MARRIAGE     30000 non-null int64\n",
      "AGE          30000 non-null int64\n",
      "PAY_1        30000 non-null int64\n",
      "PAY_2        30000 non-null int64\n",
      "PAY_3        30000 non-null int64\n",
      "PAY_4        30000 non-null int64\n",
      "PAY_5        30000 non-null int64\n",
      "PAY_6        30000 non-null int64\n",
      "BILL_AMT1    30000 non-null float64\n",
      "BILL_AMT2    30000 non-null float64\n",
      "BILL_AMT3    30000 non-null float64\n",
      "BILL_AMT4    30000 non-null float64\n",
      "BILL_AMT5    30000 non-null float64\n",
      "BILL_AMT6    30000 non-null float64\n",
      "PAY_AMT1     30000 non-null float64\n",
      "PAY_AMT2     30000 non-null float64\n",
      "PAY_AMT3     30000 non-null float64\n",
      "PAY_AMT4     30000 non-null float64\n",
      "PAY_AMT5     30000 non-null float64\n",
      "PAY_AMT6     30000 non-null float64\n",
      "DEFAULT      30000 non-null int64\n",
      "dtypes: float64(13), int64(12)\n",
      "memory usage: 5.7 MB\n"
     ]
    }
   ],
   "source": [
    "ccdefault.info()"
   ]
  },
  {
   "cell_type": "code",
   "execution_count": 150,
   "metadata": {
    "scrolled": true
   },
   "outputs": [
    {
     "name": "stdout",
     "output_type": "stream",
     "text": [
      "StratifiedShuffleSplit(n_splits=5, random_state=11, test_size=0.2,\n",
      "            train_size=0.8)\n",
      "TRAIN: [28976 29616 20315 ...  6063 16283 15621] TEST: [ 6669  6830 16516 ... 16163  1990  7999]\n",
      "TRAIN: [11237  9898 17028 ...  1265   611  7250] TEST: [ 4174 19421 15502 ... 19995  6124 25090]\n",
      "TRAIN: [23721 14143  5492 ...  4346  5119 23351] TEST: [21778  4074 19546 ...   941 14061 13584]\n",
      "TRAIN: [19706  2009 13912 ...  3924 20112 21366] TEST: [ 7136 15572 21097 ... 24126  8440  7078]\n",
      "TRAIN: [ 5794  1831 15948 ... 18673 15962 17274] TEST: [17565 28798 29978 ... 10151 11434 21212]\n"
     ]
    }
   ],
   "source": [
    "cc = ccdefault.copy() # taking a copy in memory\n",
    "if 'DEFAULT' in cc:\n",
    "    y = cc['DEFAULT'].values\n",
    "    del cc['DEFAULT']\n",
    "    del cc['ID']\n",
    "    del cc['BILL_AMT1']\n",
    "    del cc['BILL_AMT2']\n",
    "    del cc['BILL_AMT3']\n",
    "    del cc['BILL_AMT4']\n",
    "    del cc['BILL_AMT5']\n",
    "    del cc['BILL_AMT6']\n",
    "    X = cc.values\n",
    "num_cv_iterations = 5\n",
    "num_instances = len(y)\n",
    "cv_object = StratifiedShuffleSplit(n_splits = num_cv_iterations,\n",
    "test_size = 0.20, train_size = 0.80, random_state=11)\n",
    "cv_object.get_n_splits(X, y)\n",
    "print(cv_object)\n",
    "for train_index, test_index in cv_object.split(X, y):\n",
    "    print(\"TRAIN:\", train_index, \"TEST:\", test_index)\n",
    "    X_train, X_test = X[train_index], X[test_index]\n",
    "    y_train, y_test = y[train_index], y[test_index]"
   ]
  },
  {
   "cell_type": "code",
   "execution_count": 151,
   "metadata": {
    "scrolled": true
   },
   "outputs": [
    {
     "name": "stdout",
     "output_type": "stream",
     "text": [
      "ShuffleSplit(n_splits=5, random_state=11, test_size=0.2, train_size=0.8)\n",
      "TRAIN: [10574  1826 26458 ... 21584  3775 10137] TEST: [16131 22502  9281 ...  2302 20117  5325]\n",
      "TRAIN: [14312  5621  9756 ... 14795  1761 10411] TEST: [23990 12026 18018 ... 18504  3826 22997]\n",
      "TRAIN: [24613 18862  7514 ...  9825 21800  7223] TEST: [25751  1408  2329 ... 13731  9430 17834]\n",
      "TRAIN: [ 5199 22129  7059 ... 26445 16174 28119] TEST: [ 1736 20903   973 ... 24406 27021 16104]\n",
      "TRAIN: [11485 26551  2766 ...  9370 20203 25639] TEST: [18873  8061  1602 ... 17926 20760   999]\n"
     ]
    }
   ],
   "source": [
    "\n",
    "\n",
    "from sklearn.model_selection import ShuffleSplit\n",
    "\n",
    "mcc = ccdefault.copy()\n",
    "# Y Response variable dataframe\n",
    "y_reg = mcc['PAY_AMT1'].values\n",
    "# Features with no predictive features with respect to resposne variable\n",
    "mcredit = mcc.drop(['PAY_AMT1'],axis=1)\n",
    "# Create inci_X Explanatory Variables DF to support the individual models\n",
    "mcc_X = mcredit\n",
    "del mcc_X['DEFAULT']\n",
    "del mcc_X['ID']\n",
    "del mcc_X['BILL_AMT1']\n",
    "del mcc_X['BILL_AMT2']\n",
    "del mcc_X['BILL_AMT3']\n",
    "del mcc_X['BILL_AMT4']\n",
    "del mcc_X['BILL_AMT5']\n",
    "del mcc_X['BILL_AMT6']\n",
    "\n",
    "X_reg = mcc_X.values\n",
    "num_cv_iterations = 5\n",
    "num_instances = len(y_reg)\n",
    "cv_object_reg = ShuffleSplit(n_splits = num_cv_iterations,\n",
    "test_size = 0.20, train_size = 0.80, random_state=11)\n",
    "cv_object_reg.get_n_splits(X_reg, y_reg)\n",
    "print(cv_object_reg)\n",
    "for train_index, test_index in cv_object_reg.split(X_reg, y_reg):\n",
    "    print(\"TRAIN:\", train_index, \"TEST:\", test_index)\n",
    "    X_reg_train, X_reg_test = X_reg[train_index], X_reg[test_index]\n",
    "    y_reg_train, y_reg_test = y_reg[train_index], y_reg[test_index]"
   ]
  },
  {
   "cell_type": "code",
   "execution_count": 152,
   "metadata": {},
   "outputs": [],
   "source": [
    "scl_obj = StandardScaler()\n",
    "scl_obj.fit(X_train) # find scalings for each column that make this zero mean and unit std\n",
    "# the line of code above only looks at training data to get mean and std and we can use it \n",
    "# to transform new feature data\n",
    "X_train_scaled = scl_obj.transform(X_train) # apply to training\n",
    "X_test_scaled = scl_obj.transform(X_test) # apply those means and std to the test set (without snooping at the test set values)"
   ]
  },
  {
   "cell_type": "markdown",
   "metadata": {},
   "source": [
    "## Modeling and Evaluation 3 \n",
    "We planned to use 3 models for our classification. Random forest , Decision tree and KNN. \n",
    "\n",
    "### Classification Models "
   ]
  },
  {
   "cell_type": "markdown",
   "metadata": {},
   "source": [
    "#### Random Forest model \n",
    "\n",
    "Random forest is an ensempble technique that uses set of decision trees to handle classification problem. It uses random vectors to choose features absed on which it creates decision trees. Classification is done with each of these decision trees and then a majority vote is taken to decide final class. \n",
    "Following images gives an overview  of decision tree algo. "
   ]
  },
  {
   "cell_type": "code",
   "execution_count": 153,
   "metadata": {},
   "outputs": [
    {
     "data": {
      "text/html": [
       "<img src=\"../images/random_forest_tan.png\"/>"
      ],
      "text/plain": [
       "<IPython.core.display.Image object>"
      ]
     },
     "execution_count": 153,
     "metadata": {},
     "output_type": "execute_result"
    }
   ],
   "source": [
    "Image(url ='../images/random_forest_tan.png')"
   ]
  },
  {
   "cell_type": "code",
   "execution_count": null,
   "metadata": {
    "scrolled": false
   },
   "outputs": [
    {
     "name": "stdout",
     "output_type": "stream",
     "text": [
      "The time it takes to fit and predict for iteration 0  is 0.8315548896789551 recall is 0.599118039448347 \n",
      "classification report for iteration 0 with improved recall 0.599118039448347 \n"
     ]
    },
    {
     "data": {
      "image/png": "[encoded data removed]",
      "text/plain": [
       "<Figure size 432x288 with 2 Axes>"
      ]
     },
     "metadata": {
      "needs_background": "light"
     },
     "output_type": "display_data"
    },
    {
     "name": "stdout",
     "output_type": "stream",
     "text": [
      "The time it takes to fit and predict for iteration 1  is 0.7693910598754883 recall is 0.5883447391587678 \n",
      "The time it takes to fit and predict for iteration 2  is 0.8119082450866699 recall is 0.588772729742975 \n",
      "The time it takes to fit and predict for iteration 3  is 0.8394620418548584 recall is 0.5957223357062029 \n",
      "The time it takes to fit and predict for iteration 4  is 0.7733480930328369 recall is 0.6042440894484195 \n",
      "classification report for iteration 4 with improved recall 0.6042440894484195 \n"
     ]
    },
    {
     "data": {
      "image/png": "[encoded data removed]",
      "text/plain": [
       "<Figure size 432x288 with 2 Axes>"
      ]
     },
     "metadata": {
      "needs_background": "light"
     },
     "output_type": "display_data"
    },
    {
     "name": "stdout",
     "output_type": "stream",
     "text": [
      "The time it takes to fit and predict for iteration 5  is 7.168600082397461 recall is 0.7132571937976521 \n",
      "classification report for iteration 5 with improved recall 0.7132571937976521 \n"
     ]
    },
    {
     "data": {
      "image/png": "[encoded data removed]",
      "text/plain": [
       "<Figure size 432x288 with 2 Axes>"
      ]
     },
     "metadata": {
      "needs_background": "light"
     },
     "output_type": "display_data"
    },
    {
     "name": "stdout",
     "output_type": "stream",
     "text": [
      "The time it takes to fit and predict for iteration 6  is 6.641535043716431 recall is 0.7022646571858313 \n",
      "The time it takes to fit and predict for iteration 7  is 7.176965713500977 recall is 0.7017624858673606 \n",
      "The time it takes to fit and predict for iteration 8  is 8.094079971313477 recall is 0.7017532939068106 \n",
      "The time it takes to fit and predict for iteration 9  is 9.220934867858887 recall is 0.7088098975160904 \n",
      "The time it takes to fit and predict for iteration 10  is 52.42469811439514 recall is 0.6592547480910959 \n",
      "The time it takes to fit and predict for iteration 11  is 91.5639419555664 recall is 0.658728951821387 \n",
      "The time it takes to fit and predict for iteration 12  is 46.044820070266724 recall is 0.6502163900397205 \n",
      "The time it takes to fit and predict for iteration 13  is 34.29901075363159 recall is 0.6613152792477299 \n",
      "The time it takes to fit and predict for iteration 14  is 33.97368812561035 recall is 0.6639016066740729 \n",
      "The time it takes to fit and predict for iteration 15  is 1.02870512008667 recall is 0.708074701934553 \n",
      "The time it takes to fit and predict for iteration 16  is 0.9961330890655518 recall is 0.6943842442700624 \n",
      "The time it takes to fit and predict for iteration 17  is 1.008216142654419 recall is 0.697049993460807 \n",
      "The time it takes to fit and predict for iteration 18  is 1.0104267597198486 recall is 0.6916121424831292 \n",
      "The time it takes to fit and predict for iteration 19  is 1.0087919235229492 recall is 0.7027576365437519 \n",
      "The time it takes to fit and predict for iteration 20  is 8.681679964065552 recall is 0.6533843105489359 \n",
      "The time it takes to fit and predict for iteration 21  is 10.026996374130249 recall is 0.6541424860318483 \n",
      "The time it takes to fit and predict for iteration 22  is 13.205191135406494 recall is 0.6470858824225686 \n",
      "The time it takes to fit and predict for iteration 23  is 10.065041065216064 recall is 0.6521003387963143 \n",
      "The time it takes to fit and predict for iteration 24  is 8.711051940917969 recall is 0.6585149565292834 \n",
      "The time it takes to fit and predict for iteration 25  is 30.435252904891968 recall is 0.7173513252791333 \n",
      "classification report for iteration 25 with improved recall 0.7173513252791333 \n"
     ]
    },
    {
     "data": {
      "image/png": "[encoded data removed]",
      "text/plain": [
       "<Figure size 432x288 with 2 Axes>"
      ]
     },
     "metadata": {
      "needs_background": "light"
     },
     "output_type": "display_data"
    },
    {
     "name": "stdout",
     "output_type": "stream",
     "text": [
      "The time it takes to fit and predict for iteration 26  is 26.98775601387024 recall is 0.6996461578975632 \n",
      "The time it takes to fit and predict for iteration 27  is 27.529770851135254 recall is 0.7018051397895622 \n",
      "The time it takes to fit and predict for iteration 28  is 27.688963890075684 recall is 0.7011165490606381 \n",
      "The time it takes to fit and predict for iteration 29  is 26.43986988067627 recall is 0.7038610749659212 \n",
      "The time it takes to fit and predict for iteration 30  is 0.8355720043182373 recall is 0.599118039448347 \n",
      "The time it takes to fit and predict for iteration 31  is 0.7911570072174072 recall is 0.5883447391587678 \n",
      "The time it takes to fit and predict for iteration 32  is 0.8061349391937256 recall is 0.588772729742975 \n",
      "The time it takes to fit and predict for iteration 33  is 0.7960939407348633 recall is 0.5957223357062029 \n",
      "The time it takes to fit and predict for iteration 34  is 0.7983648777008057 recall is 0.6042440894484195 \n",
      "The time it takes to fit and predict for iteration 35  is 7.397090911865234 recall is 0.7132571937976521 \n",
      "The time it takes to fit and predict for iteration 36  is 7.469132661819458 recall is 0.7022646571858313 \n",
      "The time it takes to fit and predict for iteration 37  is 7.615856170654297 recall is 0.7017624858673606 \n",
      "The time it takes to fit and predict for iteration 38  is 7.8379950523376465 recall is 0.7017532939068106 \n",
      "The time it takes to fit and predict for iteration 39  is 7.299550771713257 recall is 0.7088098975160904 \n",
      "The time it takes to fit and predict for iteration 40  is 23.388449907302856 recall is 0.6592547480910959 \n",
      "The time it takes to fit and predict for iteration 41  is 23.66011905670166 recall is 0.658728951821387 \n",
      "The time it takes to fit and predict for iteration 42  is 25.788726091384888 recall is 0.6502163900397205 \n",
      "The time it takes to fit and predict for iteration 43  is 24.506962060928345 recall is 0.6613152792477299 \n",
      "The time it takes to fit and predict for iteration 44  is 23.654061794281006 recall is 0.6639016066740729 \n",
      "The time it takes to fit and predict for iteration 45  is 0.7395782470703125 recall is 0.708074701934553 \n",
      "The time it takes to fit and predict for iteration 46  is 0.7380821704864502 recall is 0.6943842442700624 \n",
      "The time it takes to fit and predict for iteration 47  is 0.7319109439849854 recall is 0.697049993460807 \n",
      "The time it takes to fit and predict for iteration 48  is 0.7298781871795654 recall is 0.6916121424831292 \n",
      "The time it takes to fit and predict for iteration 49  is 0.7948369979858398 recall is 0.7027576365437519 \n",
      "The time it takes to fit and predict for iteration 50  is 7.2591259479522705 recall is 0.6533843105489359 \n",
      "The time it takes to fit and predict for iteration 51  is 6.815014839172363 recall is 0.6541424860318483 \n",
      "The time it takes to fit and predict for iteration 52  is 6.960089206695557 recall is 0.6470858824225686 \n",
      "The time it takes to fit and predict for iteration 53  is 6.589982032775879 recall is 0.6521003387963143 \n",
      "The time it takes to fit and predict for iteration 54  is 6.666738986968994 recall is 0.6585149565292834 \n",
      "The time it takes to fit and predict for iteration 55  is 23.62979507446289 recall is 0.7173513252791333 \n",
      "The time it takes to fit and predict for iteration 56  is 24.515394687652588 recall is 0.6996461578975632 \n",
      "The time it takes to fit and predict for iteration 57  is 23.834125995635986 recall is 0.7018051397895622 \n",
      "The time it takes to fit and predict for iteration 58  is 24.096625089645386 recall is 0.7011165490606381 \n",
      "The time it takes to fit and predict for iteration 59  is 24.609776973724365 recall is 0.7038610749659212 \n",
      "The time it takes to fit and predict for iteration 60  is 0.8809590339660645 recall is 0.599118039448347 \n",
      "The time it takes to fit and predict for iteration 61  is 0.7892730236053467 recall is 0.5883447391587678 \n",
      "The time it takes to fit and predict for iteration 62  is 0.7982578277587891 recall is 0.588772729742975 \n",
      "The time it takes to fit and predict for iteration 63  is 0.7631869316101074 recall is 0.5957223357062029 \n",
      "The time it takes to fit and predict for iteration 64  is 0.8195230960845947 recall is 0.6042440894484195 \n",
      "The time it takes to fit and predict for iteration 65  is 7.1942689418792725 recall is 0.7132571937976521 \n",
      "The time it takes to fit and predict for iteration 66  is 6.948487997055054 recall is 0.7022646571858313 \n",
      "The time it takes to fit and predict for iteration 67  is 6.975785970687866 recall is 0.7017624858673606 \n",
      "The time it takes to fit and predict for iteration 68  is 6.797554969787598 recall is 0.7017532939068106 \n",
      "The time it takes to fit and predict for iteration 69  is 6.676645994186401 recall is 0.7088098975160904 \n",
      "The time it takes to fit and predict for iteration 70  is 23.941149950027466 recall is 0.6592547480910959 \n",
      "The time it takes to fit and predict for iteration 71  is 24.54388189315796 recall is 0.658728951821387 \n"
     ]
    }
   ],
   "source": [
    "## Random Forest classifiers models with different parameters \n",
    "\n",
    "iter_num=0\n",
    "times_rec=[]\n",
    " \n",
    "rf_max_acc = 0\n",
    "rf_max_recal = 0\n",
    "rf_trn_idx_max_acc = []\n",
    "rf_tst_idx_max_acc  = []\n",
    "rf_estimator_for_max = 0\n",
    "rf_max_depth_max = 0\n",
    "rf_class_weight_max = None\n",
    "\n",
    "#for loop \n",
    "estimators = [100,   500, 1000]\n",
    "max_depths = [2,5,10]\n",
    "class_weights = [None , 'balanced']\n",
    "for estimator , max_depth , class_weight in zip(estimators*len(max_depths)*len(class_weights) ,\n",
    "             max_depths*len(class_weights)*len(estimators),\n",
    "             class_weights*len(max_depths)*len(estimators)):\n",
    "    for train_indices, test_indices in cv_object.split(X,y): \n",
    "        X_train = X[train_indices]\n",
    "        y_train = y[train_indices] \n",
    "        X_test = X[test_indices]\n",
    "        y_test = y[test_indices]\n",
    "\n",
    "         #we count the time in executing the logistic regression\n",
    "        t0 = time()\n",
    "        random_forest = RandomForestClassifier(n_estimators=estimator, max_depth=max_depth, class_weight= class_weight,\n",
    "                                               random_state=0)\n",
    "\n",
    "        random_forest.fit(X_train,y_train)  # train object\n",
    "        y_hat = random_forest.predict(X_test) # get test set precitions\n",
    "\n",
    "        t1=time()\n",
    "        diff=np.array([t1-t0])\n",
    "\n",
    "        times_rec=np.append(times_rec,diff)\n",
    "\n",
    "\n",
    "        # now let's get the accuracy and confusion matrix for this iterations of training/testing\n",
    "        acc = mt.accuracy_score(y_test,y_hat)\n",
    "        rcl = recall_score(y_test, y_hat, average='macro') \n",
    "        print (\"The time it takes to fit and predict for iteration {}  is {} recall is {} \".format(iter_num, diff[0],\n",
    "                                                                                                   rcl)) \n",
    "\n",
    "        #if acc > rf_max_acc :\n",
    "        if rcl > rf_max_recal:\n",
    "            #rf_max_acc = acc\n",
    "            rf_max_recal = rcl\n",
    "            rf_trn_idx_max_acc = train_indices\n",
    "            rf_tst_idx_max_acc  = test_indices\n",
    "            rf_estimator_for_max = estimator\n",
    "            rf_max_depth_max = max_depth\n",
    "            rf_class_weight_max = class_weight\n",
    "            \n",
    "            print (\"classification report for iteration {} with improved recall {} \".format(iter_num, rcl))\n",
    "            rf_cl_reporter = ClassificationReport(random_forest, classes=['non_default' , 'default'], support=True)\n",
    "            rf_cl_reporter.fit(X_train, y_train)        # Fit the visualizer and the model\n",
    "            rf_cl_reporter.score(X_test, y_test)        # Evaluate the model on the test data\n",
    "            rf_cl_reporter.show()   \n",
    "\n",
    "\n",
    "        iter_num+=1    "
   ]
  },
  {
   "cell_type": "markdown",
   "metadata": {},
   "source": [
    "#### Random forest with class_weight = balanced \n",
    "In above section we explored random forest with default parameters. Default parameters has 100 estimators and max_depth value 2 also used default class weight wich gives equal weight to each of the classes. However in the cases where claases are unbalanced we need to adjust weight of the classes so that they are properly represented. for example in our case we have two classes default and non default and each class will get equal weight. However "
   ]
  },
  {
   "cell_type": "markdown",
   "metadata": {},
   "source": [
    "####  Decision Tree classifiers \n",
    "\n",
    "We need to create some more  models by adjusting n_estimators and max_depth parameters. Also we need to  create one models with class_weight='balanced'"
   ]
  },
  {
   "cell_type": "code",
   "execution_count": null,
   "metadata": {},
   "outputs": [],
   "source": [
    "Image(url ='../images/decision_tree_tan.png')"
   ]
  },
  {
   "cell_type": "code",
   "execution_count": null,
   "metadata": {},
   "outputs": [],
   "source": [
    "## Decision tree classifiers \n",
    "\n",
    "iter_num=0\n",
    "times_rec=[]\n",
    "decision_tree_classifiers = dict()\n",
    "random_forest_classifiers = dict()\n",
    "\n",
    "class_weights = [None , 'balanced']\n",
    "dt_max_acc = 0\n",
    "dt_max_recall = 0\n",
    "dt_trn_idx_max_acc =[]\n",
    "dt_tst_idx_max_acc = []\n",
    "dt_class_weight_for_max = []\n",
    "\n",
    "for class_weight in class_weights:\n",
    "    for train_indices, test_indices in cv_object.split(X,y): \n",
    "        X_train = X[train_indices]\n",
    "        y_train = y[train_indices]\n",
    "        X_test = X[test_indices]\n",
    "        y_test = y[test_indices]\n",
    "\n",
    "         #we count the time in executing the logistic regression\n",
    "        t0 = time()\n",
    "        decision_tree = DecisionTreeClassifier(class_weight = class_weight)\n",
    "        decision_tree.fit(X_train,y_train)  # train object\n",
    "        y_hat = decision_tree.predict(X_test) # get test set precitions\n",
    "        t1=time()\n",
    "        diff=np.array([t1-t0])\n",
    "\n",
    "        print (\"The time it takes to fit and predict for iteration {}  is {} \".format(iter_num, diff[0])) \n",
    "        times_rec=np.append(times_rec,diff)\n",
    "\n",
    "\n",
    "        # now let's get the accuracy , recall and confusion matrix for this iterations of training/testing\n",
    "        acc = mt.accuracy_score(y_test,y_hat)\n",
    "        rcl = recall_score(y_test, y_hat, average='macro') \n",
    "\n",
    "        #if acc> dt_max_acc:\n",
    "        if rcl> dt_max_recall:\n",
    "            #dt_max_acc = acc\n",
    "            dt_max_recall = rcl\n",
    "            dt_trn_idx_max_acc = train_indices\n",
    "            dt_tst_idx_max_acc = test_indices\n",
    "            dt_class_weight_for_max = class_weight\n",
    "            conf = mt.confusion_matrix(y_test,y_hat)\n",
    "            print (\"classification report for iteration {} \".format(iter_num))\n",
    "\n",
    "            dt_cl_reporter = ClassificationReport(decision_tree, classes=['non_default' , 'default'], support=True)\n",
    "            dt_cl_reporter.fit(X_train, y_train)        # Fit the visualizer and the model\n",
    "            dt_cl_reporter.score(X_test, y_test)        # Evaluate the model on the test data\n",
    "            dt_cl_reporter.show()  \n",
    "\n",
    "       \n",
    "        iter_num+=1\n",
    "    "
   ]
  },
  {
   "cell_type": "markdown",
   "metadata": {},
   "source": [
    "#### Decision tree with balanced class \n",
    "class weight impacts decison tree classifier as well and we "
   ]
  },
  {
   "cell_type": "markdown",
   "metadata": {},
   "source": [
    "#### KNN \n",
    "TBD "
   ]
  },
  {
   "cell_type": "code",
   "execution_count": null,
   "metadata": {
    "scrolled": false
   },
   "outputs": [],
   "source": [
    "parameters = [10, 20, 50, 100]\n",
    "max_acc=0\n",
    "for K in parameters:\n",
    "    print(\"For k = \", K, \"and metric = Euclidean: \")\n",
    "    knn = KNeighborsClassifier(n_neighbors=K, weights='uniform', metric='euclidean')\n",
    "    knn.fit(X_train_scaled,y_train)\n",
    "    y_hat = knn.predict(X_test_scaled)\n",
    "    acc = mt.accuracy_score(y_test,y_hat)\n",
    "    conf = mt.confusion_matrix(y_test,y_hat)\n",
    "    print('accuracy:', acc )\n",
    "    print(conf)\n",
    "    ClassReport = mt.classification_report(y_test,y_hat)\n",
    "    print(ClassReport)\n",
    "    max_acc = (acc) if acc>max_acc else (max_acc)\n",
    "    \n",
    "    print (\"classification report for iteration {} \".format(iter_num))\n",
    "    knn_cl_reporter = ClassificationReport(knn, classes=['non_default' , 'default'], support=True)\n",
    "\n",
    "    knn_cl_reporter.fit(X_train, y_train)        # Fit the visualizer and the model\n",
    "    knn_cl_reporter.score(X_test, y_test)        # Evaluate the model on the test data\n",
    "    knn_cl_reporter.show()  \n",
    "\n",
    "    pr_curve = PrecisionRecallCurve(knn)\n",
    "    pr_curve.fit(X_train, y_train)\n",
    "    pr_curve.score(X_test, y_test)\n",
    "    pr_curve.show()\n",
    "\n",
    "    roc_curve = ROCAUC(knn, classes=[\"not_default\", \"default\"])\n",
    "\n",
    "    roc_curve.fit(X_train, y_train)        # Fit the training data to the visualizer\n",
    "    roc_curve.score(X_test, y_test)        # Evaluate the model on the test data\n",
    "    roc_curve.show() \n",
    "\n",
    "    cm = ConfusionMatrix(knn, classes=['not default' , 'default'])\n",
    "    # Fit fits the passed model. This is unnecessary if you pass the visualizer a pre-fitted model\n",
    "    cm.fit(X_train, y_train)\n",
    "    # To create the ConfusionMatrix, we need some test data. Score runs predict() on the data\n",
    "    # and then creates the confusion_matrix from scikit-learn.\n",
    "    cm.score(X_test, y_test)\n",
    "    # How did we do?\n",
    "    cm.show()\n",
    "    \n",
    "#print(max_acc)    "
   ]
  },
  {
   "cell_type": "markdown",
   "metadata": {},
   "source": [
    "### Regression Models "
   ]
  },
  {
   "cell_type": "markdown",
   "metadata": {},
   "source": [
    "#### Random Forest Regession "
   ]
  },
  {
   "cell_type": "code",
   "execution_count": null,
   "metadata": {
    "scrolled": false
   },
   "outputs": [],
   "source": [
    "## Random forest regression models with different parameters \n",
    "\n",
    "iter_num=0\n",
    "times_rec=[]\n",
    " \n",
    "rf_reg_max_score = 0\n",
    "rf_reg_trn_idx_max_acc = []\n",
    "rf_reg_tst_idx_max_acc  = []\n",
    "rf_reg_estimator_for_max = 0\n",
    "rf_reg_max_depth_max = 0\n",
    "\n",
    "#for loop \n",
    "estimators = [100, 500, 1000]\n",
    "max_depths = [2, 10]\n",
    "for estimator , max_depth  in zip(estimators*len(max_depths),max_depths* len(estimators)):\n",
    "    for train_index, test_index in cv_object_reg.split(X_reg,y_reg): \n",
    "        X_reg_train, X_reg_test = X_reg[train_index], X_reg[test_index]\n",
    "        y_reg_train, y_reg_test = y_reg[train_index], y_reg[test_index]\n",
    "         \n",
    "        \n",
    "         #we count the time in executing the logistic regression\n",
    "        t0 = time()\n",
    "        random_forest = RandomForestRegressor(n_estimators=estimator, max_depth=max_depth, \n",
    "                                              random_state=0)\n",
    "        random_forest.fit(X_reg_train,y_reg_train)  # train object\n",
    "        y_reg_hat = random_forest.predict(X_reg_test) # get test set precitions\n",
    "        t1=time()\n",
    "        diff=np.array([t1-t0])\n",
    "        times_rec=np.append(times_rec,diff)\n",
    "        # now let's get the accuracy and confusion matrix for this iterations of training/testing\n",
    "        score = random_forest.score(X_reg_test,y_reg_test)\n",
    "        print (\"The time it takes to fit and predict for iteration {} is {} score is {} \".format(iter_num, diff[0],score)) \n",
    "        if score > rf_reg_max_score :\n",
    "            rf_reg_trn_idx_max_acc = train_index\n",
    "            rf_reg_tst_idx_max_acc = test_index\n",
    "            rf_reg_estimator_for_max = estimator\n",
    "            rf_reg_max_depth_max = max_depth\n",
    "            \n",
    "        iter_num+=1\n",
    "        \n",
    "    "
   ]
  },
  {
   "cell_type": "markdown",
   "metadata": {},
   "source": [
    "####  Decision Tree Regession "
   ]
  },
  {
   "cell_type": "code",
   "execution_count": null,
   "metadata": {},
   "outputs": [],
   "source": [
    "iter_num=0\n",
    "times_rec=[]\n",
    " \n",
    "dt_reg_max_acc = 0\n",
    "dt_reg_trn_idx_max_acc = []\n",
    "dt_reg_tst_idx_max_acc  = []\n",
    "dt_reg_max_depth_max = 0\n",
    "\n",
    "#for loop \n",
    "estimators = [100,  1000]\n",
    "max_depths = [2,10]\n",
    "for   max_depth  in max_depths:\n",
    "    for test_index, test_index in cv_object_reg.split(X_reg,y_reg): \n",
    "        X_reg_train, X_reg_test = X_reg[train_index], X_reg[test_index]\n",
    "        y_reg_train, y_reg_test = y_reg[train_index], y_reg[test_index]\n",
    "         \n",
    "         #we count the time in executing the logistic regression\n",
    "        t0 = time()\n",
    "        decision_tree = DecisionTreeRegressor(max_depth=max_depth, \n",
    "                                              random_state=0)\n",
    "        decision_tree.fit(X_reg_train,y_reg_train)  # train object\n",
    "        y_reg_hat = decision_tree.predict(X_reg_test) # get test set precitions\n",
    "        t1=time()\n",
    "        diff=np.array([t1-t0])\n",
    "        times_rec=np.append(times_rec,diff)\n",
    "        # now let's get the accuracy and confusion matrix for this iterations of training/testing\n",
    "        score = decision_tree.score(X_reg_test,y_reg_test)\n",
    "        \n",
    "        print (\"The time it takes to fit and predict for iteration {} is {} score is {} \".format(iter_num, diff[0],score)) \n",
    "        \n",
    "        if dt_reg_max_acc> score:\n",
    "            dt_reg_trn_idx_max_acc = train_index\n",
    "            dt_reg_tst_idx_max_acc = test_index\n",
    "            dt_reg_max_depth_max = max_depth\n",
    "        iter_num+=1"
   ]
  },
  {
   "cell_type": "markdown",
   "metadata": {},
   "source": [
    "#### KNN Regession "
   ]
  },
  {
   "cell_type": "code",
   "execution_count": null,
   "metadata": {},
   "outputs": [],
   "source": []
  },
  {
   "cell_type": "markdown",
   "metadata": {},
   "source": [
    "## Modeling and Evaluation 4\n",
    "We can give some details from the graphs created in previous section and explain those "
   ]
  },
  {
   "cell_type": "markdown",
   "metadata": {},
   "source": [
    "## Classification Tasks "
   ]
  },
  {
   "cell_type": "markdown",
   "metadata": {},
   "source": [
    "#### Random Forest \n",
    "Random Forest gives \n",
    "Analysis of Random forst with the best estimate "
   ]
  },
  {
   "cell_type": "code",
   "execution_count": null,
   "metadata": {
    "scrolled": true
   },
   "outputs": [],
   "source": [
    "t0 = time()\n",
    "\n",
    "\n",
    "X_train, X_test = X[rf_trn_idx_max_acc], X[rf_tst_idx_max_acc]\n",
    "y_train, y_test = y[rf_trn_idx_max_acc], y[rf_tst_idx_max_acc]\n",
    "\n",
    "print ('running model for max accuracy {}'.format(rf_max_acc))\n",
    "print('parameters for the model with best accuracy is num_estimators {} , max_depth {} and class_weight'.format(\n",
    "    rf_estimator_for_max, rf_max_depth_max,  rf_class_weight_max))\n",
    "\n",
    "random_forest = RandomForestClassifier(n_estimators=rf_estimator_for_max, max_depth=rf_max_depth_max,\n",
    "                         random_state=0, class_weight = rf_class_weight_max)\n",
    "\n",
    "\n",
    "random_forest.fit(X_train,y_train)  # train object\n",
    "y_hat = random_forest.predict(X_test) # get test set precitions\n",
    "\n",
    "t1=time()\n",
    "diff=np.array([t1-t0])\n",
    "\n",
    "print (\"The time it takes to fit and predict for iteration {}  is {} \".format(iter_num, diff[0])) \n",
    "times_rec=np.append(times_rec,diff)\n",
    "\n",
    "\n",
    "# now let's get the accuracy and confusion matrix for this iterations of training/testing\n",
    "acc = mt.accuracy_score(y_test,y_hat)\n",
    "conf = mt.confusion_matrix(y_test,y_hat)\n",
    "print (\"classification report for iteration {} \".format(iter_num))\n",
    "\n",
    "rf_cl_reporter = ClassificationReport(random_forest, classes=['non_default' , 'default'], support=True)\n",
    "\n",
    "rf_cl_reporter.fit(X_train, y_train)        # Fit the visualizer and the model\n",
    "rf_cl_reporter.score(X_test, y_test)        # Evaluate the model on the test data\n",
    "rf_cl_reporter.show()   \n",
    "\n",
    "pr_curve = PrecisionRecallCurve(random_forest)\n",
    "pr_curve.fit(X_train, y_train)\n",
    "pr_curve.score(X_test, y_test)\n",
    "pr_curve.show()\n",
    "\n",
    "\n",
    "roc_curve = ROCAUC(random_forest, classes=[\"not_default\", \"default\"])\n",
    "roc_curve.fit(X_train, y_train)        # Fit the training data to the visualizer\n",
    "roc_curve.score(X_test, y_test)        # Evaluate the model on the test data\n",
    "roc_curve.show() \n",
    "\n",
    "\n",
    "cm = ConfusionMatrix(random_forest, classes=['not default' , 'default'])\n",
    "# Fit fits the passed model. This is unnecessary if you pass the visualizer a pre-fitted model\n",
    "cm.fit(X_train, y_train)\n",
    "# To create the ConfusionMatrix, we need some test data. Score runs predict() on the data\n",
    "# and then creates the confusion_matrix from scikit-learn.\n",
    "cm.score(X_test, y_test)\n",
    "# How did we do?\n",
    "cm.show()"
   ]
  },
  {
   "cell_type": "markdown",
   "metadata": {},
   "source": [
    "#### Decision Tree "
   ]
  },
  {
   "cell_type": "code",
   "execution_count": null,
   "metadata": {
    "scrolled": false
   },
   "outputs": [],
   "source": [
    "t0 = time()\n",
    "\n",
    "print('Running model for max decision tree accuracy model {}'.format(dt_max_acc  ))\n",
    " \n",
    "print('Parameters for decision tree for max accuracy class_weight {}'.format(dt_class_weight_for_max  ))\n",
    "\n",
    "\n",
    "X_train, X_test = X[dt_trn_idx_max_acc], X[dt_tst_idx_max_acc]\n",
    "y_train, y_test = y[dt_trn_idx_max_acc], y[dt_tst_idx_max_acc]\n",
    "     \n",
    "decision_tree = DecisionTreeClassifier(class_weight = dt_class_weight_for_max)\n",
    "\n",
    "decision_tree.fit(X_train,y_train)  # train object\n",
    "y_hat = decision_tree.predict(X_test) # get test set precitions\n",
    "\n",
    "t1=time()\n",
    "diff=np.array([t1-t0])\n",
    "print (\"The time it takes to fit and predict for iteration {}  is {} \".format(iter_num, diff[0])) \n",
    "times_rec=np.append(times_rec,diff)\n",
    "# now let's get the accuracy and confusion matrix for this iterations of training/testing\n",
    "acc = mt.accuracy_score(y_test,y_hat)\n",
    "print(\"accurancy for balanced class is {}\".format(acc))\n",
    "conf = mt.confusion_matrix(y_test,y_hat)\n",
    "print (\"classification report for iteration {} \".format(iter_num))\n",
    "dt_cl_reporter = ClassificationReport(decision_tree, classes=['non_default' , 'default'], support=True)\n",
    "\n",
    "dt_cl_reporter.fit(X_train, y_train)        # Fit the visualizer and the model\n",
    "dt_cl_reporter.score(X_test, y_test)        # Evaluate the model on the test data\n",
    "dt_cl_reporter.show()  \n",
    "\n",
    "pr_curve = PrecisionRecallCurve(decision_tree)\n",
    "pr_curve.fit(X_train, y_train)\n",
    "pr_curve.score(X_test, y_test)\n",
    "pr_curve.show()\n",
    "\n",
    "roc_curve = ROCAUC(decision_tree, classes=[\"not_default\", \"default\"])\n",
    "\n",
    "roc_curve.fit(X_train, y_train)        # Fit the training data to the visualizer\n",
    "roc_curve.score(X_test, y_test)        # Evaluate the model on the test data\n",
    "roc_curve.show() \n",
    "\n",
    "cm = ConfusionMatrix(decision_tree, classes=['not default' , 'default'])\n",
    "# Fit fits the passed model. This is unnecessary if you pass the visualizer a pre-fitted model\n",
    "cm.fit(X_train, y_train)\n",
    "# To create the ConfusionMatrix, we need some test data. Score runs predict() on the data\n",
    "# and then creates the confusion_matrix from scikit-learn.\n",
    "cm.score(X_test, y_test)\n",
    "# How did we do?\n",
    "cm.show()\n",
    "\n",
    "iter_num+=1"
   ]
  },
  {
   "cell_type": "markdown",
   "metadata": {},
   "source": [
    "As we can see from above "
   ]
  },
  {
   "cell_type": "markdown",
   "metadata": {},
   "source": [
    "####  KNN "
   ]
  },
  {
   "cell_type": "code",
   "execution_count": null,
   "metadata": {},
   "outputs": [],
   "source": []
  },
  {
   "cell_type": "markdown",
   "metadata": {},
   "source": [
    "### Regression Tasks "
   ]
  },
  {
   "cell_type": "markdown",
   "metadata": {},
   "source": [
    "<TODO > evaluation tasks for regression "
   ]
  },
  {
   "cell_type": "markdown",
   "metadata": {},
   "source": [
    "## Modeling and Evaluation 5\n",
    "\n",
    "Following is a Comparison of Decision Tree and Random forest classifiers with same date. We are using error estimates to compare two models. The error estimates should follow Gaussian distribution. We calculate mean and standard error using the formula discussed in the class. \n",
    "<TODO add image and formula >\n",
    "    We are caclulating confidence interval for error differences to figure out if the differences are significant\n",
    "  We can add similar test for knn , decision tree and knn and random forest comparison \n"
   ]
  },
  {
   "cell_type": "markdown",
   "metadata": {},
   "source": [
    "### Decision Tree and Random Forest Comparision based on error rate \n",
    "\n",
    "Our model comparison is based on following formula. \n",
    "We compare d bar by taking averedge  of the differences of the error rates of the models in different folds using same training set data."
   ]
  },
  {
   "cell_type": "code",
   "execution_count": null,
   "metadata": {},
   "outputs": [],
   "source": [
    "Image(url ='../images/model_comparison.png')"
   ]
  },
  {
   "cell_type": "code",
   "execution_count": null,
   "metadata": {},
   "outputs": [],
   "source": [
    "iter_num=0\n",
    "times_rec=[]\n",
    "error_rec= [] \n",
    "for train_indices, test_indices in cv_object.split(X,y): \n",
    "    X_train = X[train_indices]\n",
    "    y_train = y[train_indices]\n",
    "    X_test = X[test_indices]\n",
    "    y_test = y[test_indices]\n",
    "    \n",
    "    decision_tree = DecisionTreeClassifier()\n",
    "    decision_tree.fit(X_train,y_train) # train object\n",
    "    \n",
    "    random_forest = RandomForestClassifier(n_estimators=100, max_depth=2,\n",
    "                             random_state=0)\n",
    "    random_forest.fit(X_train,y_train) \n",
    "    \n",
    "    y_hat_dt = decision_tree.predict(X_test) \n",
    "    y_hat_rf = random_forest.predict(X_test) \n",
    "\n",
    "    # now let's get the accuracy and confusion matrix for this iterations of training/testing\n",
    "    acc_dt = mt.accuracy_score(y_test,y_hat_dt)\n",
    "    acc_rf = mt.accuracy_score(y_test,y_hat_rf)\n",
    "    error_rec.append(acc_dt - acc_rf)\n",
    "\n",
    "    iter_num+=1\n",
    "\n",
    "print(error_rec)\n",
    "\n",
    "d_bar = sum(error_rec)/len(error_rec)\n",
    "siqma_squared = sum((error_rec - d_bar))/(5-1)\n",
    "print(d_bar)\n",
    "print(siqma_squared)\n",
    "\n",
    "from scipy import stats\n",
    "import math\n",
    "\n",
    "confidence_interval = ( d_bar + (1/math.sqrt(4))*stats.t.isf(.975, 4),  d_bar - (1/math.sqrt(4))*stats.t.isf(.975, 4))\n",
    "print(confidence_interval)"
   ]
  },
  {
   "cell_type": "markdown",
   "metadata": {},
   "source": [
    "As we can see above tht zero is a possible value for 95% confidence interval it means that we can't reject the null hypothesis that both the models have no difference in their error rate with 95% confidence."
   ]
  },
  {
   "cell_type": "markdown",
   "metadata": {},
   "source": [
    "###  KNN  and Random Forest Comparision based on error rate "
   ]
  },
  {
   "cell_type": "code",
   "execution_count": null,
   "metadata": {},
   "outputs": [],
   "source": [
    "iter_num=0\n",
    "times_rec=[]\n",
    "error_rec= [] \n",
    "for train_indices, test_indices in cv_object.split(X,y): \n",
    "    X_train = X[train_indices]\n",
    "    y_train = y[train_indices]\n",
    "    X_test = X[test_indices]\n",
    "    y_test = y[test_indices]\n",
    "    \n",
    "    knn = KNeighborsClassifier(n_neighbors=5, weights='uniform', metric='euclidean')\n",
    "    knn.fit(X_train,y_train) # train object\n",
    "    \n",
    "    random_forest = RandomForestClassifier(n_estimators=100, max_depth=2,\n",
    "                             random_state=0)\n",
    "    random_forest.fit(X_train,y_train) \n",
    "    \n",
    "    y_hat_knn = knn.predict(X_test) \n",
    "    y_hat_rf = random_forest.predict(X_test) \n",
    "\n",
    "    # now let's get the accuracy and confusion matrix for this iterations of training/testing\n",
    "    acc_knn = mt.accuracy_score(y_test,y_hat_knn)\n",
    "    acc_rf = mt.accuracy_score(y_test,y_hat_rf)\n",
    "    error_rec.append(acc_knn - acc_rf)\n",
    "\n",
    "    iter_num+=1\n",
    "\n",
    "print(error_rec)\n",
    "\n",
    "d_bar = sum(error_rec)/len(error_rec)\n",
    "siqma_squared = sum((error_rec - d_bar))/(5-1)\n",
    "print(d_bar)\n",
    "print(siqma_squared)\n",
    "\n",
    "from scipy import stats\n",
    "import math\n",
    "\n",
    "confidence_interval = ( d_bar + (1/math.sqrt(4))*stats.t.isf(.975, 4),  d_bar - (1/math.sqrt(4))*stats.t.isf(.975, 4))\n",
    "print(confidence_interval)"
   ]
  },
  {
   "cell_type": "markdown",
   "metadata": {},
   "source": [
    "## Modeling and Evaluation 6\n",
    "\n",
    "We 'll be checking feature importance for our best performing model in this section. "
   ]
  },
  {
   "cell_type": "markdown",
   "metadata": {},
   "source": [
    "### Random Forest "
   ]
  },
  {
   "cell_type": "markdown",
   "metadata": {},
   "source": [
    "Feature importance for best performing  random forest model"
   ]
  },
  {
   "cell_type": "code",
   "execution_count": null,
   "metadata": {
    "scrolled": true
   },
   "outputs": [],
   "source": [
    "iter_num=0\n",
    "times_rec=[]\n",
    "\n",
    "X_train, X_test = X[rf_trn_idx_max_acc], X[rf_tst_idx_max_acc]\n",
    "y_train, y_test = y[rf_trn_idx_max_acc], y[rf_tst_idx_max_acc]\n",
    " #we count the time in executing the logistic regression\n",
    "t0 = time()\n",
    "random_forest = RandomForestClassifier(n_estimators=rf_estimator_for_max, max_depth=rf_max_depth_max,\n",
    "                         random_state=0, class_weight = rf_class_weight_max)\n",
    "viz = FeatureImportances(random_forest, labels = cc.columns)\n",
    "viz.fit(X_train_scaled,y_train)\n",
    "viz.show()"
   ]
  },
  {
   "cell_type": "markdown",
   "metadata": {},
   "source": [
    "### Decision Tree \n",
    "\n",
    "Feature importance for best performing  random forest model"
   ]
  },
  {
   "cell_type": "code",
   "execution_count": null,
   "metadata": {
    "scrolled": true
   },
   "outputs": [],
   "source": [
    "iter_num=0\n",
    "times_rec=[]\n",
    "X_train, X_test = X[dt_trn_idx_max_acc], X[dt_tst_idx_max_acc]\n",
    "y_train, y_test = y[dt_trn_idx_max_acc], y[dt_tst_idx_max_acc]\n",
    "     \n",
    "decision_tree = DecisionTreeClassifier(class_weight = dt_class_weight_for_max)\n",
    "    \n",
    " #we count the time in executing the logistic regression\n",
    "t0 = time()\n",
    "random_forest = DecisionTreeClassifier()\n",
    "viz = FeatureImportances(decision_tree, labels = cc.columns)\n",
    "viz.fit(X_train,y_train)\n",
    "viz.show()"
   ]
  },
  {
   "cell_type": "markdown",
   "metadata": {},
   "source": [
    "### KNN \n",
    "\n",
    "In case of knn there is no output for feature importance. We run into following error when we attempt to draw graph in same way in which we did for decision tree and random forest. \n",
    "In case of KNN we use particular metric to determine proximity of nodes and cluster them accordingly. The distnace is measured based on the difference between corresponding features."
   ]
  },
  {
   "cell_type": "code",
   "execution_count": null,
   "metadata": {},
   "outputs": [],
   "source": [
    "iter_num=0\n",
    "times_rec=[]\n",
    " \n",
    "\n",
    "for train_indices, test_indices in cv_object.split(X,y): \n",
    "    X_train = X[train_indices]\n",
    "    y_train = y[train_indices] \n",
    "    X_test = X[test_indices]\n",
    "    y_test = y[test_indices]\n",
    "    \n",
    "     #we count the time in executing the logistic regression\n",
    "    t0 = time()\n",
    "    knn = KNeighborsClassifier(n_neighbors=5, weights='uniform', metric='euclidean')\n",
    "    #viz = FeatureImportances(knn, labels = cc.columns)\n",
    "    #viz.fit(X_train_scaled,y_train)\n",
    "    #viz.show()"
   ]
  },
  {
   "cell_type": "code",
   "execution_count": null,
   "metadata": {},
   "outputs": [],
   "source": []
  }
 ],
 "metadata": {
  "kernelspec": {
   "display_name": "Python 3",
   "language": "python",
   "name": "python3"
  },
  "language_info": {
   "codemirror_mode": {
    "name": "ipython",
    "version": 3
   },
   "file_extension": ".py",
   "mimetype": "text/x-python",
   "name": "python",
   "nbconvert_exporter": "python",
   "pygments_lexer": "ipython3",
   "version": "3.7.4"
  }
 },
 "nbformat": 4,
 "nbformat_minor": 2
}
