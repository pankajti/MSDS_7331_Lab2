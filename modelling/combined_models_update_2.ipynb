{
 "cells": [
  {
   "cell_type": "code",
   "execution_count": 65,
   "metadata": {},
   "outputs": [],
   "source": [
    "import pandas as pd\n",
    "import numpy as np\n",
    "import matplotlib.pyplot as plt\n",
    "import seaborn as sns\n",
    "from sklearn import svm\n",
    "from sklearn.metrics import accuracy_score \n",
    "from sklearn.metrics import confusion_matrix\n",
    "import warnings\n",
    "from sklearn import preprocessing\n",
    "from sklearn.model_selection import train_test_split\n",
    "from sklearn import metrics as mt\n",
    "import statsmodels.api as sm\n",
    "from time import time\n",
    "warnings.filterwarnings('ignore')\n",
    "from IPython.display import Image\n",
    "from sklearn.preprocessing import StandardScaler\n",
    "from sklearn.model_selection import StratifiedShuffleSplit\n",
    "from sklearn.ensemble import RandomForestClassifier\n",
    "from sklearn.tree import DecisionTreeClassifier\n",
    "from sklearn.neighbors import KNeighborsClassifier\n",
    "from yellowbrick.model_selection import FeatureImportances\n",
    "from yellowbrick.classifier import PrecisionRecallCurve\n",
    "from yellowbrick.classifier import ROCAUC\n",
    "from yellowbrick.classifier import ClassificationReport\n",
    "from yellowbrick.classifier import ConfusionMatrix\n",
    "from sklearn.metrics import recall_score\n",
    "from sklearn.tree import DecisionTreeRegressor\n",
    "from sklearn.ensemble import RandomForestRegressor\n",
    "from sklearn.model_selection import ShuffleSplit\n",
    "from yellowbrick.regressor import ResidualsPlot\n",
    "from yellowbrick.regressor import PredictionError\n",
    "from yellowbrick.regressor import AlphaSelection\n",
    "from sklearn.neighbors import NearestNeighbors\n",
    "from sklearn.neighbors import KNeighborsRegressor\n"
   ]
  },
  {
   "cell_type": "code",
   "execution_count": 66,
   "metadata": {},
   "outputs": [],
   "source": [
    "#ccdefault=pd.read_csv('../data//UCI_Credit_Card.csv')\n",
    "#Ryan running on local comp:\n",
    "ccdefault=pd.read_csv('UCI_Credit_Card.csv')\n",
    "ccdefault.rename(columns={'default.payment.next.month':'DEFAULT'},inplace=True)\n",
    "ccdefault.rename(columns={'PAY_0':'PAY_1'},inplace=True)\n",
    "num_cv_iterations = 5"
   ]
  },
  {
   "cell_type": "code",
   "execution_count": 67,
   "metadata": {
    "scrolled": false
   },
   "outputs": [
    {
     "name": "stdout",
     "output_type": "stream",
     "text": [
      "<class 'pandas.core.frame.DataFrame'>\n",
      "RangeIndex: 30000 entries, 0 to 29999\n",
      "Data columns (total 25 columns):\n",
      "ID           30000 non-null int64\n",
      "LIMIT_BAL    30000 non-null float64\n",
      "SEX          30000 non-null int64\n",
      "EDUCATION    30000 non-null int64\n",
      "MARRIAGE     30000 non-null int64\n",
      "AGE          30000 non-null int64\n",
      "PAY_1        30000 non-null int64\n",
      "PAY_2        30000 non-null int64\n",
      "PAY_3        30000 non-null int64\n",
      "PAY_4        30000 non-null int64\n",
      "PAY_5        30000 non-null int64\n",
      "PAY_6        30000 non-null int64\n",
      "BILL_AMT1    30000 non-null float64\n",
      "BILL_AMT2    30000 non-null float64\n",
      "BILL_AMT3    30000 non-null float64\n",
      "BILL_AMT4    30000 non-null float64\n",
      "BILL_AMT5    30000 non-null float64\n",
      "BILL_AMT6    30000 non-null float64\n",
      "PAY_AMT1     30000 non-null float64\n",
      "PAY_AMT2     30000 non-null float64\n",
      "PAY_AMT3     30000 non-null float64\n",
      "PAY_AMT4     30000 non-null float64\n",
      "PAY_AMT5     30000 non-null float64\n",
      "PAY_AMT6     30000 non-null float64\n",
      "DEFAULT      30000 non-null int64\n",
      "dtypes: float64(13), int64(12)\n",
      "memory usage: 5.7 MB\n"
     ]
    }
   ],
   "source": [
    "ccdefault.info()"
   ]
  },
  {
   "cell_type": "markdown",
   "metadata": {},
   "source": [
    "#### Preparing Data for Classification. \n",
    "Using DEFAULT as response variable for classification"
   ]
  },
  {
   "cell_type": "code",
   "execution_count": 68,
   "metadata": {
    "scrolled": true
   },
   "outputs": [
    {
     "name": "stdout",
     "output_type": "stream",
     "text": [
      "StratifiedShuffleSplit(n_splits=5, random_state=11, test_size=0.2,\n",
      "            train_size=0.8)\n",
      "TRAIN: [28976 29616 20315 ...  6063 16283 15621] TEST: [ 6669  6830 16516 ... 16163  1990  7999]\n",
      "TRAIN: [11237  9898 17028 ...  1265   611  7250] TEST: [ 4174 19421 15502 ... 19995  6124 25090]\n",
      "TRAIN: [23721 14143  5492 ...  4346  5119 23351] TEST: [21778  4074 19546 ...   941 14061 13584]\n",
      "TRAIN: [19706  2009 13912 ...  3924 20112 21366] TEST: [ 7136 15572 21097 ... 24126  8440  7078]\n",
      "TRAIN: [ 5794  1831 15948 ... 18673 15962 17274] TEST: [17565 28798 29978 ... 10151 11434 21212]\n"
     ]
    }
   ],
   "source": [
    "cc = ccdefault.copy() # taking a copy in memory\n",
    "if 'DEFAULT' in cc:\n",
    "    y = cc['DEFAULT'].values\n",
    "    del cc['DEFAULT']\n",
    "    del cc['ID']\n",
    "    del cc['BILL_AMT1']\n",
    "    del cc['BILL_AMT2']\n",
    "    del cc['BILL_AMT3']\n",
    "    del cc['BILL_AMT4']\n",
    "    del cc['BILL_AMT5']\n",
    "    del cc['BILL_AMT6']\n",
    "    X = cc.values\n",
    "num_cv_iterations = 5\n",
    "num_instances = len(y)\n",
    "cv_object = StratifiedShuffleSplit(n_splits = num_cv_iterations,\n",
    "test_size = 0.20, train_size = 0.80, random_state=11)\n",
    "cv_object.get_n_splits(X, y)\n",
    "print(cv_object)\n",
    "for train_index, test_index in cv_object.split(X, y):\n",
    "    print(\"TRAIN:\", train_index, \"TEST:\", test_index)\n",
    "    X_train, X_test = X[train_index], X[test_index]\n",
    "    y_train, y_test = y[train_index], y[test_index]"
   ]
  },
  {
   "cell_type": "markdown",
   "metadata": {},
   "source": [
    "#### Preparing Data for Regression. \n",
    "Using PAY_AMT1 as response variable for regression"
   ]
  },
  {
   "cell_type": "code",
   "execution_count": 69,
   "metadata": {
    "scrolled": true
   },
   "outputs": [
    {
     "name": "stdout",
     "output_type": "stream",
     "text": [
      "ShuffleSplit(n_splits=5, random_state=11, test_size=0.2, train_size=0.8)\n",
      "TRAIN: [10574  1826 26458 ... 21584  3775 10137] TEST: [16131 22502  9281 ...  2302 20117  5325]\n",
      "TRAIN: [14312  5621  9756 ... 14795  1761 10411] TEST: [23990 12026 18018 ... 18504  3826 22997]\n",
      "TRAIN: [24613 18862  7514 ...  9825 21800  7223] TEST: [25751  1408  2329 ... 13731  9430 17834]\n",
      "TRAIN: [ 5199 22129  7059 ... 26445 16174 28119] TEST: [ 1736 20903   973 ... 24406 27021 16104]\n",
      "TRAIN: [11485 26551  2766 ...  9370 20203 25639] TEST: [18873  8061  1602 ... 17926 20760   999]\n"
     ]
    }
   ],
   "source": [
    "mcc = ccdefault.copy()\n",
    "# Y Response variable dataframe\n",
    "y_reg = mcc['PAY_AMT1'].values\n",
    "# Features with no predictive features with respect to resposne variable\n",
    "mcredit = mcc.drop(['PAY_AMT1'],axis=1)\n",
    "# Create inci_X Explanatory Variables DF to support the individual models\n",
    "mcc_X = mcredit\n",
    "del mcc_X['DEFAULT']\n",
    "del mcc_X['ID']\n",
    "del mcc_X['BILL_AMT1']\n",
    "del mcc_X['BILL_AMT2']\n",
    "del mcc_X['BILL_AMT3']\n",
    "del mcc_X['BILL_AMT4']\n",
    "del mcc_X['BILL_AMT5']\n",
    "del mcc_X['BILL_AMT6']\n",
    "\n",
    "X_reg = mcc_X.values\n",
    "num_instances = len(y_reg)\n",
    "cv_object_reg = ShuffleSplit(n_splits = num_cv_iterations,\n",
    "test_size = 0.20, train_size = 0.80, random_state=11)\n",
    "cv_object_reg.get_n_splits(X_reg, y_reg)\n",
    "print(cv_object_reg)\n",
    "for train_index, test_index in cv_object_reg.split(X_reg, y_reg):\n",
    "    print(\"TRAIN:\", train_index, \"TEST:\", test_index)\n",
    "    X_reg_train, X_reg_test = X_reg[train_index], X_reg[test_index]\n",
    "    y_reg_train, y_reg_test = y_reg[train_index], y_reg[test_index]"
   ]
  },
  {
   "cell_type": "code",
   "execution_count": 70,
   "metadata": {},
   "outputs": [],
   "source": [
    "scl_obj = StandardScaler()\n",
    "scl_obj.fit(X_train) # find scalings for each column that make this zero mean and unit std\n",
    "# the line of code above only looks at training data to get mean and std and we can use it \n",
    "# to transform new feature data\n",
    "X_train_scaled = scl_obj.transform(X_train) # apply to training\n",
    "X_test_scaled = scl_obj.transform(X_test) # apply those means and std to the test set (without snooping at the test set values)"
   ]
  },
  {
   "cell_type": "markdown",
   "metadata": {},
   "source": [
    "## Modeling and Evaluation 3 \n",
    "\n",
    "We planned to use 3 models for our classification. Random forest , Decision tree and KNN. \n",
    "\n",
    "### Classification Models \n"
   ]
  },
  {
   "cell_type": "markdown",
   "metadata": {},
   "source": [
    "#### Random Forest model \n",
    "\n",
    "Random forest is an ensempble technique that uses set of decision trees to handle classification problem. It uses random vectors to choose features based on which it creates decision trees. These features are choosen basedon some fixed distribution. Classification is done with each of these decision trees and then a majority vote is taken to decide final class. \n",
    "Following images gives an overview  of Random forest. "
   ]
  },
  {
   "cell_type": "code",
   "execution_count": 71,
   "metadata": {},
   "outputs": [
    {
     "data": {
      "text/html": [
       "<img src=\"../images/random_forest_tan.png\"/>"
      ],
      "text/plain": [
       "<IPython.core.display.Image object>"
      ]
     },
     "execution_count": 71,
     "metadata": {},
     "output_type": "execute_result"
    }
   ],
   "source": [
    "Image(url ='../images/random_forest_tan.png')"
   ]
  },
  {
   "cell_type": "markdown",
   "metadata": {},
   "source": [
    "Random forest classifiers use multiple estimators and each each estimator runs of different set of features based on random selection of features and attributes.\n",
    "We created below models by choosing different number of estimators and different values for max depths for decision trees. Class weights are also choosen either None or balanced. Since the dataset contains unbalanced classes. Only 22 % of them are defaults So we have used class weight balanced in some of the models.\n",
    "One model is created for all these combinations and the one with maximum recall is selected for final evaluation \n",
    "##### Advantages and Disadvantages \n",
    "Advantages of the Random forest model are that it is one of the most accurate algorithms. It can work of very large number of datasets. It works on the concept of bagging Unlike the Adaboost which works on the concept of boosting where parameters with less likelyhood of selection are boosted to have more chances of getting selected. \n",
    "One of the disadvantages of Random Forest model is that it might overfit the model due to the presense of noisy data."
   ]
  },
  {
   "cell_type": "code",
   "execution_count": null,
   "metadata": {
    "scrolled": false
   },
   "outputs": [
    {
     "name": "stdout",
     "output_type": "stream",
     "text": [
      "The time it takes to fit and predict for iteration 0  is 0.9250330924987793 recall is 0.22305953278070836 \n",
      "classification report for iteration 0 with improved recall 0.22305953278070836 \n"
     ]
    },
    {
     "data": {
      "image/png": "[encoded data removed]",
      "text/plain": [
       "<Figure size 432x288 with 2 Axes>"
      ]
     },
     "metadata": {
      "needs_background": "light"
     },
     "output_type": "display_data"
    },
    {
     "name": "stdout",
     "output_type": "stream",
     "text": [
      "The time it takes to fit and predict for iteration 1  is 0.7836670875549316 recall is 0.19894498869630747 \n",
      "The time it takes to fit and predict for iteration 2  is 0.806002140045166 recall is 0.19894498869630747 \n",
      "The time it takes to fit and predict for iteration 3  is 0.758385181427002 recall is 0.21477015825169554 \n",
      "The time it takes to fit and predict for iteration 4  is 0.8097317218780518 recall is 0.2373775433308214 \n",
      "classification report for iteration 4 with improved recall 0.2373775433308214 \n"
     ]
    },
    {
     "data": {
      "image/png": "[encoded data removed]",
      "text/plain": [
       "<Figure size 432x288 with 2 Axes>"
      ]
     },
     "metadata": {
      "needs_background": "light"
     },
     "output_type": "display_data"
    },
    {
     "name": "stdout",
     "output_type": "stream",
     "text": [
      "The time it takes to fit and predict for iteration 5  is 6.874881982803345 recall is 0.5825169555388093 \n",
      "classification report for iteration 5 with improved recall 0.5825169555388093 \n"
     ]
    },
    {
     "data": {
      "image/png": "[encoded data removed]",
      "text/plain": [
       "<Figure size 432x288 with 2 Axes>"
      ]
     },
     "metadata": {
      "needs_background": "light"
     },
     "output_type": "display_data"
    },
    {
     "name": "stdout",
     "output_type": "stream",
     "text": [
      "The time it takes to fit and predict for iteration 6  is 6.527785778045654 recall is 0.5742275810097965 \n",
      "The time it takes to fit and predict for iteration 7  is 6.597923040390015 recall is 0.5674453654860587 \n",
      "The time it takes to fit and predict for iteration 8  is 6.8895909786224365 recall is 0.5644310474755087 \n",
      "The time it takes to fit and predict for iteration 9  is 6.9083569049835205 recall is 0.5802562170308968 \n",
      "The time it takes to fit and predict for iteration 10  is 23.537925004959106 recall is 0.36473247927656366 \n",
      "The time it takes to fit and predict for iteration 11  is 23.454038858413696 recall is 0.3677467972871138 \n",
      "The time it takes to fit and predict for iteration 12  is 24.355221033096313 recall is 0.34815373021853807 \n",
      "The time it takes to fit and predict for iteration 13  is 25.16293978691101 recall is 0.373775433308214 \n",
      "The time it takes to fit and predict for iteration 14  is 23.793384790420532 recall is 0.37980406932931426 \n",
      "The time it takes to fit and predict for iteration 15  is 0.877910852432251 recall is 0.584777694046722 \n",
      "classification report for iteration 15 with improved recall 0.584777694046722 \n"
     ]
    },
    {
     "data": {
      "image/png": "[encoded data removed]",
      "text/plain": [
       "<Figure size 432x288 with 2 Axes>"
      ]
     },
     "metadata": {
      "needs_background": "light"
     },
     "output_type": "display_data"
    },
    {
     "name": "stdout",
     "output_type": "stream",
     "text": [
      "The time it takes to fit and predict for iteration 16  is 0.8704719543457031 recall is 0.5689525244913338 \n",
      "The time it takes to fit and predict for iteration 17  is 0.784724235534668 recall is 0.5659382064807837 \n",
      "The time it takes to fit and predict for iteration 18  is 0.7569692134857178 recall is 0.5546345139412208 \n",
      "The time it takes to fit and predict for iteration 19  is 0.8391318321228027 recall is 0.5779954785229842 \n",
      "The time it takes to fit and predict for iteration 20  is 6.944530010223389 recall is 0.3519216277317257 \n",
      "The time it takes to fit and predict for iteration 21  is 6.76735520362854 recall is 0.3549359457422758 \n"
     ]
    }
   ],
   "source": [
    "## Random Forest classifiers models with different parameters \n",
    "\n",
    "iter_num=0\n",
    "times_rec=[]\n",
    " \n",
    "rf_max_acc = 0\n",
    "rf_max_recal = 0\n",
    "rf_trn_idx_max_acc = []\n",
    "rf_tst_idx_max_acc  = []\n",
    "rf_estimator_for_max = 0\n",
    "rf_max_depth_max = 0\n",
    "rf_class_weight_max = None\n",
    "\n",
    "#for loop \n",
    "estimators = [100,   500, 1000]\n",
    "max_depths = [2,5,10]\n",
    "class_weights = [None , 'balanced']\n",
    "for estimator , max_depth , class_weight in zip(estimators*len(max_depths)*len(class_weights) ,\n",
    "             max_depths*len(class_weights)*len(estimators),\n",
    "             class_weights*len(max_depths)*len(estimators)):\n",
    "    for train_indices, test_indices in cv_object.split(X,y): \n",
    "        X_train = X[train_indices]\n",
    "        y_train = y[train_indices] \n",
    "        X_test = X[test_indices]\n",
    "        y_test = y[test_indices]\n",
    "\n",
    "         #we count the time in executing the logistic regression\n",
    "        t0 = time()\n",
    "        random_forest = RandomForestClassifier(n_estimators=estimator, max_depth=max_depth, class_weight= class_weight,\n",
    "                                               random_state=0)\n",
    "\n",
    "        random_forest.fit(X_train,y_train)  # train object\n",
    "        y_hat = random_forest.predict(X_test) # get test set precitions\n",
    "\n",
    "        t1=time()\n",
    "        diff=np.array([t1-t0])\n",
    "\n",
    "        times_rec=np.append(times_rec,diff)\n",
    "\n",
    "\n",
    "        # now let's get the accuracy and confusion matrix for this iterations of training/testing\n",
    "        acc = mt.accuracy_score(y_test,y_hat)\n",
    "        rcl = mt.recall_score(y_test, y_hat)\n",
    "        print (\"The time it takes to fit and predict for iteration {}  is {} recall is {} \".format(iter_num, diff[0],\n",
    "                                                                                                   rcl)) \n",
    "\n",
    "        #if acc > rf_max_acc :\n",
    "        if rcl > rf_max_recal:\n",
    "            #rf_max_acc = acc\n",
    "            rf_max_recal = rcl\n",
    "            rf_trn_idx_max_acc = train_indices\n",
    "            rf_tst_idx_max_acc  = test_indices\n",
    "            rf_estimator_for_max = estimator\n",
    "            rf_max_depth_max = max_depth\n",
    "            rf_class_weight_max = class_weight\n",
    "            \n",
    "            print (\"classification report for iteration {} with improved recall {} \".format(iter_num, rcl))\n",
    "            rf_cl_reporter = ClassificationReport(random_forest, classes=['non_default' , 'default'], support=True)\n",
    "            rf_cl_reporter.fit(X_train, y_train)        # Fit the visualizer and the model\n",
    "            rf_cl_reporter.score(X_test, y_test)        # Evaluate the model on the test data\n",
    "            rf_cl_reporter.show()   \n",
    "\n",
    "\n",
    "        iter_num+=1    "
   ]
  },
  {
   "cell_type": "markdown",
   "metadata": {},
   "source": [
    "####  Decision Tree classifiers \n",
    "\n",
    "Decision Trees are used to classify model based on different split rules. like gini.\n",
    "We are creating multiple models and choosing one based on max recall score for our further analysis\n",
    "\n",
    "##### Advantages and Disadvantages \n",
    "One of the advantages of the Decision tree algorithm is that it traces all the paths from available features and data to arrive on a decision. We don't need to scale or normalize of features like some of the other algorithms.\n",
    "However it might take more times to train a model and might not be very accurate to the future data which it has need seen in training set.\n"
   ]
  },
  {
   "cell_type": "code",
   "execution_count": null,
   "metadata": {
    "scrolled": true
   },
   "outputs": [],
   "source": [
    "Image(url ='../images/decision_tree_tan.png')"
   ]
  },
  {
   "cell_type": "code",
   "execution_count": null,
   "metadata": {
    "scrolled": false
   },
   "outputs": [],
   "source": [
    "## Decision tree classifiers \n",
    "\n",
    "iter_num=0\n",
    "times_rec=[]\n",
    "decision_tree_classifiers = dict()\n",
    "random_forest_classifiers = dict()\n",
    "\n",
    "class_weights = [None , 'balanced']\n",
    "dt_max_acc = 0\n",
    "dt_max_recall = 0\n",
    "dt_trn_idx_max_acc =[]\n",
    "dt_tst_idx_max_acc = []\n",
    "dt_class_weight_for_max = []\n",
    "\n",
    "for class_weight in class_weights:\n",
    "    for train_indices, test_indices in cv_object.split(X,y): \n",
    "        X_train = X[train_indices]\n",
    "        y_train = y[train_indices]\n",
    "        X_test = X[test_indices]\n",
    "        y_test = y[test_indices]\n",
    "\n",
    "         #we count the time in executing the logistic regression\n",
    "        t0 = time()\n",
    "        decision_tree = DecisionTreeClassifier(class_weight = class_weight)\n",
    "        decision_tree.fit(X_train,y_train)  # train object\n",
    "        y_hat = decision_tree.predict(X_test) # get test set precitions\n",
    "        t1=time()\n",
    "        diff=np.array([t1-t0])\n",
    "\n",
    "        print (\"The time it takes to fit and predict for iteration {}  is {} \".format(iter_num, diff[0])) \n",
    "        times_rec=np.append(times_rec,diff)\n",
    "\n",
    "\n",
    "        # now let's get the accuracy , recall and confusion matrix for this iterations of training/testing\n",
    "        acc = mt.accuracy_score(y_test,y_hat)\n",
    "        rcl = mt.recall_score(y_test, y_hat)\n",
    "\n",
    "        #if acc> dt_max_acc:\n",
    "        if rcl> dt_max_recall:\n",
    "            #dt_max_acc = acc\n",
    "            dt_max_recall = rcl\n",
    "            dt_trn_idx_max_acc = train_indices\n",
    "            dt_tst_idx_max_acc = test_indices\n",
    "            dt_class_weight_for_max = class_weight\n",
    "            conf = mt.confusion_matrix(y_test,y_hat)\n",
    "            print (\"classification report for iteration {} \".format(iter_num))\n",
    "\n",
    "            dt_cl_reporter = ClassificationReport(decision_tree, classes=['non_default' , 'default'], support=True)\n",
    "            dt_cl_reporter.fit(X_train, y_train)        # Fit the visualizer and the model\n",
    "            dt_cl_reporter.score(X_test, y_test)        # Evaluate the model on the test data\n",
    "            dt_cl_reporter.show()  \n",
    "\n",
    "       \n",
    "        iter_num+=1\n",
    "    "
   ]
  },
  {
   "cell_type": "markdown",
   "metadata": {},
   "source": [
    "#### KNN \n"
   ]
  },
  {
   "cell_type": "markdown",
   "metadata": {},
   "source": [
    "#### KNN \n",
    "\n",
    "KNN is used to classify models by using the K nearest number of points based on a chosen distance metric.The most common class of the K nearest points is used to classify the point that is being predicted. The distance metric can be a variety of options, we have chosen cosine, euclidean and manhattan distance as our metrics. We are creating multiple models and choosing one based on max recall score for our further analysis\n",
    "\n",
    "\n",
    "##### Advantages and Disadvantages \n",
    "An advantage of the KNN algorithm is its simplicity. KNN can be used on nearly any data set because it is relying on a simple distance metric to determine the classification of the point. Another advantage is the oppurtunity to fine tune multiple parameters to best fit the dataset. A change in K can be implemented easily to judge metrics, and the distance metric can also be a variety of options.\n",
    "\n",
    "Some disadvantages of KNN also revolve around the distance metric. There is not set method to choosing a distance metric, so many options should be looked into. KNN is also a lazy learner, which can lead to costly computing since the model needs to look at every point in the dataset and determine the closest neighbors."
   ]
  },
  {
   "cell_type": "code",
   "execution_count": null,
   "metadata": {
    "scrolled": false
   },
   "outputs": [],
   "source": [
    "parameters = [10, 20, 50, 100]\n",
    "metrics = ['euclidean', 'cosine', 'manhattan']\n",
    "max_acc_knn = 0 \n",
    "max_met =[]\n",
    "max_k = 0\n",
    "max_recall_knn=0\n",
    "for met in metrics:\n",
    "    for K in parameters:\n",
    "        for train_indices, test_indices in cv_object.split(X,y): \n",
    "            X_train = X[train_indices]\n",
    "            y_train = y[train_indices]\n",
    "            X_test = X[test_indices]\n",
    "            y_test = y[test_indices]   \n",
    "            X_train_scaled = scl_obj.transform(X_train) # apply to training\n",
    "            X_test_scaled = scl_obj.transform(X_test) # apply those means and std to the test set (without snooping at the test set values)\n",
    "            print(\"For k = \", K, \"and metric = \", met, \":\")\n",
    "            knn = KNeighborsClassifier(n_neighbors= K, weights='uniform', metric=met)\n",
    "            knn.fit(X_train_scaled,y_train)\n",
    "            y_hat = knn.predict(X_test_scaled)\n",
    "            acc = mt.accuracy_score(y_test,y_hat)\n",
    "            rcl = mt.recall_score(y_test, y_hat)\n",
    "            conf = mt.confusion_matrix(y_test,y_hat)\n",
    "            #print('accuracy:', acc )\n",
    "            #print(conf)\n",
    "            \n",
    "        \n",
    "            #if acc>max_acc_knn :\n",
    "            if rcl>max_recall_knn :\n",
    "                max_acc_knn = acc\n",
    "                max_recall_knn = rcl\n",
    "                max_met = met\n",
    "                max_k = K\n",
    "                knn_trn_idx_max_acc = train_indices\n",
    "                knn_tst_idx_max_acc = test_indices\n",
    "                ClassReport = mt.classification_report(y_test,y_hat)\n",
    "                print(ClassReport)\n",
    "                \n",
    "                knn_cl_reporter = ClassificationReport(knn, classes=['non_default' , 'default'], support=True)\n",
    "                knn_cl_reporter.fit(X_train_scaled, y_train)        # Fit the visualizer and the model\n",
    "                knn_cl_reporter.score(X_test_scaled, y_test)        # Evaluate the model on the test data\n",
    "                knn_cl_reporter.show()  \n",
    "             \n",
    "\n",
    "    \n",
    "print(\"Max accuracy is:\", max_acc_knn)    "
   ]
  },
  {
   "cell_type": "markdown",
   "metadata": {},
   "source": [
    "#### Random Forest Regession \n",
    "\n",
    "In Random forest regression decision trees are used to classify different segments of the dataset. This is useful in scenarios where data is not linearly related and there are arbiterary decision boundries around the dataset. "
   ]
  },
  {
   "cell_type": "code",
   "execution_count": null,
   "metadata": {
    "scrolled": false
   },
   "outputs": [],
   "source": [
    "## Random forest regression models with different parameters \n",
    "\n",
    "iter_num=0\n",
    "times_rec=[]\n",
    " \n",
    "rf_reg_max_score = 0\n",
    "rf_reg_trn_idx_max_acc = []\n",
    "rf_reg_tst_idx_max_acc  = []\n",
    "rf_reg_estimator_for_max = 0\n",
    "rf_reg_max_depth_max = 0\n",
    "\n",
    "#for loop \n",
    "estimators = [100, 500, 1000]\n",
    "max_depths = [2, 10]\n",
    "for estimator , max_depth  in zip(estimators*len(max_depths),max_depths* len(estimators)):\n",
    "    for train_index, test_index in cv_object_reg.split(X_reg,y_reg): \n",
    "        X_reg_train, X_reg_test = X_reg[train_index], X_reg[test_index]\n",
    "        y_reg_train, y_reg_test = y_reg[train_index], y_reg[test_index]\n",
    "         \n",
    "        \n",
    "         #we count the time in executing the logistic regression\n",
    "        t0 = time()\n",
    "        random_forest = RandomForestRegressor(n_estimators=estimator, max_depth=max_depth, \n",
    "                                              random_state=0)\n",
    "        random_forest.fit(X_reg_train,y_reg_train)  # train object\n",
    "        y_reg_hat = random_forest.predict(X_reg_test) # get test set precitions\n",
    "        t1=time()\n",
    "        diff=np.array([t1-t0])\n",
    "        times_rec=np.append(times_rec,diff)\n",
    "        # now let's get the accuracy and confusion matrix for this iterations of training/testing\n",
    "        score = random_forest.score(X_reg_test,y_reg_test)\n",
    "        print (\"The time it takes to fit and predict for iteration {} is {} score is {} \".format(iter_num, diff[0],score)) \n",
    "        if score > rf_reg_max_score :\n",
    "            rf_reg_trn_idx_max_acc = train_index\n",
    "            rf_reg_tst_idx_max_acc = test_index\n",
    "            rf_reg_estimator_for_max = estimator\n",
    "            rf_reg_max_depth_max = max_depth\n",
    "            \n",
    "        iter_num+=1\n",
    "        \n",
    "    "
   ]
  },
  {
   "cell_type": "markdown",
   "metadata": {},
   "source": [
    "####  Decision Tree Regession \n",
    "\n",
    "Decision tree regression is used to regress using a sine curve. Some additional noisy points are used to fit the local linear regression approximations.\n",
    "if max depth parameter is too high it may end up overfitting the model for noise."
   ]
  },
  {
   "cell_type": "code",
   "execution_count": null,
   "metadata": {},
   "outputs": [],
   "source": [
    "iter_num=0\n",
    "times_rec=[]\n",
    " \n",
    "dt_reg_max_acc = 0\n",
    "dt_reg_trn_idx_max_acc = []\n",
    "dt_reg_tst_idx_max_acc  = []\n",
    "dt_reg_max_depth_max = 0\n",
    "\n",
    "#for loop \n",
    "estimators = [100,  1000]\n",
    "max_depths = [2,10]\n",
    "for   max_depth  in max_depths:\n",
    "    for test_index, test_index in cv_object_reg.split(X_reg,y_reg): \n",
    "        X_reg_train, X_reg_test = X_reg[train_index], X_reg[test_index]\n",
    "        y_reg_train, y_reg_test = y_reg[train_index], y_reg[test_index]\n",
    "         \n",
    "         #we count the time in executing the logistic regression\n",
    "        t0 = time()\n",
    "        decision_tree = DecisionTreeRegressor(max_depth=max_depth, \n",
    "                                              random_state=0)\n",
    "        decision_tree.fit(X_reg_train,y_reg_train)  # train object\n",
    "        y_reg_hat = decision_tree.predict(X_reg_test) # get test set precitions\n",
    "        t1=time()\n",
    "        diff=np.array([t1-t0])\n",
    "        times_rec=np.append(times_rec,diff)\n",
    "        # now let's get the accuracy and confusion matrix for this iterations of training/testing\n",
    "        score = decision_tree.score(X_reg_test,y_reg_test)\n",
    "        \n",
    "        print (\"The time it takes to fit and predict for iteration {} is {} score is {} \".format(iter_num, diff[0],score)) \n",
    "        \n",
    "        if dt_reg_max_acc> score:\n",
    "            dt_reg_trn_idx_max_acc = train_index\n",
    "            dt_reg_tst_idx_max_acc = test_index\n",
    "            dt_reg_max_depth_max = max_depth\n",
    "        iter_num+=1"
   ]
  },
  {
   "cell_type": "markdown",
   "metadata": {},
   "source": [
    "#### KNN Regession "
   ]
  },
  {
   "cell_type": "code",
   "execution_count": null,
   "metadata": {},
   "outputs": [],
   "source": [
    "iter_num=0\n",
    "times_rec=[]\n",
    " \n",
    "max_acc_knn_reg = 0 \n",
    "max_met_reg =[]\n",
    "max_k_reg = 0\n",
    "max_recall_knn_reg=0\n",
    "knn_trn_idx_max_acc_reg = []\n",
    "knn_tst_idx_max_acc_reg = []\n",
    "\n",
    "#for loop \n",
    "parameters = [10, 20, 50, 100]\n",
    "metrices = ['euclidean', 'cosine', 'manhattan']\n",
    "for met in metrices:\n",
    "    for K in parameters:\n",
    "        for train_index, test_index in cv_object_reg.split(X_reg,y_reg): \n",
    "            X_reg_train, X_reg_test = X_reg[train_index], X_reg[test_index]\n",
    "            y_reg_train, y_reg_test = y_reg[train_index], y_reg[test_index]\n",
    "\n",
    "         #we count the time in executing the logistic regression\n",
    "            t0 = time()\n",
    "            knn = KNeighborsRegressor(n_neighbors= K, weights='uniform', metric=met)\n",
    "            knn.fit(X_reg_train,y_reg_train)  # train object\n",
    "            y_reg_hat = knn.predict(X_reg_test) # get test set precitions\n",
    "            t1=time()\n",
    "            diff=np.array([t1-t0])\n",
    "            times_rec=np.append(times_rec,diff)\n",
    "            # now let's get the accuracy and confusion matrix for this iterations of training/testing\n",
    "            score = knn.score(X_reg_test,y_reg_test)\n",
    "        \n",
    "            print (\"The time it takes to fit and predict for iteration {} is {} score is {} \".format(iter_num, diff[0],score)) \n",
    "        \n",
    "            if  score> max_acc_knn_reg:\n",
    "                \n",
    "                max_acc_knn_reg = score\n",
    "                #max_recall_reg = rcl\n",
    "                max_met_reg = met\n",
    "                max_k_reg = K\n",
    "                knn_trn_idx_max_acc_reg = train_index\n",
    "                knn_tst_idx_max_acc_reg = test_index\n",
    "            iter_num+=1"
   ]
  },
  {
   "cell_type": "markdown",
   "metadata": {},
   "source": [
    "## Modeling and Evaluation 4\n",
    "\n",
    "Analysis of the performance of the model is done based on different crieteria. Since our classificalation classes are unbalanced and number of defaults are much less than number of non defaults and our obective is to get most of the default cases which is of rarer nature , recall is more important crieteria.\n",
    "For classification task we have created precision recall curve , confusion matrix, classification report and ROAAUC plot for the best performing model. \n",
    "For Regression tasks we have created Residual plot and Prediction error plots. "
   ]
  },
  {
   "cell_type": "markdown",
   "metadata": {},
   "source": [
    "## Classification Tasks "
   ]
  },
  {
   "cell_type": "markdown",
   "metadata": {},
   "source": [
    "#### Random Forest \n",
    "Random Forest gives \n",
    "Analysis of Random forst with the best estimate "
   ]
  },
  {
   "cell_type": "code",
   "execution_count": null,
   "metadata": {
    "scrolled": true
   },
   "outputs": [],
   "source": [
    "t0 = time()\n",
    "\n",
    "\n",
    "X_train, X_test = X[rf_trn_idx_max_acc], X[rf_tst_idx_max_acc]\n",
    "y_train, y_test = y[rf_trn_idx_max_acc], y[rf_tst_idx_max_acc]\n",
    "\n",
    "print ('running model for max accuracy {}'.format(rf_max_acc))\n",
    "print('parameters for the model with best accuracy is num_estimators {} , max_depth {} and class_weight'.format(\n",
    "    rf_estimator_for_max, rf_max_depth_max,  rf_class_weight_max))\n",
    "\n",
    "random_forest = RandomForestClassifier(n_estimators=rf_estimator_for_max, max_depth=rf_max_depth_max,\n",
    "                         random_state=0, class_weight = rf_class_weight_max)\n",
    "\n",
    "\n",
    "random_forest.fit(X_train,y_train)  # train object\n",
    "y_hat = random_forest.predict(X_test) # get test set precitions\n",
    "\n",
    "t1=time()\n",
    "diff=np.array([t1-t0])\n",
    "\n",
    "print (\"The time it takes to fit and predict for iteration {}  is {} \".format(iter_num, diff[0])) \n",
    "times_rec=np.append(times_rec,diff)\n",
    "\n",
    "\n",
    "# now let's get the accuracy and confusion matrix for this iterations of training/testing\n",
    "acc = mt.accuracy_score(y_test,y_hat)\n",
    "conf = mt.confusion_matrix(y_test,y_hat)\n",
    "print (\"classification report for iteration {} \".format(iter_num))\n",
    "\n",
    "rf_cl_reporter = ClassificationReport(random_forest, classes=['non_default' , 'default'], support=True)\n",
    "\n",
    "rf_cl_reporter.fit(X_train, y_train)        # Fit the visualizer and the model\n",
    "rf_cl_reporter.score(X_test, y_test)        # Evaluate the model on the test data\n",
    "rf_cl_reporter.show()   \n",
    "\n",
    "pr_curve = PrecisionRecallCurve(random_forest)\n",
    "pr_curve.fit(X_train, y_train)\n",
    "pr_curve.score(X_test, y_test)\n",
    "pr_curve.show()\n",
    "\n",
    "\n",
    "roc_curve = ROCAUC(random_forest, classes=[\"not_default\", \"default\"])\n",
    "roc_curve.fit(X_train, y_train)        # Fit the training data to the visualizer\n",
    "roc_curve.score(X_test, y_test)        # Evaluate the model on the test data\n",
    "roc_curve.show() \n",
    "\n",
    "\n",
    "cm = ConfusionMatrix(random_forest, classes=['not default' , 'default'])\n",
    "# Fit fits the passed model. This is unnecessary if you pass the visualizer a pre-fitted model\n",
    "cm.fit(X_train, y_train)\n",
    "# To create the ConfusionMatrix, we need some test data. Score runs predict() on the data\n",
    "# and then creates the confusion_matrix from scikit-learn.\n",
    "cm.score(X_test, y_test)\n",
    "# How did we do?\n",
    "cm.show()"
   ]
  },
  {
   "cell_type": "markdown",
   "metadata": {},
   "source": [
    "#### Precision Recall Curve \n",
    "\n",
    "Lookng at the Precison recall curve in above we can see that as the increase threshold for predicting default the recall value increases but the precision decreases. Since there are close to 22% cases that are default and our objective is to find more and more default cases we want to keep our thresold to appropriate limit. From above precision recall curve it turns out that we set our thresold of 50% then we can achieve a recall of 50%\n",
    "\n",
    "#### ROC AUC \n",
    "Area under curve for Random forest classification model is 0.77 which indicates it to be a good model. \n",
    "\n",
    "#### Classification Report \n",
    "\n",
    "classification report for this model is shoes F1 score apart from precision and recall.F1 score for Random forest model is 0.53. F1 score combines precision and recall parameters to give one common indicator. It is harmonic mean of precision and recall so this value is always between those two.\n",
    "\n",
    "#### Confusion matrix \n",
    "We can calculate other Parameters using precison , recall , specifity , true positive rate , false positive rate etc. using Confusion matrix. In case of our best Random forest model based on recall score We correctly predicted 776 out of 1337 defaults cases."
   ]
  },
  {
   "cell_type": "markdown",
   "metadata": {},
   "source": [
    "#### Decision Tree  \n",
    "\n",
    "Following are the analysis results for the best decision tree model based on the recall value\n"
   ]
  },
  {
   "cell_type": "code",
   "execution_count": null,
   "metadata": {
    "scrolled": true
   },
   "outputs": [],
   "source": [
    "t0 = time()\n",
    "\n",
    "print('Running model for max decision tree accuracy model {}'.format(dt_max_acc  ))\n",
    " \n",
    "print('Parameters for decision tree for max accuracy class_weight {}'.format(dt_class_weight_for_max  ))\n",
    "\n",
    "\n",
    "X_train, X_test = X[dt_trn_idx_max_acc], X[dt_tst_idx_max_acc]\n",
    "y_train, y_test = y[dt_trn_idx_max_acc], y[dt_tst_idx_max_acc]\n",
    "     \n",
    "decision_tree = DecisionTreeClassifier(class_weight = dt_class_weight_for_max)\n",
    "\n",
    "decision_tree.fit(X_train,y_train)  # train object\n",
    "y_hat = decision_tree.predict(X_test) # get test set precitions\n",
    "\n",
    "t1=time()\n",
    "diff=np.array([t1-t0])\n",
    "print (\"The time it takes to fit and predict for iteration {}  is {} \".format(iter_num, diff[0])) \n",
    "times_rec=np.append(times_rec,diff)\n",
    "# now let's get the accuracy and confusion matrix for this iterations of training/testing\n",
    "acc = mt.accuracy_score(y_test,y_hat)\n",
    "print(\"accurancy for balanced class is {}\".format(acc))\n",
    "conf = mt.confusion_matrix(y_test,y_hat)\n",
    "print (\"classification report for iteration {} \".format(iter_num))\n",
    "dt_cl_reporter = ClassificationReport(decision_tree, classes=['non_default' , 'default'], support=True)\n",
    "\n",
    "dt_cl_reporter.fit(X_train, y_train)        # Fit the visualizer and the model\n",
    "dt_cl_reporter.score(X_test, y_test)        # Evaluate the model on the test data\n",
    "dt_cl_reporter.show()  \n",
    "\n",
    "pr_curve = PrecisionRecallCurve(decision_tree)\n",
    "pr_curve.fit(X_train, y_train)\n",
    "pr_curve.score(X_test, y_test)\n",
    "pr_curve.show()\n",
    "\n",
    "roc_curve = ROCAUC(decision_tree, classes=[\"not_default\", \"default\"])\n",
    "\n",
    "roc_curve.fit(X_train, y_train)        # Fit the training data to the visualizer\n",
    "roc_curve.score(X_test, y_test)        # Evaluate the model on the test data\n",
    "roc_curve.show() \n",
    "\n",
    "cm = ConfusionMatrix(decision_tree, classes=['not default' , 'default'])\n",
    "# Fit fits the passed model. This is unnecessary if you pass the visualizer a pre-fitted model\n",
    "cm.fit(X_train, y_train)\n",
    "# To create the ConfusionMatrix, we need some test data. Score runs predict() on the data\n",
    "# and then creates the confusion_matrix from scikit-learn.\n",
    "cm.score(X_test, y_test)\n",
    "# How did we do?\n",
    "cm.show()\n",
    "\n",
    "iter_num+=1"
   ]
  },
  {
   "cell_type": "markdown",
   "metadata": {},
   "source": [
    "#### Precision Recall Curve \n",
    "\n",
    "Precision Recall curve for decision Tree. Shows that the best estimate for recall and precision is constant till the thresold of 0.4 and drops after that. Based on Precison and recall curve we can say that Random forest is the better model than the decision tree for this classification\n",
    "\n",
    "#### ROC AUC \n",
    "Area under curve for Random forest classification model is 0.62 which indicates it to be a slightly better than random prediction model sonce area under curve is only slghtly greater than 0.5. \n",
    "\n",
    "#### Classification Report \n",
    "\n",
    "classification report for this model is shoes F1 score apart from precision and recall.F1 score for Random forest model is 0.39 which is worse than that for random forest model. F1 score combines precision and recall parameters to give one common indicator. It is harmonic mean of precision and recall so this value is always between those two.\n",
    "\n",
    "#### Confusion matrix \n",
    "We can calculate other Parameters using precison , recall , specifity , true positive rate , false positive rate etc. using Confusion matrix. In case of our best Random forest model based on recall score We correctly predicted 563 out of 1327 defaults cases."
   ]
  },
  {
   "cell_type": "markdown",
   "metadata": {},
   "source": [
    "####  KNN "
   ]
  },
  {
   "cell_type": "code",
   "execution_count": null,
   "metadata": {},
   "outputs": [],
   "source": [
    " \n",
    "t0 = time()\n",
    "\n",
    "print('Running model for max KNN accuracy model {}'.format(max_acc_knn  )) \n",
    "print('Parameters for KNN for max accuracy metric = {} K=  '.format(max_met , max_k ))\n",
    "\n",
    "\n",
    "X_train, X_test = X[knn_trn_idx_max_acc], X[knn_tst_idx_max_acc]\n",
    "y_train, y_test = y[knn_trn_idx_max_acc], y[knn_tst_idx_max_acc]\n",
    "     \n",
    "    \n",
    "knn = KNeighborsClassifier(n_neighbors= max_k, weights='uniform', metric=max_met)\n",
    "X_train_scaled = scl_obj.transform(X_train) # apply to training\n",
    "X_test_scaled = scl_obj.transform(X_test) # apply those means and std to the test set (without snooping at the test set values)\n",
    "knn.fit(X_train,y_train)\n",
    "y_hat = knn.predict(X_test_scaled)\n",
    "\n",
    "acc = mt.accuracy_score(y_test,y_hat)\n",
    "conf = mt.confusion_matrix(y_test,y_hat)\n",
    "\n",
    "\n",
    "t1=time()\n",
    "diff=np.array([t1-t0])\n",
    "print (\"The time it takes to fit and predict for iteration {}  is {} \".format(iter_num, diff[0])) \n",
    "times_rec=np.append(times_rec,diff)\n",
    "# now let's get the accuracy and confusion matrix for this iterations of training/testing\n",
    "acc = mt.accuracy_score(y_test,y_hat)\n",
    "print(\"accurancy for balanced class is {}\".format(acc))\n",
    "conf = mt.confusion_matrix(y_test,y_hat)\n",
    "print (\"classification report for iteration {} \".format(iter_num))\n",
    "knn_cl_reporter = ClassificationReport(knn, classes=['non_default' , 'default'], support=True)\n",
    "\n",
    "knn_cl_reporter.fit(X_train_scaled, y_train)        # Fit the visualizer and the model\n",
    "knn_cl_reporter.score(X_test_scaled, y_test)        # Evaluate the model on the test data\n",
    "knn_cl_reporter.show()  \n",
    "\n",
    "pr_curve = PrecisionRecallCurve(knn)\n",
    "pr_curve.fit(X_train_scaled, y_train)\n",
    "pr_curve.score(X_test_scaled, y_test)\n",
    "pr_curve.show()\n",
    "\n",
    "roc_curve = ROCAUC(knn, classes=[\"not_default\", \"default\"])\n",
    "\n",
    "roc_curve.fit(X_train_scaled, y_train)        # Fit the training data to the visualizer\n",
    "roc_curve.score(X_test_scaled, y_test)        # Evaluate the model on the test data\n",
    "roc_curve.show() \n",
    "\n",
    "cm = ConfusionMatrix(knn, classes=['not default' , 'default'])\n",
    "# Fit fits the passed model. This is unnecessary if you pass the visualizer a pre-fitted model\n",
    "cm.fit(X_train_scaled, y_train)\n",
    "# To create the ConfusionMatrix, we need some test data. Score runs predict() on the data\n",
    "# and then creates the confusion_matrix from scikit-learn.\n",
    "cm.score(X_test_scaled, y_test)\n",
    "# How did we do?\n",
    "cm.show()\n",
    "\n",
    "iter_num+=1"
   ]
  },
  {
   "cell_type": "markdown",
   "metadata": {},
   "source": [
    "# Need to fix this to match KNN\n",
    "\n",
    "#### Precision Recall Curve \n",
    "\n",
    "Precision Recall curve for decision Tree. Shows that the best estimate for recall and precision is constant till the thresold of 0.4 and drops after that. Based on Precison and recall curve we can say that Random forest is the better model than the decision tree for this classification\n",
    "\n",
    "#### ROC AUC \n",
    "Area under curve for Random forest classification model is 0.62 which indicates it to be a slightly better than random prediction model sonce area under curve is only slghtly greater than 0.5. \n",
    "\n",
    "#### Classification Report \n",
    "\n",
    "classification report for this model is shoes F1 score apart from precision and recall.F1 score for Random forest model is 0.39 which is worse than that for random forest model. F1 score combines precision and recall parameters to give one common indicator. It is harmonic mean of precision and recall so this value is always between those two.\n",
    "\n",
    "#### Confusion matrix \n",
    "We can calculate other Parameters using precison , recall , specifity , true positive rate , false positive rate etc. using Confusion matrix. In case of our best Random forest model based on recall score We correctly predicted 563 out of 1327 defaults cases."
   ]
  },
  {
   "cell_type": "markdown",
   "metadata": {},
   "source": [
    "### Regression Tasks \n",
    "\n",
    "We evaluated our Regression models based on the residual and Prediction errors for the model."
   ]
  },
  {
   "cell_type": "markdown",
   "metadata": {},
   "source": [
    "#### Random Forest Regression \n",
    "\n"
   ]
  },
  {
   "cell_type": "code",
   "execution_count": null,
   "metadata": {
    "scrolled": true
   },
   "outputs": [],
   "source": [
    "t0 = time()\n",
    "\n",
    "X_train, X_test = X[rf_reg_trn_idx_max_acc], X[rf_reg_tst_idx_max_acc]\n",
    "y_train, y_test = y[rf_reg_trn_idx_max_acc], y[rf_reg_tst_idx_max_acc]\n",
    "\n",
    "print ('running model for max score {}'.format(rf_reg_max_score))\n",
    "print('parameters for the model with best accuracy is num_estimators {} , max_depth {}'.format(\n",
    "    rf_reg_estimator_for_max, rf_reg_max_depth_max))\n",
    "\n",
    "random_forest = RandomForestRegressor(n_estimators=rf_reg_estimator_for_max, max_depth=rf_reg_max_depth_max, \n",
    "                                              random_state=0)\n",
    "\n",
    "\n",
    "rf_pred_error = PredictionError(random_forest)\n",
    "\n",
    "rf_pred_error.fit(X_train, y_train)  # Fit the training data to the visualizer\n",
    "rf_pred_error.score(X_test, y_test)  # Evaluate the model on the test data\n",
    "rf_pred_error.show() \n",
    "\n",
    "res_plt = ResidualsPlot(random_forest)\n",
    "res_plt.fit(X_test, y_test)\n",
    "res_plt.show()"
   ]
  },
  {
   "cell_type": "markdown",
   "metadata": {},
   "source": [
    "Based omn R squared value it looks the Random forest model is not the best for prediction of PAY_amount value. it looks line there is some linear relation in payment values which "
   ]
  },
  {
   "cell_type": "markdown",
   "metadata": {},
   "source": [
    "#### Decision Tree "
   ]
  },
  {
   "cell_type": "code",
   "execution_count": null,
   "metadata": {},
   "outputs": [],
   "source": [
    "t0 = time()\n",
    " \n",
    "X_train, X_test = X[dt_reg_trn_idx_max_acc], X[dt_reg_tst_idx_max_acc]\n",
    "y_train, y_test = y[dt_reg_trn_idx_max_acc], y[dt_reg_tst_idx_max_acc]\n",
    "\n",
    "print ('running model for max score {}'.format(dt_reg_max_acc))\n",
    "print('parameters for the model with best accuracy is   max_depth {}'.format( dt_reg_max_depth_max))\n",
    "\n",
    "decision_tree = DecisionTreeRegressor(max_depth=dt_reg_max_depth_max, \n",
    "                                              random_state=0)\n",
    "\n",
    "rf_pred_error = PredictionError(decision_tree)\n",
    "\n",
    "rf_pred_error.fit(X_train, y_train)  # Fit the training data to the visualizer\n",
    "rf_pred_error.score(X_test, y_test)  # Evaluate the model on the test data\n",
    "rf_pred_error.show() \n",
    "\n",
    "res_plt = ResidualsPlot(decision_tree)\n",
    "res_plt.fit(X_test, y_test)\n",
    "res_plt.show()"
   ]
  },
  {
   "cell_type": "markdown",
   "metadata": {},
   "source": [
    "R squared value for decision tree model is even lower than that for random forest model. This indicates that even decision tree model is not the best model for the regression task. We might analyse and use other model for better prediction of these values."
   ]
  },
  {
   "cell_type": "markdown",
   "metadata": {},
   "source": [
    "#### KNN"
   ]
  },
  {
   "cell_type": "code",
   "execution_count": null,
   "metadata": {
    "scrolled": true
   },
   "outputs": [],
   "source": [
    "t0 = time()\n",
    " \n",
    "\n",
    "X_train, X_test = X[knn_trn_idx_max_acc_reg], X[knn_tst_idx_max_acc_reg]\n",
    "y_train, y_test = y[knn_trn_idx_max_acc_reg], y[knn_tst_idx_max_acc_reg]\n",
    " \n",
    "#print ('running model for max score {}'.format(knn_reg_max_score))\n",
    "print('parameters for the model with best accuracy is met {} , K {}'.format(\n",
    "    max_met_reg, max_k_reg))\n",
    "\n",
    "### fix this \n",
    "knn = KNeighborsRegressor(n_neighbors= max_k_reg, weights='uniform', metric=max_met_reg)\n",
    "\n",
    "knn_pred_error = PredictionError(knn)\n",
    "\n",
    "knn_pred_error.fit(X_train, y_train)  # Fit the training data to the visualizer\n",
    "knn_pred_error.score(X_test, y_test)  # Evaluate the model on the test data\n",
    "knn_pred_error.show() \n",
    "\n",
    "res_plt = ResidualsPlot(knn)\n",
    "res_plt.fit(X_test, y_test)\n",
    "res_plt.show()"
   ]
  },
  {
   "cell_type": "markdown",
   "metadata": {},
   "source": [
    "## Modeling and Evaluation 5\n",
    "\n",
    "Following is a Comparison of Decision Tree and Random forest classifiers with same date. We are using error estimates to compare two models. The error estimates should follow Gaussian distribution. We calculate mean and standard error using the formula discussed in the class. \n",
    "<TODO add image and formula >\n",
    "    We are caclulating confidence interval for error differences to figure out if the differences are significant\n",
    "  We can add similar test for knn , decision tree and knn and random forest comparison \n"
   ]
  },
  {
   "cell_type": "markdown",
   "metadata": {},
   "source": [
    "### Decision Tree and Random Forest Comparision based on error rate \n",
    "\n",
    "Our model comparison is based on following formula. \n",
    "We compare d bar by taking averedge  of the differences of the error rates of the models in different folds using same training set data.\n",
    "The crieteria for model comparison is difference in error rates of the models which turns out to be same as difference between accuracies of the models. \n",
    "The Null hypothesis is that all choosen models have same accuracy.\n",
    "We have choosen parameters for best performing models from different classes for the comparison. These models are run multiple times based on cross validation split and corresponding accuracies from each fold are compared."
   ]
  },
  {
   "cell_type": "code",
   "execution_count": null,
   "metadata": {},
   "outputs": [],
   "source": [
    "Image(url ='../images/model_comparison.png')"
   ]
  },
  {
   "cell_type": "code",
   "execution_count": null,
   "metadata": {},
   "outputs": [],
   "source": [
    "iter_num=0\n",
    "times_rec=[]\n",
    "error_rec= [] \n",
    "for train_indices, test_indices in cv_object.split(X,y): \n",
    "    X_train = X[train_indices]\n",
    "    y_train = y[train_indices]\n",
    "    X_test = X[test_indices]\n",
    "    y_test = y[test_indices]\n",
    "    \n",
    "    decision_tree = DecisionTreeClassifier(class_weight = dt_class_weight_for_max)\n",
    "    decision_tree.fit(X_train,y_train) # train object\n",
    "    \n",
    "    random_forest = RandomForestClassifier(n_estimators=rf_estimator_for_max, max_depth=rf_max_depth_max,\n",
    "                         random_state=0, class_weight = rf_class_weight_max)\n",
    "    random_forest.fit(X_train,y_train) \n",
    "    \n",
    "    y_hat_dt = decision_tree.predict(X_test) \n",
    "    y_hat_rf = random_forest.predict(X_test) \n",
    "\n",
    "    # now let's get the accuracy and confusion matrix for this iterations of training/testing\n",
    "    acc_dt = mt.accuracy_score(y_test,y_hat_dt)\n",
    "    acc_rf = mt.accuracy_score(y_test,y_hat_rf)\n",
    "    error_rec.append(acc_dt - acc_rf)\n",
    "\n",
    "    iter_num+=1\n",
    "\n",
    "print(error_rec)\n",
    "\n",
    "d_bar = sum(error_rec)/len(error_rec)\n",
    "siqma_squared = sum((error_rec - d_bar))/(5-1)\n",
    "print(d_bar)\n",
    "print(siqma_squared)\n",
    "\n",
    "from scipy import stats\n",
    "import math\n",
    "\n",
    "confidence_interval = ( d_bar + (1/math.sqrt(4))*stats.t.isf(.975, 4),  d_bar - (1/math.sqrt(4))*stats.t.isf(.975, 4))\n",
    "print(confidence_interval)"
   ]
  },
  {
   "cell_type": "markdown",
   "metadata": {},
   "source": [
    "As we can see above tht zero is a possible value for 95% confidence interval it means that we can't reject the null hypothesis that both the models have no difference in their error rate with 95% confidence."
   ]
  },
  {
   "cell_type": "markdown",
   "metadata": {},
   "source": [
    "###  KNN  and Random Forest Comparision based on error rate "
   ]
  },
  {
   "cell_type": "code",
   "execution_count": null,
   "metadata": {},
   "outputs": [],
   "source": [
    "iter_num=0\n",
    "times_rec=[]\n",
    "error_rec= [] \n",
    "for train_indices, test_indices in cv_object.split(X,y): \n",
    "    X_train = X[train_indices]\n",
    "    y_train = y[train_indices]\n",
    "    X_test = X[test_indices]\n",
    "    y_test = y[test_indices]\n",
    "    knn = KNeighborsClassifier(n_neighbors= max_k, weights='uniform', metric=max_met)\n",
    "\n",
    "    random_forest = RandomForestClassifier(n_estimators=rf_estimator_for_max, max_depth=rf_max_depth_max,\n",
    "                         random_state=0, class_weight = rf_class_weight_max)\n",
    "    knn.fit(X_train,y_train) # train object\n",
    "\n",
    "    random_forest.fit(X_train,y_train) \n",
    "    \n",
    "    y_hat_knn = knn.predict(X_test) \n",
    "    y_hat_rf = random_forest.predict(X_test) \n",
    "\n",
    "    # now let's get the accuracy and confusion matrix for this iterations of training/testing\n",
    "    acc_knn = mt.accuracy_score(y_test,y_hat_knn)\n",
    "    acc_rf = mt.accuracy_score(y_test,y_hat_rf)\n",
    "    error_rec.append(acc_knn - acc_rf)\n",
    "\n",
    "    iter_num+=1\n",
    "\n",
    "print(error_rec)\n",
    "\n",
    "d_bar = sum(error_rec)/len(error_rec)\n",
    "siqma_squared = sum((error_rec - d_bar))/(5-1)\n",
    "print(d_bar)\n",
    "print(siqma_squared)\n",
    "\n",
    "from scipy import stats\n",
    "import math\n",
    "\n",
    "confidence_interval = ( d_bar + (1/math.sqrt(4))*stats.t.isf(.975, 4),  d_bar - (1/math.sqrt(4))*stats.t.isf(.975, 4))\n",
    "print(confidence_interval)"
   ]
  },
  {
   "cell_type": "markdown",
   "metadata": {},
   "source": [
    "As we can see above tht zero is a possible value for 95% confidence interval it means that we can't reject the null hypothesis that both the models have no difference in their error rate with 95% confidence."
   ]
  },
  {
   "cell_type": "code",
   "execution_count": null,
   "metadata": {
    "scrolled": false
   },
   "outputs": [],
   "source": [
    "from sklearn.calibration import calibration_curve\n",
    "plt.figure(figsize=(10, 10))\n",
    "ax1 = plt.subplot2grid((3, 1), (0, 0), rowspan=2)\n",
    "ax2 = plt.subplot2grid((3, 1), (2, 0))\n",
    "\n",
    "ax1.plot([0, 1], [0, 1], \"k:\", label=\"Perfectly calibrated\")\n",
    "for clf, name in [(knn, 'KNN'),\n",
    "                  (decision_tree, 'DT'),\n",
    "                  (random_forest, 'random_forest')\n",
    "                  ]:\n",
    "    clf.fit(X_train, y_train)\n",
    "    if hasattr(clf, \"predict_proba\"):\n",
    "        prob_pos = clf.predict_proba(X_test)[:, 1]\n",
    "    else:  # use decision function\n",
    "        prob_pos = clf.decision_function(X_test)\n",
    "        prob_pos = \\\n",
    "            (prob_pos - prob_pos.min()) / (prob_pos.max() - prob_pos.min())\n",
    "    fraction_of_positives, mean_predicted_value = \\\n",
    "        calibration_curve(y_test, prob_pos, n_bins=10)\n",
    "\n",
    "    ax1.plot(mean_predicted_value, fraction_of_positives, \"s-\",\n",
    "             label=\"%s\" % (name, ))\n",
    "\n",
    "    ax2.hist(prob_pos, range=(0, 1), bins=10, label=name,\n",
    "             histtype=\"step\", lw=2)\n",
    "\n",
    "ax1.set_ylabel(\"Fraction of positives\")\n",
    "ax1.set_ylim([-0.05, 1.05])\n",
    "ax1.legend(loc=\"lower right\")\n",
    "ax1.set_title('Calibration plots  (reliability curve)')\n",
    "\n",
    "ax2.set_xlabel(\"Mean predicted value\")\n",
    "ax2.set_ylabel(\"Count\")\n",
    "ax2.legend(loc=\"upper center\", ncol=2)\n",
    "\n",
    "plt.tight_layout()\n",
    "plt.show()"
   ]
  },
  {
   "cell_type": "markdown",
   "metadata": {},
   "source": [
    "## Modeling and Evaluation 6\n",
    "\n",
    "We 'll be checking feature importance for our best performing model in this section. "
   ]
  },
  {
   "cell_type": "markdown",
   "metadata": {},
   "source": [
    "### Random Forest "
   ]
  },
  {
   "cell_type": "markdown",
   "metadata": {},
   "source": [
    "Feature importance for best performing  random forest model"
   ]
  },
  {
   "cell_type": "code",
   "execution_count": null,
   "metadata": {
    "scrolled": true
   },
   "outputs": [],
   "source": [
    "iter_num=0\n",
    "times_rec=[]\n",
    "\n",
    "X_train, X_test = X[rf_trn_idx_max_acc], X[rf_tst_idx_max_acc]\n",
    "y_train, y_test = y[rf_trn_idx_max_acc], y[rf_tst_idx_max_acc]\n",
    " #we count the time in executing the logistic regression\n",
    "t0 = time()\n",
    "random_forest = RandomForestClassifier(n_estimators=rf_estimator_for_max, max_depth=rf_max_depth_max,\n",
    "                         random_state=0, class_weight = rf_class_weight_max)\n",
    "viz = FeatureImportances(random_forest, labels = cc.columns)\n",
    "viz.fit(X_train_scaled,y_train)\n",
    "viz.show()"
   ]
  },
  {
   "cell_type": "markdown",
   "metadata": {},
   "source": [
    "As We can see from the above graph the most important features for determining whether a person will default or not are PAY_AMT's and Limit balance. We can interpret from this model that the possibility of a person getting detault is based on his his payment of past dues more specifically the most recent one. The Most recent payment pattern is one of the major factor to determine whether a person is going to default in next month or not.\n",
    "The model also underlines some less important features like education , marriage and sex which don't seem to be that important in a person a chances of getting default next month. \n",
    "The model conclusion are aligned with common sense reasoning that a person in financial crisis is more likely to reflect that effect in his current and most recent financial transactions and the financial behavior are less of a factor of sex , marital status or education"
   ]
  },
  {
   "cell_type": "markdown",
   "metadata": {},
   "source": [
    "### Decision Tree \n",
    "\n",
    "Feature importance for best performing  random forest model"
   ]
  },
  {
   "cell_type": "code",
   "execution_count": null,
   "metadata": {
    "scrolled": true
   },
   "outputs": [],
   "source": [
    "iter_num=0\n",
    "times_rec=[]\n",
    "X_train, X_test = X[dt_trn_idx_max_acc], X[dt_tst_idx_max_acc]\n",
    "y_train, y_test = y[dt_trn_idx_max_acc], y[dt_tst_idx_max_acc]\n",
    "     \n",
    "decision_tree = DecisionTreeClassifier(class_weight = dt_class_weight_for_max)\n",
    "    \n",
    " #we count the time in executing the logistic regression\n",
    "t0 = time()\n",
    "random_forest = DecisionTreeClassifier()\n",
    "viz = FeatureImportances(decision_tree, labels = cc.columns)\n",
    "viz.fit(X_train,y_train)\n",
    "viz.show()"
   ]
  },
  {
   "cell_type": "markdown",
   "metadata": {},
   "source": [
    "Relative of features as per the Decision Tree are almost same as that of Random forest. One distict feature of this model is that it gives more emphasis on PAY_1 attribute. which is the current payment status of a customer. The effect of this attibute averages out in case of Random forest model as that one relies on multiple decision trees and all of them this attirbute might not even be selected.\n",
    "The reasoning of a person getting defauled based on his current history is supported by decision tree model as well.\n",
    "This model also support the conclusion of Rendon forest model related to less important features of a person getting default. Sex, ,arital status and education are relatively less important. "
   ]
  },
  {
   "cell_type": "markdown",
   "metadata": {},
   "source": [
    "### KNN \n",
    "\n",
    "In case of knn there is no output for feature importance. We run into following error when we attempt to draw graph in same way in which we did for decision tree and random forest. \n",
    "In case of KNN we use particular metric to determine proximity of nodes and cluster them accordingly. The distance is measured based on the difference between corresponding features."
   ]
  },
  {
   "cell_type": "code",
   "execution_count": null,
   "metadata": {},
   "outputs": [],
   "source": [
    "iter_num=0\n",
    "times_rec=[]\n",
    " \n",
    "\n",
    "for train_indices, test_indices in cv_object.split(X,y): \n",
    "    X_train = X[train_indices]\n",
    "    y_train = y[train_indices] \n",
    "    X_test = X[test_indices]\n",
    "    y_test = y[test_indices]\n",
    "    \n",
    "     #we count the time in executing the logistic regression\n",
    "    t0 = time()\n",
    "    knn = KNeighborsClassifier(n_neighbors=5, weights='uniform', metric='euclidean')\n",
    "    #viz = FeatureImportances(knn, labels = cc.columns)\n",
    "    #viz.fit(X_train_scaled,y_train)\n",
    "    #viz.show()"
   ]
  },
  {
   "cell_type": "code",
   "execution_count": null,
   "metadata": {},
   "outputs": [],
   "source": []
  },
  {
   "cell_type": "markdown",
   "metadata": {},
   "source": [
    "### References \n",
    "    * Introduction To Data Mining by Tan, Steinbach, and Kumar First Edition, ISBN-10: 0321321367\n",
    "    * Async Lectures from SMU ML 7331 course "
   ]
  },
  {
   "cell_type": "code",
   "execution_count": null,
   "metadata": {},
   "outputs": [],
   "source": []
  }
 ],
 "metadata": {
  "kernelspec": {
   "display_name": "Python 3",
   "language": "python",
   "name": "python3"
  },
  "language_info": {
   "codemirror_mode": {
    "name": "ipython",
    "version": 3
   },
   "file_extension": ".py",
   "mimetype": "text/x-python",
   "name": "python",
   "nbconvert_exporter": "python",
   "pygments_lexer": "ipython3",
   "version": "3.7.4"
  }
 },
 "nbformat": 4,
 "nbformat_minor": 2
}
