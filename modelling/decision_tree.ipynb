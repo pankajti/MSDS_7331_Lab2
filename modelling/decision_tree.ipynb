{
 "cells": [
  {
   "cell_type": "code",
   "execution_count": 40,
   "metadata": {},
   "outputs": [],
   "source": [
    "import pandas as pd\n",
    "import numpy as np\n",
    "import matplotlib.pyplot as plt\n",
    "import seaborn as sns\n",
    "from sklearn import svm\n",
    "from sklearn.metrics import accuracy_score \n",
    "from sklearn.metrics import confusion_matrix\n",
    "import warnings\n",
    "from sklearn import preprocessing\n",
    "from sklearn.model_selection import train_test_split\n",
    "from sklearn import metrics as mt\n",
    "import statsmodels.api as sm\n",
    "from time import time\n",
    "warnings.filterwarnings('ignore')\n",
    "from sklearn.preprocessing import StandardScaler\n",
    "import pandas as pd\n",
    "import numpy as np\n",
    "from sklearn.model_selection import StratifiedShuffleSplit\n",
    "from sklearn.ensemble import RandomForestClassifier\n",
    "from sklearn.tree import DecisionTreeClassifier"
   ]
  },
  {
   "cell_type": "code",
   "execution_count": 41,
   "metadata": {},
   "outputs": [],
   "source": [
    "ccdefault=pd.read_csv('../data//UCI_Credit_Card.csv')\n",
    "ccdefault.rename(columns={'default.payment.next.month':'DEFAULT'},inplace=True)\n",
    "ccdefault.rename(columns={'PAY_0':'PAY_1'},inplace=True)\n"
   ]
  },
  {
   "cell_type": "code",
   "execution_count": 42,
   "metadata": {},
   "outputs": [],
   "source": [
    "mcc = ccdefault.copy()\n",
    "# Y Response variable dataframe\n",
    "mcc_Y = mcc['DEFAULT']\n",
    "\n",
    "# Features with no predictive features with respect to resposne variable\n",
    "mcredit = mcc.drop(['DEFAULT'],axis=1)\n",
    "# Create inci_X Explanatory Variables DF to support the individual models\n",
    "mcc_X = mcredit\n",
    "mcc_X_knn = mcredit.copy()\n",
    "mcc_X_nb = mcredit.copy()"
   ]
  },
  {
   "cell_type": "code",
   "execution_count": 43,
   "metadata": {},
   "outputs": [
    {
     "name": "stdout",
     "output_type": "stream",
     "text": [
      "StratifiedShuffleSplit(n_splits=5, random_state=11, test_size=0.2,\n",
      "            train_size=0.8)\n",
      "TRAIN: [28976 29616 20315 ...  6063 16283 15621] TEST: [ 6669  6830 16516 ... 16163  1990  7999]\n",
      "TRAIN: [11237  9898 17028 ...  1265   611  7250] TEST: [ 4174 19421 15502 ... 19995  6124 25090]\n",
      "TRAIN: [23721 14143  5492 ...  4346  5119 23351] TEST: [21778  4074 19546 ...   941 14061 13584]\n",
      "TRAIN: [19706  2009 13912 ...  3924 20112 21366] TEST: [ 7136 15572 21097 ... 24126  8440  7078]\n",
      "TRAIN: [ 5794  1831 15948 ... 18673 15962 17274] TEST: [17565 28798 29978 ... 10151 11434 21212]\n"
     ]
    }
   ],
   "source": [
    "cc = ccdefault.copy() # taking a copy in memory\n",
    "if 'DEFAULT' in cc:\n",
    "    y = cc['DEFAULT'].values\n",
    "    #del cc['ID']\n",
    "    del cc['DEFAULT']\n",
    "    del cc['BILL_AMT1']\n",
    "    del cc['BILL_AMT2']\n",
    "    del cc['BILL_AMT3']\n",
    "    del cc['BILL_AMT4']\n",
    "    del cc['BILL_AMT5']\n",
    "    del cc['BILL_AMT6']\n",
    "    X = cc.values\n",
    "num_cv_iterations = 5\n",
    "num_instances = len(y)\n",
    "cv_object = StratifiedShuffleSplit(n_splits = num_cv_iterations,\n",
    "test_size = 0.20, train_size = 0.80, random_state=11)\n",
    "cv_object.get_n_splits(X, y)\n",
    "print(cv_object)\n",
    "for train_index, test_index in cv_object.split(X, y):\n",
    "    print(\"TRAIN:\", train_index, \"TEST:\", test_index)\n",
    "    X_train, X_test = X[train_index], X[test_index]\n",
    "    y_train, y_test = y[train_index], y[test_index]"
   ]
  },
  {
   "cell_type": "code",
   "execution_count": 44,
   "metadata": {},
   "outputs": [],
   "source": [
    "scl_obj = StandardScaler()\n",
    "scl_obj.fit(X_train) # find scalings for each column that make this zero mean and unit std\n",
    "# the line of code above only looks at training data to get mean and std and we can use it \n",
    "# to transform new feature data\n",
    "\n",
    "X_train_scaled = scl_obj.transform(X_train) # apply to training\n",
    "X_test_scaled = scl_obj.transform(X_test) # apply those means and std to the test set (without snooping at the test set values)\n",
    "\n",
    "\n",
    "X_train_scaled1 = scl_obj.fit_transform(X_train) # apply to training\n",
    "X_test_scaled1 = scl_obj.fit_transform(X_test) # apply those means and std to the test set (without snooping at the test set values)\n",
    "\n"
   ]
  },
  {
   "cell_type": "code",
   "execution_count": 45,
   "metadata": {
    "scrolled": true
   },
   "outputs": [
    {
     "name": "stdout",
     "output_type": "stream",
     "text": [
      "accuracy: 0.7238333333333333\n",
      "[[3788  885]\n",
      " [ 772  555]]\n",
      "              precision    recall  f1-score   support\n",
      "\n",
      "           0       0.83      0.81      0.82      4673\n",
      "           1       0.39      0.42      0.40      1327\n",
      "\n",
      "    accuracy                           0.72      6000\n",
      "   macro avg       0.61      0.61      0.61      6000\n",
      "weighted avg       0.73      0.72      0.73      6000\n",
      "\n",
      "PAY_5 has weight of 0.0115069503920471\n",
      "PAY_4 has weight of 0.012423563499094533\n",
      "PAY_6 has weight of 0.013618241184880687\n",
      "MARRIAGE has weight of 0.013675188300032684\n",
      "PAY_3 has weight of 0.014298491541967223\n",
      "SEX has weight of 0.014486162476050387\n",
      "EDUCATION has weight of 0.020608332212804618\n",
      "PAY_2 has weight of 0.03875655047979269\n",
      "LIMIT_BAL has weight of 0.062099494620452084\n",
      "PAY_AMT5 has weight of 0.06260519868718628\n",
      "PAY_AMT4 has weight of 0.06327085557753728\n",
      "PAY_AMT6 has weight of 0.06518351874232146\n",
      "PAY_AMT1 has weight of 0.0655728274087204\n",
      "PAY_AMT3 has weight of 0.07845076539940564\n",
      "AGE has weight of 0.08505921644350052\n",
      "PAY_AMT2 has weight of 0.08541610602202525\n",
      "ID has weight of 0.12983013711433425\n",
      "PAY_1 has weight of 0.1631383998978468\n"
     ]
    }
   ],
   "source": [
    "decision_tree =  DecisionTreeClassifier( ) # get object, the 'C' value is less (can you guess why??)\n",
    "decision_tree.fit(X_train_scaled,y_train)  # train object\n",
    "\n",
    "y_hat = decision_tree.predict(X_test_scaled) # get test set precitions\n",
    "\n",
    "acc = mt.accuracy_score(y_test,y_hat)\n",
    "conf = mt.confusion_matrix(y_test,y_hat)\n",
    "print('accuracy:', acc )\n",
    "print(conf )\n",
    "ClassReport = mt.classification_report(y_test,y_hat)\n",
    "print(ClassReport)\n",
    "\n",
    "# sort these attributes and spit them out\n",
    "zip_vars = zip(decision_tree.feature_importances_ ,cc.columns) # combine attributes\n",
    "zip_vars = sorted(zip_vars)\n",
    "for coef, name in zip_vars:\n",
    "    print(name, 'has weight of', coef) # now print them out"
   ]
  },
  {
   "cell_type": "code",
   "execution_count": 46,
   "metadata": {
    "scrolled": true
   },
   "outputs": [
    {
     "name": "stdout",
     "output_type": "stream",
     "text": [
      "The time it takes to fit and predict is 0.31749987602233887\n",
      "\n",
      "====Iteration 0  ====\n",
      "accuracy 0.7343333333333333\n",
      "confusion matrix\n",
      " [[3856  817]\n",
      " [ 777  550]]\n",
      "\n",
      " *** CLASSIFICATION REPORT ****\n",
      "              precision    recall  f1-score   support\n",
      "\n",
      "           0       0.83      0.83      0.83      4673\n",
      "           1       0.40      0.41      0.41      1327\n",
      "\n",
      "    accuracy                           0.73      6000\n",
      "   macro avg       0.62      0.62      0.62      6000\n",
      "weighted avg       0.74      0.73      0.74      6000\n",
      "\n",
      "The time it takes to fit and predict is 0.2993173599243164\n",
      "\n",
      "====Iteration 1  ====\n",
      "accuracy 0.7216666666666667\n",
      "confusion matrix\n",
      " [[3785  888]\n",
      " [ 782  545]]\n",
      "\n",
      " *** CLASSIFICATION REPORT ****\n",
      "              precision    recall  f1-score   support\n",
      "\n",
      "           0       0.83      0.81      0.82      4673\n",
      "           1       0.38      0.41      0.39      1327\n",
      "\n",
      "    accuracy                           0.72      6000\n",
      "   macro avg       0.60      0.61      0.61      6000\n",
      "weighted avg       0.73      0.72      0.73      6000\n",
      "\n",
      "The time it takes to fit and predict is 0.2872147560119629\n",
      "\n",
      "====Iteration 2  ====\n",
      "accuracy 0.7221666666666666\n",
      "confusion matrix\n",
      " [[3749  924]\n",
      " [ 743  584]]\n",
      "\n",
      " *** CLASSIFICATION REPORT ****\n",
      "              precision    recall  f1-score   support\n",
      "\n",
      "           0       0.83      0.80      0.82      4673\n",
      "           1       0.39      0.44      0.41      1327\n",
      "\n",
      "    accuracy                           0.72      6000\n",
      "   macro avg       0.61      0.62      0.62      6000\n",
      "weighted avg       0.74      0.72      0.73      6000\n",
      "\n",
      "The time it takes to fit and predict is 0.3109140396118164\n",
      "\n",
      "====Iteration 3  ====\n",
      "accuracy 0.7158333333333333\n",
      "confusion matrix\n",
      " [[3765  908]\n",
      " [ 797  530]]\n",
      "\n",
      " *** CLASSIFICATION REPORT ****\n",
      "              precision    recall  f1-score   support\n",
      "\n",
      "           0       0.83      0.81      0.82      4673\n",
      "           1       0.37      0.40      0.38      1327\n",
      "\n",
      "    accuracy                           0.72      6000\n",
      "   macro avg       0.60      0.60      0.60      6000\n",
      "weighted avg       0.72      0.72      0.72      6000\n",
      "\n",
      "The time it takes to fit and predict is 0.3020968437194824\n",
      "\n",
      "====Iteration 4  ====\n",
      "accuracy 0.7185\n",
      "confusion matrix\n",
      " [[3770  903]\n",
      " [ 786  541]]\n",
      "\n",
      " *** CLASSIFICATION REPORT ****\n",
      "              precision    recall  f1-score   support\n",
      "\n",
      "           0       0.83      0.81      0.82      4673\n",
      "           1       0.37      0.41      0.39      1327\n",
      "\n",
      "    accuracy                           0.72      6000\n",
      "   macro avg       0.60      0.61      0.60      6000\n",
      "weighted avg       0.73      0.72      0.72      6000\n",
      "\n",
      "The average time to fit and predict 3 logistic regressions with 80/20 training/test split is: 0.3034085750579834\n"
     ]
    }
   ],
   "source": [
    "# first we create a reusable logisitic regression object\n",
    "#   here we can setup the object with different learning parameters and constants\n",
    "#WARNING: THE FIRST WIEGHT WAS 1 \n",
    "iter_num=0\n",
    "times_rec=[]\n",
    "for train_indices, test_indices in cv_object.split(X,y): \n",
    "    X_train = X[train_indices]\n",
    "    y_train = y[train_indices]\n",
    "    \n",
    "    X_test = X[test_indices]\n",
    "    y_test = y[test_indices]\n",
    "    \n",
    "     #we count the time in executing the logistic regression\n",
    "    t0 = time()\n",
    "    decision_tree = DecisionTreeClassifier()\n",
    "    decision_tree.fit(X_train,y_train)  # train object\n",
    "    y_hat = decision_tree.predict(X_test) # get test set precitions\n",
    "    \n",
    "    t1=time()\n",
    "    diff=np.array([t1-t0])\n",
    "    \n",
    "    print (\"The time it takes to fit and predict is \" + str(diff[0]) + \"\\n\")    \n",
    "    times_rec=np.append(times_rec,diff)\n",
    "    \n",
    "\n",
    "    # now let's get the accuracy and confusion matrix for this iterations of training/testing\n",
    "    acc = mt.accuracy_score(y_test,y_hat)\n",
    "    conf = mt.confusion_matrix(y_test,y_hat)\n",
    "    print(\"====Iteration\",iter_num,\" ====\")\n",
    "    print(\"accuracy\", acc )\n",
    "    print(\"confusion matrix\\n\",conf)\n",
    "    \n",
    "    print(\"\\n *** CLASSIFICATION REPORT ****\")\n",
    "    #### CLASSIFICATION REPORT\n",
    "    ClassReport = mt.classification_report(y_test,y_hat)\n",
    "    print(ClassReport)\n",
    "    \n",
    "    iter_num+=1\n",
    "    \n",
    "    \n",
    "print(\"The average time to fit and predict 3 Decision Tree classifiers  with 80/20 training/test split is: \" + str(times_rec.mean()) )"
   ]
  },
  {
   "cell_type": "code",
   "execution_count": 25,
   "metadata": {
    "scrolled": false
   },
   "outputs": [
    {
     "data": {
      "image/png": "[encoded data removed]",
      "text/plain": [
       "<Figure size 720x432 with 1 Axes>"
      ]
     },
     "metadata": {},
     "output_type": "display_data"
    }
   ],
   "source": [
    "from matplotlib import pyplot as plt\n",
    "%matplotlib inline\n",
    "plt.style.use('ggplot')\n",
    "\n",
    "plt.figure(figsize=(10,6))\n",
    "weights = pd.Series(decision_tree.feature_importances_,index=cc.columns)\n",
    "weights.plot(kind='bar')\n",
    "plt.show()"
   ]
  },
  {
   "cell_type": "code",
   "execution_count": 47,
   "metadata": {
    "scrolled": false
   },
   "outputs": [
    {
     "name": "stdout",
     "output_type": "stream",
     "text": [
      "confusion matrix For decision tree model \n"
     ]
    },
    {
     "data": {
      "text/plain": [
       "<matplotlib.axes._subplots.AxesSubplot at 0x1c2231f590>"
      ]
     },
     "execution_count": 47,
     "metadata": {},
     "output_type": "execute_result"
    },
    {
     "data": {
      "image/png": "[encoded data removed]",
      "text/plain": [
       "<Figure size 648x648 with 2 Axes>"
      ]
     },
     "metadata": {},
     "output_type": "display_data"
    }
   ],
   "source": [
    "cm = confusion_matrix(y_hat, y_test)\n",
    "plt.figure(figsize=(9,9))\n",
    "print ('confusion matrix For decision tree model ')\n",
    "#print(cm)\n",
    "sns.heatmap(cm, annot= True, annot_kws={\"size\": 24}, fmt = 'd')\n"
   ]
  },
  {
   "cell_type": "code",
   "execution_count": 48,
   "metadata": {},
   "outputs": [
    {
     "name": "stdout",
     "output_type": "stream",
     "text": [
      "accuracy: 0.7316666666666667\n",
      "[[3859  814]\n",
      " [ 796  531]]\n",
      "              precision    recall  f1-score   support\n",
      "\n",
      "           0       0.83      0.83      0.83      4673\n",
      "           1       0.39      0.40      0.40      1327\n",
      "\n",
      "    accuracy                           0.73      6000\n",
      "   macro avg       0.61      0.61      0.61      6000\n",
      "weighted avg       0.73      0.73      0.73      6000\n",
      "\n",
      "PAY_5 has weight of 0.008684166249472533\n",
      "SEX has weight of 0.011268966050718691\n",
      "MARRIAGE has weight of 0.012684918400488675\n",
      "PAY_3 has weight of 0.013073220854941999\n",
      "PAY_6 has weight of 0.01325084278585652\n",
      "PAY_2 has weight of 0.014433465080084832\n",
      "PAY_4 has weight of 0.014786225349526994\n",
      "EDUCATION has weight of 0.023799722099037534\n",
      "PAY_AMT5 has weight of 0.06179939623520834\n",
      "PAY_AMT6 has weight of 0.06715006206597386\n",
      "PAY_AMT3 has weight of 0.06722150511979126\n",
      "LIMIT_BAL has weight of 0.07099889840996683\n",
      "PAY_AMT4 has weight of 0.07507594218638862\n",
      "PAY_AMT1 has weight of 0.07830626143226961\n",
      "AGE has weight of 0.08296298365581747\n",
      "PAY_AMT2 has weight of 0.08399433517879504\n",
      "ID has weight of 0.11732329282243842\n",
      "PAY_1 has weight of 0.18318579602322282\n"
     ]
    }
   ],
   "source": [
    "decision_tree =  DecisionTreeClassifier( class_weight='balanced') # get object, the 'C' value is less (can you guess why??)\n",
    "decision_tree.fit(X_train_scaled,y_train)  # train object\n",
    "\n",
    "y_hat = decision_tree.predict(X_test_scaled) # get test set precitions\n",
    "\n",
    "acc = mt.accuracy_score(y_test,y_hat)\n",
    "conf = mt.confusion_matrix(y_test,y_hat)\n",
    "print('accuracy:', acc )\n",
    "print(conf )\n",
    "ClassReport = mt.classification_report(y_test,y_hat)\n",
    "print(ClassReport)\n",
    "\n",
    "# sort these attributes and spit them out\n",
    "zip_vars = zip(decision_tree.feature_importances_ ,cc.columns) # combine attributes\n",
    "zip_vars = sorted(zip_vars)\n",
    "for coef, name in zip_vars:\n",
    "    print(name, 'has weight of', coef) # now print them out"
   ]
  },
  {
   "cell_type": "code",
   "execution_count": 49,
   "metadata": {
    "scrolled": true
   },
   "outputs": [
    {
     "data": {
      "image/png": "[encoded data removed]",
      "text/plain": [
       "<Figure size 720x432 with 1 Axes>"
      ]
     },
     "metadata": {},
     "output_type": "display_data"
    }
   ],
   "source": [
    "from matplotlib import pyplot as plt\n",
    "%matplotlib inline\n",
    "plt.style.use('ggplot')\n",
    "\n",
    "plt.figure(figsize=(10,6))\n",
    "weights = pd.Series(decision_tree.feature_importances_,index=cc.columns)\n",
    "weights.plot(kind='bar')\n",
    "plt.show()"
   ]
  },
  {
   "cell_type": "code",
   "execution_count": 50,
   "metadata": {
    "scrolled": true
   },
   "outputs": [
    {
     "name": "stdout",
     "output_type": "stream",
     "text": [
      "confusion matrix For decision tree model \n"
     ]
    },
    {
     "data": {
      "text/plain": [
       "<matplotlib.axes._subplots.AxesSubplot at 0x1c20e71bd0>"
      ]
     },
     "execution_count": 50,
     "metadata": {},
     "output_type": "execute_result"
    },
    {
     "data": {
      "image/png": "[encoded data removed]",
      "text/plain": [
       "<Figure size 648x648 with 2 Axes>"
      ]
     },
     "metadata": {},
     "output_type": "display_data"
    }
   ],
   "source": [
    "cm = confusion_matrix(y_hat, y_test)\n",
    "plt.figure(figsize=(9,9))\n",
    "print ('confusion matrix For decision tree model ')\n",
    "#print(cm)\n",
    "sns.heatmap(cm, annot= True, annot_kws={\"size\": 24}, fmt = 'd')\n"
   ]
  }
 ],
 "metadata": {
  "kernelspec": {
   "display_name": "Python 3",
   "language": "python",
   "name": "python3"
  },
  "language_info": {
   "codemirror_mode": {
    "name": "ipython",
    "version": 3
   },
   "file_extension": ".py",
   "mimetype": "text/x-python",
   "name": "python",
   "nbconvert_exporter": "python",
   "pygments_lexer": "ipython3",
   "version": "3.7.4"
  }
 },
 "nbformat": 4,
 "nbformat_minor": 2
}
