{
 "cells": [
  {
   "cell_type": "code",
   "execution_count": 33,
   "metadata": {},
   "outputs": [],
   "source": [
    "# Import libraries required for creating models and validating them\n",
    "import pandas as pd\n",
    "import numpy as np\n",
    "import matplotlib.pyplot as plt\n",
    "import seaborn as sns\n",
    "from sklearn import svm\n",
    "from sklearn.metrics import accuracy_score \n",
    "from sklearn.metrics import confusion_matrix\n",
    "import warnings\n",
    "from sklearn import preprocessing\n",
    "from sklearn.linear_model import LogisticRegression\n",
    "from sklearn.neighbors import KNeighborsClassifier\n",
    "from sklearn.model_selection import train_test_split\n",
    "from sklearn import metrics as mt\n",
    "import statsmodels.api as sm\n",
    "from time import time\n",
    "warnings.filterwarnings('ignore')\n",
    "from sklearn.preprocessing import StandardScaler\n",
    "import pandas as pd\n",
    "import numpy as np\n",
    "from sklearn.model_selection import StratifiedShuffleSplit"
   ]
  },
  {
   "cell_type": "code",
   "execution_count": 34,
   "metadata": {},
   "outputs": [],
   "source": [
    "ccdefault=pd.read_csv('../data//UCI_Credit_Card.csv')\n",
    "ccdefault.rename(columns={'default.payment.next.month':'DEFAULT'},inplace=True)\n",
    "ccdefault.rename(columns={'PAY_0':'PAY_1'},inplace=True)\n"
   ]
  },
  {
   "cell_type": "code",
   "execution_count": 35,
   "metadata": {},
   "outputs": [],
   "source": [
    "mcc = ccdefault.copy()\n",
    "# Y Response variable dataframe\n",
    "mcc_Y = mcc['DEFAULT']\n",
    "\n",
    "# Features with no predictive features with respect to resposne variable\n",
    "mcredit = mcc.drop(['DEFAULT'],axis=1)\n",
    "# Create inci_X Explanatory Variables DF to support the individual models\n",
    "mcc_X = mcredit\n",
    "mcc_X_knn = mcredit.copy()\n",
    "mcc_X_nb = mcredit.copy()"
   ]
  },
  {
   "cell_type": "code",
   "execution_count": 36,
   "metadata": {},
   "outputs": [
    {
     "name": "stdout",
     "output_type": "stream",
     "text": [
      "StratifiedShuffleSplit(n_splits=5, random_state=11, test_size=0.2,\n",
      "            train_size=0.8)\n",
      "TRAIN: [28976 29616 20315 ...  6063 16283 15621] TEST: [ 6669  6830 16516 ... 16163  1990  7999]\n",
      "TRAIN: [11237  9898 17028 ...  1265   611  7250] TEST: [ 4174 19421 15502 ... 19995  6124 25090]\n",
      "TRAIN: [23721 14143  5492 ...  4346  5119 23351] TEST: [21778  4074 19546 ...   941 14061 13584]\n",
      "TRAIN: [19706  2009 13912 ...  3924 20112 21366] TEST: [ 7136 15572 21097 ... 24126  8440  7078]\n",
      "TRAIN: [ 5794  1831 15948 ... 18673 15962 17274] TEST: [17565 28798 29978 ... 10151 11434 21212]\n"
     ]
    }
   ],
   "source": [
    "cc = ccdefault.copy() # taking a copy in memory\n",
    "if 'DEFAULT' in cc:\n",
    "    y = cc['DEFAULT'].values\n",
    "    del cc['DEFAULT']\n",
    "    del cc['BILL_AMT1']\n",
    "    del cc['BILL_AMT2']\n",
    "    del cc['BILL_AMT3']\n",
    "    del cc['BILL_AMT4']\n",
    "    del cc['BILL_AMT5']\n",
    "    del cc['BILL_AMT6']\n",
    "    X = cc.values\n",
    "num_cv_iterations = 5\n",
    "num_instances = len(y)\n",
    "cv_object = StratifiedShuffleSplit(n_splits = num_cv_iterations,\n",
    "test_size = 0.20, train_size = 0.80, random_state=11)\n",
    "cv_object.get_n_splits(X, y)\n",
    "print(cv_object)\n",
    "for train_index, test_index in cv_object.split(X, y):\n",
    "    print(\"TRAIN:\", train_index, \"TEST:\", test_index)\n",
    "    X_train, X_test = X[train_index], X[test_index]\n",
    "    y_train, y_test = y[train_index], y[test_index]"
   ]
  },
  {
   "cell_type": "code",
   "execution_count": 37,
   "metadata": {
    "scrolled": true
   },
   "outputs": [],
   "source": [
    "scl_obj = StandardScaler()\n",
    "scl_obj.fit(X_train) # find scalings for each column that make this zero mean and unit std\n",
    "# the line of code above only looks at training data to get mean and std and we can use it \n",
    "# to transform new feature data\n",
    "\n",
    "X_train_scaled = scl_obj.transform(X_train) # apply to training\n",
    "X_test_scaled = scl_obj.transform(X_test) # apply those means and std to the test set (without snooping at the test set values)\n",
    "\n",
    "\n",
    "X_train_scaled1 = scl_obj.fit_transform(X_train) # apply to training\n",
    "X_test_scaled1 = scl_obj.fit_transform(X_test) # apply those means and std to the test set (without snooping at the test set values)\n",
    "\n"
   ]
  },
  {
   "cell_type": "code",
   "execution_count": 38,
   "metadata": {},
   "outputs": [
    {
     "name": "stdout",
     "output_type": "stream",
     "text": [
      "accuracy: 0.6856666666666666\n",
      "[[3254 1419]\n",
      " [ 467  860]]\n",
      "              precision    recall  f1-score   support\n",
      "\n",
      "           0       0.87      0.70      0.78      4673\n",
      "           1       0.38      0.65      0.48      1327\n",
      "\n",
      "    accuracy                           0.69      6000\n",
      "   macro avg       0.63      0.67      0.63      6000\n",
      "weighted avg       0.76      0.69      0.71      6000\n",
      "\n",
      "PAY_AMT2 has weight of -0.23381316518555048\n",
      "PAY_AMT1 has weight of -0.18736715912904903\n",
      "LIMIT_BAL has weight of -0.1335240456674428\n",
      "MARRIAGE has weight of -0.08149421078370524\n",
      "EDUCATION has weight of -0.07943055435663142\n",
      "PAY_AMT4 has weight of -0.059024823475476204\n",
      "PAY_AMT6 has weight of -0.05231386588336771\n",
      "PAY_AMT5 has weight of -0.050695283560333204\n",
      "SEX has weight of -0.04976924263184582\n",
      "PAY_AMT3 has weight of -0.04172415157530846\n",
      "ID has weight of -0.02597942964986453\n",
      "PAY_6 has weight of -0.015309773354164948\n",
      "PAY_4 has weight of 0.006083933585685117\n",
      "PAY_5 has weight of 0.04187370529605748\n",
      "AGE has weight of 0.07509213815668006\n",
      "PAY_2 has weight of 0.08191692102375031\n",
      "PAY_3 has weight of 0.09832286130888533\n",
      "PAY_1 has weight of 0.563102920859467\n"
     ]
    }
   ],
   "source": [
    "# train the model just as before\n",
    "lr_clf = LogisticRegression(penalty='l2', C=1, class_weight='balanced') # get object, the 'C' value is less (can you guess why??)\n",
    "lr_clf.fit(X_train_scaled,y_train)  # train object\n",
    "\n",
    "y_hat = lr_clf.predict(X_test_scaled) # get test set precitions\n",
    "\n",
    "acc = mt.accuracy_score(y_test,y_hat)\n",
    "conf = mt.confusion_matrix(y_test,y_hat)\n",
    "print('accuracy:', acc )\n",
    "print(conf )\n",
    "ClassReport = mt.classification_report(y_test,y_hat)\n",
    "print(ClassReport)\n",
    "\n",
    "# sort these attributes and spit them out\n",
    "zip_vars = zip(lr_clf.coef_.T,cc.columns) # combine attributes\n",
    "zip_vars = sorted(zip_vars)\n",
    "for coef, name in zip_vars:\n",
    "    print(name, 'has weight of', coef[0]) # now print them out"
   ]
  },
  {
   "cell_type": "code",
   "execution_count": 39,
   "metadata": {
    "scrolled": false
   },
   "outputs": [
    {
     "name": "stdout",
     "output_type": "stream",
     "text": [
      "The time it takes to fit and predict is 0.6491928100585938\n",
      "\n",
      "====Iteration 0  ====\n",
      "accuracy 0.7488333333333334\n",
      "confusion matrix\n",
      " [[4297  376]\n",
      " [1131  196]]\n",
      "\n",
      " *** CLASSIFICATION REPORT ****\n",
      "              precision    recall  f1-score   support\n",
      "\n",
      "           0       0.79      0.92      0.85      4673\n",
      "           1       0.34      0.15      0.21      1327\n",
      "\n",
      "    accuracy                           0.75      6000\n",
      "   macro avg       0.57      0.53      0.53      6000\n",
      "weighted avg       0.69      0.75      0.71      6000\n",
      "\n",
      "The time it takes to fit and predict is 0.6283366680145264\n",
      "\n",
      "====Iteration 1  ====\n",
      "accuracy 0.749\n",
      "confusion matrix\n",
      " [[4314  359]\n",
      " [1147  180]]\n",
      "\n",
      " *** CLASSIFICATION REPORT ****\n",
      "              precision    recall  f1-score   support\n",
      "\n",
      "           0       0.79      0.92      0.85      4673\n",
      "           1       0.33      0.14      0.19      1327\n",
      "\n",
      "    accuracy                           0.75      6000\n",
      "   macro avg       0.56      0.53      0.52      6000\n",
      "weighted avg       0.69      0.75      0.71      6000\n",
      "\n",
      "The time it takes to fit and predict is 0.6363520622253418\n",
      "\n",
      "====Iteration 2  ====\n",
      "accuracy 0.7536666666666667\n",
      "confusion matrix\n",
      " [[4320  353]\n",
      " [1125  202]]\n",
      "\n",
      " *** CLASSIFICATION REPORT ****\n",
      "              precision    recall  f1-score   support\n",
      "\n",
      "           0       0.79      0.92      0.85      4673\n",
      "           1       0.36      0.15      0.21      1327\n",
      "\n",
      "    accuracy                           0.75      6000\n",
      "   macro avg       0.58      0.54      0.53      6000\n",
      "weighted avg       0.70      0.75      0.71      6000\n",
      "\n",
      "The time it takes to fit and predict is 0.6396811008453369\n",
      "\n",
      "====Iteration 3  ====\n",
      "accuracy 0.7496666666666667\n",
      "confusion matrix\n",
      " [[4317  356]\n",
      " [1146  181]]\n",
      "\n",
      " *** CLASSIFICATION REPORT ****\n",
      "              precision    recall  f1-score   support\n",
      "\n",
      "           0       0.79      0.92      0.85      4673\n",
      "           1       0.34      0.14      0.19      1327\n",
      "\n",
      "    accuracy                           0.75      6000\n",
      "   macro avg       0.56      0.53      0.52      6000\n",
      "weighted avg       0.69      0.75      0.71      6000\n",
      "\n",
      "The time it takes to fit and predict is 0.6435229778289795\n",
      "\n",
      "====Iteration 4  ====\n",
      "accuracy 0.7526666666666667\n",
      "confusion matrix\n",
      " [[4315  358]\n",
      " [1126  201]]\n",
      "\n",
      " *** CLASSIFICATION REPORT ****\n",
      "              precision    recall  f1-score   support\n",
      "\n",
      "           0       0.79      0.92      0.85      4673\n",
      "           1       0.36      0.15      0.21      1327\n",
      "\n",
      "    accuracy                           0.75      6000\n",
      "   macro avg       0.58      0.54      0.53      6000\n",
      "weighted avg       0.70      0.75      0.71      6000\n",
      "\n",
      "The average time to fit and predict 3 logistic regressions with 80/20 training/test split is: 0.6394171237945556\n"
     ]
    }
   ],
   "source": [
    "# first we create a reusable logisitic regression object\n",
    "#   here we can setup the object with different learning parameters and constants\n",
    "lr_clf = LogisticRegression(penalty='l1', C=1, class_weight=None) # get object\n",
    "#WARNING: THE FIRST WIEGHT WAS 1 \n",
    "iter_num=0\n",
    "times_rec=[]\n",
    "for train_indices, test_indices in cv_object.split(X,y): \n",
    "    X_train = X[train_indices]\n",
    "    y_train = y[train_indices]\n",
    "    \n",
    "    X_test = X[test_indices]\n",
    "    y_test = y[test_indices]\n",
    "    \n",
    "     #we count the time in executing the logistic regression\n",
    "    t0 = time()\n",
    "    knn = KNeighborsClassifier()\n",
    "    knn.fit(X_train,y_train)  # train object\n",
    "    y_hat = knn.predict(X_test) # get test set precitions\n",
    "    \n",
    "    t1=time()\n",
    "    diff=np.array([t1-t0])\n",
    "    \n",
    "    print (\"The time it takes to fit and predict is \" + str(diff[0]) + \"\\n\")    \n",
    "    times_rec=np.append(times_rec,diff)\n",
    "    \n",
    "\n",
    "    # now let's get the accuracy and confusion matrix for this iterations of training/testing\n",
    "    acc = mt.accuracy_score(y_test,y_hat)\n",
    "    conf = mt.confusion_matrix(y_test,y_hat)\n",
    "    print(\"====Iteration\",iter_num,\" ====\")\n",
    "    print(\"accuracy\", acc )\n",
    "    print(\"confusion matrix\\n\",conf)\n",
    "    \n",
    "    print(\"\\n *** CLASSIFICATION REPORT ****\")\n",
    "    #### CLASSIFICATION REPORT\n",
    "    ClassReport = mt.classification_report(y_test,y_hat)\n",
    "    print(ClassReport)\n",
    "    \n",
    "    iter_num+=1\n",
    "    \n",
    "    \n",
    "print(\"The average time to fit and predict 3 logistic regressions with 80/20 training/test split is: \" + str(times_rec.mean()) )"
   ]
  },
  {
   "cell_type": "code",
   "execution_count": 40,
   "metadata": {
    "scrolled": false
   },
   "outputs": [
    {
     "name": "stdout",
     "output_type": "stream",
     "text": [
      "confusion matrix For knn model \n",
      "[[4315 1126]\n",
      " [ 358  201]]\n"
     ]
    },
    {
     "data": {
      "text/plain": [
       "<matplotlib.axes._subplots.AxesSubplot at 0x1a1bc72450>"
      ]
     },
     "execution_count": 40,
     "metadata": {},
     "output_type": "execute_result"
    },
    {
     "data": {
      "image/png": "[encoded data removed]",
      "text/plain": [
       "<Figure size 648x648 with 2 Axes>"
      ]
     },
     "metadata": {
      "needs_background": "light"
     },
     "output_type": "display_data"
    }
   ],
   "source": [
    "cm = confusion_matrix(y_hat, y_test)\n",
    "plt.figure(figsize=(9,9))\n",
    "print ('confusion matrix For knn model ')\n",
    "print(cm)\n",
    "sns.heatmap(cm, annot= True, annot_kws={\"size\": 24}, fmt = 'd')\n"
   ]
  },
  {
   "cell_type": "code",
   "execution_count": 41,
   "metadata": {},
   "outputs": [],
   "source": [
    "from sklearn import tree\n",
    "clf = tree.DecisionTreeClassifier()\n",
    "clf.fit(X_train,y_train)  # train object\n",
    "y_hat = clf.predict(X_test) "
   ]
  },
  {
   "cell_type": "code",
   "execution_count": 42,
   "metadata": {
    "scrolled": true
   },
   "outputs": [
    {
     "name": "stdout",
     "output_type": "stream",
     "text": [
      "confusion matrix For knn model \n",
      "[[3803  768]\n",
      " [ 870  559]]\n"
     ]
    },
    {
     "data": {
      "text/plain": [
       "<matplotlib.axes._subplots.AxesSubplot at 0x1a1cfed2d0>"
      ]
     },
     "execution_count": 42,
     "metadata": {},
     "output_type": "execute_result"
    },
    {
     "data": {
      "image/png": "[encoded data removed]",
      "text/plain": [
       "<Figure size 648x648 with 2 Axes>"
      ]
     },
     "metadata": {
      "needs_background": "light"
     },
     "output_type": "display_data"
    }
   ],
   "source": [
    "cm = confusion_matrix(y_hat, y_test)\n",
    "plt.figure(figsize=(9,9))\n",
    "print ('confusion matrix For decision tree model ')\n",
    "print(cm)\n",
    "sns.heatmap(cm, annot= True, annot_kws={\"size\": 24}, fmt = 'd')"
   ]
  },
  {
   "cell_type": "code",
   "execution_count": 43,
   "metadata": {
    "scrolled": true
   },
   "outputs": [
    {
     "name": "stdout",
     "output_type": "stream",
     "text": [
      "accuracy: 0.727\n",
      "[[3803  870]\n",
      " [ 768  559]]\n",
      "              precision    recall  f1-score   support\n",
      "\n",
      "           0       0.83      0.81      0.82      4673\n",
      "           1       0.39      0.42      0.41      1327\n",
      "\n",
      "    accuracy                           0.73      6000\n",
      "   macro avg       0.61      0.62      0.61      6000\n",
      "weighted avg       0.73      0.73      0.73      6000\n",
      "\n"
     ]
    }
   ],
   "source": [
    "acc = mt.accuracy_score(y_test,y_hat)\n",
    "conf = mt.confusion_matrix(y_test,y_hat)\n",
    "print('accuracy:', acc )\n",
    "print(conf )\n",
    "ClassReport = mt.classification_report(y_test,y_hat)\n",
    "print(ClassReport)"
   ]
  },
  {
   "cell_type": "code",
   "execution_count": 45,
   "metadata": {},
   "outputs": [
    {
     "name": "stdout",
     "output_type": "stream",
     "text": [
      "accuracy: 0.779\n",
      "[[4051  622]\n",
      " [ 704  623]]\n"
     ]
    }
   ],
   "source": [
    "from sklearn.naive_bayes import BernoulliNB\n",
    "clf = BernoulliNB()\n",
    "clf = BernoulliNB(alpha=1.0, binarize=0.0, class_prior=None, fit_prior=True)\n",
    "\n",
    "clf.fit(X_train,y_train)  # train object\n",
    "y_hat = clf.predict(X_test) \n",
    "acc = mt.accuracy_score(y_test,y_hat)\n",
    "conf = mt.confusion_matrix(y_test,y_hat)\n",
    "print('accuracy:', acc )\n",
    "print(conf )"
   ]
  },
  {
   "cell_type": "code",
   "execution_count": null,
   "metadata": {},
   "outputs": [],
   "source": []
  }
 ],
 "metadata": {
  "kernelspec": {
   "display_name": "Python 3",
   "language": "python",
   "name": "python3"
  },
  "language_info": {
   "codemirror_mode": {
    "name": "ipython",
    "version": 3
   },
   "file_extension": ".py",
   "mimetype": "text/x-python",
   "name": "python",
   "nbconvert_exporter": "python",
   "pygments_lexer": "ipython3",
   "version": "3.7.4"
  }
 },
 "nbformat": 4,
 "nbformat_minor": 2
}
