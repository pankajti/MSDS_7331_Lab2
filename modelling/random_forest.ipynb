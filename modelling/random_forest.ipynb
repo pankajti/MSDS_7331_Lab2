{
 "cells": [
  {
   "cell_type": "code",
   "execution_count": 14,
   "metadata": {},
   "outputs": [],
   "source": [
    "# Import libraries required for creating models and validating them\n",
    "import pandas as pd\n",
    "import numpy as np\n",
    "import matplotlib.pyplot as plt\n",
    "import seaborn as sns\n",
    "from sklearn import svm\n",
    "from sklearn.metrics import accuracy_score \n",
    "from sklearn.metrics import confusion_matrix\n",
    "import warnings\n",
    "from sklearn import preprocessing\n",
    "from sklearn.model_selection import train_test_split\n",
    "from sklearn import metrics as mt\n",
    "import statsmodels.api as sm\n",
    "from time import time\n",
    "warnings.filterwarnings('ignore')\n",
    "from sklearn.preprocessing import StandardScaler\n",
    "import pandas as pd\n",
    "import numpy as np\n",
    "from sklearn.model_selection import StratifiedShuffleSplit\n",
    "from sklearn.ensemble import RandomForestClassifier\n",
    "from sklearn.tree import DecisionTreeClassifier"
   ]
  },
  {
   "cell_type": "code",
   "execution_count": 15,
   "metadata": {},
   "outputs": [],
   "source": [
    "ccdefault=pd.read_csv('../data//UCI_Credit_Card.csv')\n",
    "ccdefault.rename(columns={'default.payment.next.month':'DEFAULT'},inplace=True)\n",
    "ccdefault.rename(columns={'PAY_0':'PAY_1'},inplace=True)"
   ]
  },
  {
   "cell_type": "code",
   "execution_count": 16,
   "metadata": {},
   "outputs": [],
   "source": [
    "mcc = ccdefault.copy()\n",
    "# Y Response variable dataframe\n",
    "mcc_Y = mcc['DEFAULT']\n",
    "# Features with no predictive features with respect to resposne variable\n",
    "mcredit = mcc.drop(['DEFAULT'],axis=1)\n",
    "# Create inci_X Explanatory Variables DF to support the individual models\n",
    "mcc_X = mcredit\n",
    "mcc_X_rf = mcredit.copy()"
   ]
  },
  {
   "cell_type": "code",
   "execution_count": 17,
   "metadata": {
    "scrolled": true
   },
   "outputs": [
    {
     "name": "stdout",
     "output_type": "stream",
     "text": [
      "StratifiedShuffleSplit(n_splits=5, random_state=11, test_size=0.2,\n",
      "            train_size=0.8)\n",
      "TRAIN: [28976 29616 20315 ...  6063 16283 15621] TEST: [ 6669  6830 16516 ... 16163  1990  7999]\n",
      "TRAIN: [11237  9898 17028 ...  1265   611  7250] TEST: [ 4174 19421 15502 ... 19995  6124 25090]\n",
      "TRAIN: [23721 14143  5492 ...  4346  5119 23351] TEST: [21778  4074 19546 ...   941 14061 13584]\n",
      "TRAIN: [19706  2009 13912 ...  3924 20112 21366] TEST: [ 7136 15572 21097 ... 24126  8440  7078]\n",
      "TRAIN: [ 5794  1831 15948 ... 18673 15962 17274] TEST: [17565 28798 29978 ... 10151 11434 21212]\n"
     ]
    }
   ],
   "source": [
    "cc = ccdefault.copy() # taking a copy in memory\n",
    "if 'DEFAULT' in cc:\n",
    "    y = cc['DEFAULT'].values\n",
    "    del cc['DEFAULT']\n",
    "    del cc['BILL_AMT1']\n",
    "    del cc['BILL_AMT2']\n",
    "    del cc['BILL_AMT3']\n",
    "    del cc['BILL_AMT4']\n",
    "    del cc['BILL_AMT5']\n",
    "    del cc['BILL_AMT6']\n",
    "    X = cc.values\n",
    "num_cv_iterations = 5\n",
    "num_instances = len(y)\n",
    "cv_object = StratifiedShuffleSplit(n_splits = num_cv_iterations,\n",
    "test_size = 0.20, train_size = 0.80, random_state=11)\n",
    "cv_object.get_n_splits(X, y)\n",
    "print(cv_object)\n",
    "for train_index, test_index in cv_object.split(X, y):\n",
    "    print(\"TRAIN:\", train_index, \"TEST:\", test_index)\n",
    "    X_train, X_test = X[train_index], X[test_index]\n",
    "    y_train, y_test = y[train_index], y[test_index]"
   ]
  },
  {
   "cell_type": "code",
   "execution_count": 18,
   "metadata": {},
   "outputs": [],
   "source": [
    "scl_obj = StandardScaler()\n",
    "scl_obj.fit(X_train) # find scalings for each column that make this zero mean and unit std\n",
    "# the line of code above only looks at training data to get mean and std and we can use it \n",
    "# to transform new feature data\n",
    "\n",
    "X_train_scaled = scl_obj.transform(X_train) # apply to training\n",
    "X_test_scaled = scl_obj.transform(X_test) # apply those means and std to the test set (without snooping at the test set values)\n",
    "\n",
    "\n",
    "X_train_scaled1 = scl_obj.fit_transform(X_train) # apply to training\n",
    "X_test_scaled1 = scl_obj.fit_transform(X_test) # apply those means and std to the test set (without snooping at the test set values)\n",
    "\n"
   ]
  },
  {
   "cell_type": "code",
   "execution_count": 19,
   "metadata": {
    "scrolled": true
   },
   "outputs": [
    {
     "name": "stdout",
     "output_type": "stream",
     "text": [
      "accuracy: 0.8085\n",
      "[[4535  138]\n",
      " [1011  316]]\n",
      "              precision    recall  f1-score   support\n",
      "\n",
      "           0       0.82      0.97      0.89      4673\n",
      "           1       0.70      0.24      0.35      1327\n",
      "\n",
      "    accuracy                           0.81      6000\n",
      "   macro avg       0.76      0.60      0.62      6000\n",
      "weighted avg       0.79      0.81      0.77      6000\n",
      "\n",
      "AGE has weight of 0.0\n",
      "MARRIAGE has weight of 0.0\n",
      "SEX has weight of 0.0\n",
      "ID has weight of 0.00013251283379621742\n",
      "EDUCATION has weight of 0.0004081221520963373\n",
      "PAY_AMT5 has weight of 0.001929294561442788\n",
      "PAY_AMT4 has weight of 0.0028953024661164863\n",
      "PAY_AMT6 has weight of 0.003324660433400152\n",
      "PAY_AMT2 has weight of 0.01676467739014035\n",
      "PAY_AMT3 has weight of 0.018098233123100806\n",
      "PAY_AMT1 has weight of 0.023964159165862947\n",
      "LIMIT_BAL has weight of 0.024302014109784872\n",
      "PAY_6 has weight of 0.04764432702003415\n",
      "PAY_4 has weight of 0.0691812377615732\n",
      "PAY_5 has weight of 0.1130346009619896\n",
      "PAY_3 has weight of 0.14306434264065562\n",
      "PAY_2 has weight of 0.2630703788450619\n",
      "PAY_1 has weight of 0.2721861365349446\n"
     ]
    }
   ],
   "source": [
    "# train the model just as before\n",
    "random_forest = RandomForestClassifier(n_estimators=100, max_depth=2,\n",
    "                             random_state=0)\n",
    "\n",
    "random_forest.fit(X_train_scaled,y_train)  # train object\n",
    "\n",
    "y_hat = random_forest.predict(X_test_scaled) # get test set precitions\n",
    "\n",
    "acc = mt.accuracy_score(y_test,y_hat)\n",
    "conf = mt.confusion_matrix(y_test,y_hat)\n",
    "print('accuracy:', acc )\n",
    "print(conf )\n",
    "ClassReport = mt.classification_report(y_test,y_hat)\n",
    "print(ClassReport)\n",
    "\n",
    "zip_vars = zip(random_forest.feature_importances_ ,cc.columns) # combine attributes\n",
    "zip_vars = sorted(zip_vars)\n",
    "for coef, name in zip_vars:\n",
    "    print(name, 'has weight of', coef) # now print them out"
   ]
  },
  {
   "cell_type": "code",
   "execution_count": 7,
   "metadata": {},
   "outputs": [
    {
     "name": "stdout",
     "output_type": "stream",
     "text": [
      "The time it takes to fit and predict is 0.9289908409118652\n",
      "\n",
      "====Iteration 0  ====\n",
      "accuracy 0.8045\n",
      "confusion matrix\n",
      " [[4535  138]\n",
      " [1035  292]]\n",
      "\n",
      " *** CLASSIFICATION REPORT ****\n",
      "              precision    recall  f1-score   support\n",
      "\n",
      "           0       0.81      0.97      0.89      4673\n",
      "           1       0.68      0.22      0.33      1327\n",
      "\n",
      "    accuracy                           0.80      6000\n",
      "   macro avg       0.75      0.60      0.61      6000\n",
      "weighted avg       0.78      0.80      0.76      6000\n",
      "\n",
      "The time it takes to fit and predict is 0.8351020812988281\n",
      "\n",
      "====Iteration 1  ====\n",
      "accuracy 0.805\n",
      "confusion matrix\n",
      " [[4545  128]\n",
      " [1042  285]]\n",
      "\n",
      " *** CLASSIFICATION REPORT ****\n",
      "              precision    recall  f1-score   support\n",
      "\n",
      "           0       0.81      0.97      0.89      4673\n",
      "           1       0.69      0.21      0.33      1327\n",
      "\n",
      "    accuracy                           0.81      6000\n",
      "   macro avg       0.75      0.59      0.61      6000\n",
      "weighted avg       0.79      0.81      0.76      6000\n",
      "\n",
      "The time it takes to fit and predict is 0.814802885055542\n",
      "\n",
      "====Iteration 2  ====\n",
      "accuracy 0.8035\n",
      "confusion matrix\n",
      " [[4548  125]\n",
      " [1054  273]]\n",
      "\n",
      " *** CLASSIFICATION REPORT ****\n",
      "              precision    recall  f1-score   support\n",
      "\n",
      "           0       0.81      0.97      0.89      4673\n",
      "           1       0.69      0.21      0.32      1327\n",
      "\n",
      "    accuracy                           0.80      6000\n",
      "   macro avg       0.75      0.59      0.60      6000\n",
      "weighted avg       0.78      0.80      0.76      6000\n",
      "\n",
      "The time it takes to fit and predict is 0.8259589672088623\n",
      "\n",
      "====Iteration 3  ====\n",
      "accuracy 0.8085\n",
      "confusion matrix\n",
      " [[4549  124]\n",
      " [1025  302]]\n",
      "\n",
      " *** CLASSIFICATION REPORT ****\n",
      "              precision    recall  f1-score   support\n",
      "\n",
      "           0       0.82      0.97      0.89      4673\n",
      "           1       0.71      0.23      0.34      1327\n",
      "\n",
      "    accuracy                           0.81      6000\n",
      "   macro avg       0.76      0.60      0.62      6000\n",
      "weighted avg       0.79      0.81      0.77      6000\n",
      "\n",
      "The time it takes to fit and predict is 0.8480257987976074\n",
      "\n",
      "====Iteration 4  ====\n",
      "accuracy 0.8085\n",
      "confusion matrix\n",
      " [[4535  138]\n",
      " [1011  316]]\n",
      "\n",
      " *** CLASSIFICATION REPORT ****\n",
      "              precision    recall  f1-score   support\n",
      "\n",
      "           0       0.82      0.97      0.89      4673\n",
      "           1       0.70      0.24      0.35      1327\n",
      "\n",
      "    accuracy                           0.81      6000\n",
      "   macro avg       0.76      0.60      0.62      6000\n",
      "weighted avg       0.79      0.81      0.77      6000\n",
      "\n",
      "The average time to fit and predict 3 logistic regressions with 80/20 training/test split is: 0.850576114654541\n"
     ]
    }
   ],
   "source": [
    "iter_num=0\n",
    "times_rec=[]\n",
    "for train_indices, test_indices in cv_object.split(X,y): \n",
    "    X_train = X[train_indices]\n",
    "    y_train = y[train_indices]\n",
    "    \n",
    "    X_test = X[test_indices]\n",
    "    y_test = y[test_indices]\n",
    "    \n",
    "     #we count the time in executing the logistic regression\n",
    "    t0 = time()\n",
    "    random_forest = RandomForestClassifier(n_estimators=100, max_depth=2,\n",
    "                             random_state=0)\n",
    "    random_forest.fit(X_train,y_train)  # train object\n",
    "    y_hat = random_forest.predict(X_test) # get test set precitions\n",
    "    \n",
    "    t1=time()\n",
    "    diff=np.array([t1-t0])\n",
    "    \n",
    "    print (\"The time it takes to fit and predict is \" + str(diff[0]) + \"\\n\")    \n",
    "    times_rec=np.append(times_rec,diff)\n",
    "    \n",
    "\n",
    "    # now let's get the accuracy and confusion matrix for this iterations of training/testing\n",
    "    acc = mt.accuracy_score(y_test,y_hat)\n",
    "    conf = mt.confusion_matrix(y_test,y_hat)\n",
    "    print(\"====Iteration\",iter_num,\" ====\")\n",
    "    print(\"accuracy\", acc )\n",
    "    print(\"confusion matrix\\n\",conf)\n",
    "    \n",
    "    print(\"\\n *** CLASSIFICATION REPORT ****\")\n",
    "    #### CLASSIFICATION REPORT\n",
    "    ClassReport = mt.classification_report(y_test,y_hat)\n",
    "    print(ClassReport)\n",
    "    \n",
    "    iter_num+=1\n",
    "    \n",
    "    \n",
    "print(\"The average time to fit and predict 3 logistic regressions with 80/20 training/test split is: \" + str(times_rec.mean()) )"
   ]
  },
  {
   "cell_type": "code",
   "execution_count": 20,
   "metadata": {},
   "outputs": [
    {
     "data": {
      "image/png": "[encoded data removed]",
      "text/plain": [
       "<Figure size 720x432 with 1 Axes>"
      ]
     },
     "metadata": {},
     "output_type": "display_data"
    }
   ],
   "source": [
    "from matplotlib import pyplot as plt\n",
    "%matplotlib inline\n",
    "plt.style.use('ggplot')\n",
    "\n",
    "plt.figure(figsize=(10,6))\n",
    "weights = pd.Series(random_forest.feature_importances_,index=cc.columns)\n",
    "weights.plot(kind='bar')\n",
    "plt.show()"
   ]
  },
  {
   "cell_type": "code",
   "execution_count": 21,
   "metadata": {},
   "outputs": [
    {
     "data": {
      "image/png": "[encoded data removed]",
      "text/plain": [
       "<Figure size 432x288 with 1 Axes>"
      ]
     },
     "metadata": {},
     "output_type": "display_data"
    },
    {
     "data": {
      "text/plain": [
       "<matplotlib.axes._subplots.AxesSubplot at 0x1c2338e850>"
      ]
     },
     "execution_count": 21,
     "metadata": {},
     "output_type": "execute_result"
    }
   ],
   "source": [
    "from yellowbrick.classifier import PrecisionRecallCurve\n",
    "\n",
    "# Create the visualizer, fit, score, and show it\n",
    "viz = PrecisionRecallCurve(random_forest)\n",
    "viz.fit(X_train, y_train)\n",
    "viz.score(X_test, y_test)\n",
    "viz.show()"
   ]
  },
  {
   "cell_type": "code",
   "execution_count": 8,
   "metadata": {},
   "outputs": [
    {
     "name": "stdout",
     "output_type": "stream",
     "text": [
      "confusion matrix For random forest  model \n",
      "[[4535 1011]\n",
      " [ 138  316]]\n"
     ]
    },
    {
     "data": {
      "text/plain": [
       "<matplotlib.axes._subplots.AxesSubplot at 0x1c1f5f18d0>"
      ]
     },
     "execution_count": 8,
     "metadata": {},
     "output_type": "execute_result"
    },
    {
     "data": {
      "image/png": "[encoded data removed]",
      "text/plain": [
       "<Figure size 648x648 with 2 Axes>"
      ]
     },
     "metadata": {
      "needs_background": "light"
     },
     "output_type": "display_data"
    }
   ],
   "source": [
    "cm = confusion_matrix(y_hat, y_test)\n",
    "plt.figure(figsize=(9,9))\n",
    "print ('confusion matrix For random forest  model ')\n",
    "print(cm)\n",
    "sns.heatmap(cm, annot= True, annot_kws={\"size\": 24}, fmt = 'd')"
   ]
  },
  {
   "cell_type": "code",
   "execution_count": 9,
   "metadata": {
    "scrolled": false
   },
   "outputs": [
    {
     "name": "stdout",
     "output_type": "stream",
     "text": [
      "accuracy: 0.7753333333333333\n",
      "[[3891  782]\n",
      " [ 566  761]]\n",
      "              precision    recall  f1-score   support\n",
      "\n",
      "           0       0.87      0.83      0.85      4673\n",
      "           1       0.49      0.57      0.53      1327\n",
      "\n",
      "    accuracy                           0.78      6000\n",
      "   macro avg       0.68      0.70      0.69      6000\n",
      "weighted avg       0.79      0.78      0.78      6000\n",
      "\n",
      "AGE has weight of 0.0\n",
      "ID has weight of 0.0\n",
      "MARRIAGE has weight of 0.0\n",
      "SEX has weight of 0.0\n",
      "EDUCATION has weight of 0.00030705437839314436\n",
      "PAY_AMT5 has weight of 0.0030217435428550165\n",
      "PAY_AMT6 has weight of 0.00598177791031896\n",
      "PAY_AMT4 has weight of 0.01258954994664686\n",
      "PAY_AMT2 has weight of 0.022905822123317206\n",
      "PAY_AMT3 has weight of 0.026102092945084362\n",
      "PAY_AMT1 has weight of 0.028319001004733294\n",
      "LIMIT_BAL has weight of 0.03632377536945605\n",
      "PAY_6 has weight of 0.038802569414529094\n",
      "PAY_4 has weight of 0.06100308931915917\n",
      "PAY_5 has weight of 0.09329854982743202\n",
      "PAY_3 has weight of 0.1544061413298047\n",
      "PAY_1 has weight of 0.25733547723708605\n",
      "PAY_2 has weight of 0.2596033556511841\n"
     ]
    },
    {
     "data": {
      "image/png": "[encoded data removed]",
      "text/plain": [
       "<Figure size 720x432 with 1 Axes>"
      ]
     },
     "metadata": {},
     "output_type": "display_data"
    }
   ],
   "source": [
    "random_forest = RandomForestClassifier(n_estimators=100, max_depth=2,\n",
    "                             random_state=0, class_weight='balanced')\n",
    "\n",
    "random_forest.fit(X_train_scaled,y_train)  # train object\n",
    "\n",
    "y_hat = random_forest.predict(X_test_scaled) # get test set precitions\n",
    "\n",
    "acc = mt.accuracy_score(y_test,y_hat)\n",
    "conf = mt.confusion_matrix(y_test,y_hat)\n",
    "print('accuracy:', acc )\n",
    "print(conf )\n",
    "ClassReport = mt.classification_report(y_test,y_hat)\n",
    "print(ClassReport)\n",
    "\n",
    "zip_vars = zip(random_forest.feature_importances_ ,cc.columns) # combine attributes\n",
    "zip_vars = sorted(zip_vars)\n",
    "for coef, name in zip_vars:\n",
    "    print(name, 'has weight of', coef) # now print them out\n",
    "\n",
    "from matplotlib import pyplot as plt\n",
    "%matplotlib inline\n",
    "plt.style.use('ggplot')\n",
    "\n",
    "plt.figure(figsize=(10,6))\n",
    "weights = pd.Series(random_forest.feature_importances_,index=cc.columns)\n",
    "weights.plot(kind='bar')\n",
    "plt.show()\n",
    "\n"
   ]
  },
  {
   "cell_type": "code",
   "execution_count": 10,
   "metadata": {},
   "outputs": [
    {
     "name": "stdout",
     "output_type": "stream",
     "text": [
      "confusion matrix For random forest  model \n",
      "[[3891  566]\n",
      " [ 782  761]]\n"
     ]
    },
    {
     "data": {
      "text/plain": [
       "<matplotlib.axes._subplots.AxesSubplot at 0x10a2c3050>"
      ]
     },
     "execution_count": 10,
     "metadata": {},
     "output_type": "execute_result"
    },
    {
     "data": {
      "image/png": "[encoded data removed]",
      "text/plain": [
       "<Figure size 648x648 with 2 Axes>"
      ]
     },
     "metadata": {},
     "output_type": "display_data"
    }
   ],
   "source": [
    "cm = confusion_matrix(y_hat, y_test)\n",
    "plt.figure(figsize=(9,9))\n",
    "print ('confusion matrix For random forest  model ')\n",
    "print(cm)\n",
    "sns.heatmap(cm, annot= True, annot_kws={\"size\": 24}, fmt = 'd')\n"
   ]
  },
  {
   "cell_type": "markdown",
   "metadata": {},
   "source": [
    "Following is a Comparison of Decision Tree and Random forest classifiers with same date. We are using error estimates to compare two models. The error estimates should follow Gaussian distribution. We calculate mean and standard error using the formula discussed in the class. \n",
    "<TODO add image and formula >\n",
    "    We are caclulating confidence interval for error differences to figure out if the differences are significant"
   ]
  },
  {
   "cell_type": "code",
   "execution_count": 11,
   "metadata": {},
   "outputs": [
    {
     "name": "stdout",
     "output_type": "stream",
     "text": [
      "[-0.0675, -0.08066666666666666, -0.07899999999999996, -0.09083333333333332, -0.07983333333333331]\n"
     ]
    }
   ],
   "source": [
    "iter_num=0\n",
    "times_rec=[]\n",
    "error_rec= [] \n",
    "for train_indices, test_indices in cv_object.split(X,y): \n",
    "    X_train = X[train_indices]\n",
    "    y_train = y[train_indices]\n",
    "    X_test = X[test_indices]\n",
    "    y_test = y[test_indices]\n",
    "    \n",
    "    decision_tree = DecisionTreeClassifier()\n",
    "    decision_tree.fit(X_train,y_train) # train object\n",
    "    \n",
    "    random_forest = RandomForestClassifier(n_estimators=100, max_depth=2,\n",
    "                             random_state=0)\n",
    "    random_forest.fit(X_train,y_train) \n",
    "    \n",
    "    y_hat_dt = decision_tree.predict(X_test) \n",
    "    y_hat_rf = random_forest.predict(X_test) \n",
    "\n",
    "    # now let's get the accuracy and confusion matrix for this iterations of training/testing\n",
    "    acc_dt = mt.accuracy_score(y_test,y_hat_dt)\n",
    "    acc_rf = mt.accuracy_score(y_test,y_hat_rf)\n",
    "    error_rec.append(acc_dt - acc_rf)\n",
    "\n",
    "    iter_num+=1\n",
    "\n",
    "print(error_rec)\n",
    "\n"
   ]
  },
  {
   "cell_type": "code",
   "execution_count": 62,
   "metadata": {},
   "outputs": [
    {
     "name": "stdout",
     "output_type": "stream",
     "text": [
      "-0.08170000000000002\n",
      "6.938893903907228e-18\n"
     ]
    }
   ],
   "source": [
    "d_bar = sum(error_rec)/len(error_rec)\n",
    "siqma_squared = sum((error_rec - d_bar))/(5-1)\n",
    "print(d_bar)\n",
    "print(siqma_squared)"
   ]
  },
  {
   "cell_type": "code",
   "execution_count": 60,
   "metadata": {},
   "outputs": [
    {
     "name": "stdout",
     "output_type": "stream",
     "text": [
      "(-1.4699225525988995, 1.3065225525988993)\n"
     ]
    }
   ],
   "source": [
    "from scipy import stats\n",
    "import math\n",
    "\n",
    "confidence_interval = ( d_bar + (1/math.sqrt(4))*stats.t.isf(.975, 4),  d_bar - (1/math.sqrt(4))*stats.t.isf(.975, 4))\n",
    "print(confidence_interval)\n"
   ]
  },
  {
   "cell_type": "code",
   "execution_count": null,
   "metadata": {},
   "outputs": [],
   "source": []
  }
 ],
 "metadata": {
  "kernelspec": {
   "display_name": "Python 3",
   "language": "python",
   "name": "python3"
  },
  "language_info": {
   "codemirror_mode": {
    "name": "ipython",
    "version": 3
   },
   "file_extension": ".py",
   "mimetype": "text/x-python",
   "name": "python",
   "nbconvert_exporter": "python",
   "pygments_lexer": "ipython3",
   "version": "3.7.4"
  }
 },
 "nbformat": 4,
 "nbformat_minor": 2
}
